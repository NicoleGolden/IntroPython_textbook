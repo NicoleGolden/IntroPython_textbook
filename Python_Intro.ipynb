{
 "cells": [
  {
   "cell_type": "markdown",
   "metadata": {},
   "source": [
    "### 15 Python Libraries for Data Science"
   ]
  },
  {
   "cell_type": "markdown",
   "metadata": {},
   "source": [
    "reference: https://www.dataquest.io/blog/15-python-libraries-for-data-science/\n",
    "<p>\n",
    "\n",
    "**I. Data Mining**<br>\n",
    "**(1) Scrapy**<br>\n",
    "It retrieves structured data from the web.<br>\n",
    "It's a great tool for scraping data used in, for example, Python machine learning models (ex: URLs or contact info). \n",
    "\n",
    "**(2) BeautifulSoup**<br>\n",
    "It's for web crawling and data scraping. <br>\n",
    "BeautifulSoup can help collect data that’s available on some websites and arrange into the format you need. <br>\n",
    "\n",
    "**II. Data Processing and Modeling**<br>\n",
    "**(3) NumPy**<br>\n",
    "It's for for scientific computing and performing basic and advanced array operations.<br>\n",
    "It offers many handy features performing operations on n-arrays and matrices in Python. <br>\n",
    "It helps to process arrays that store values of the same data type and makes performing math operations on arrays (and their vectorization) easier. \n",
    "\n",
    "**(4) SciPy**<br>\n",
    "It includes modules for linear algebra, integration, optimization, and statistics. <br>\n",
    "Its main functionality was built upon NumPy, so its arrays make use of this library. <br>\n",
    "SciPy works great for all kinds of scientific programming projects (science, mathematics, and engineering). \n",
    "    \n",
    "**(5) Pandas**<br>\n",
    "It works with \"labeled\" and \"relational\" data intuitively. <br>\n",
    "It's based on two main data structures: \"Series\" (1D, like a list of items) and \"Data Frames\" (2D, like a table with multiple columns). <br>\n",
    "Pandas allows converting data structures to DataFrame objects, handling missing data, and adding/deleting columns from DataFrame, imputing missing files, and plotting data with histogram or plot box. \n",
    "    \n",
    "**(6) Keras**<br>\n",
    "It builds neural networks and modeling. <br>\n",
    "It takes advantage of other packages, (Theano or TensorFlow) as its backends. <br>\n",
    "It's a great pick if you want to experiment quickly using compact systems.\n",
    "    \n",
    "**(7) SciKit-Learn**<br>\n",
    "It's a group of packages in the SciPy Stack that were created for specific functionalities (ex: image processing). <br>\n",
    "It uses the math operations of SciPy to expose a concise interface to the most common machine learning algorithms. \n",
    "    \n",
    "**(8) PyTorch**<br>\n",
    "It performs deep learning tasks easily. <br>\n",
    "The tool allows performing tensor computations with GPU acceleration. <br>\n",
    "It's also good for creating dynamic computational graphs and calculating gradients automatically. \n",
    "    \n",
    "**(9) TensorFlow**<br>\n",
    "It's good for machine learning and deep learning. <br>\n",
    "It's the best tool for tasks like object identification, speech recognition, and many others. <br>\n",
    "It helps in working with artificial neural networks that need to handle multiple data sets.\n",
    "    \n",
    "**(10) XGBoost**<br>\n",
    "It implements machine learning algorithms under the Gradient Boosting framework. <br>\n",
    "It offers parallel tree boosting that helps teams to resolve many data science problems.\n",
    "\n",
    "**III. Data Visualization**\n",
    "\n",
    "**(11) Matplotlib**<br>\n",
    "It generates data visualizations such as two-dimensional diagrams and graphs (histograms, scatterplots, non-Cartesian coordinates graphs). \n",
    "\n",
    "**(12) Seaborn**<br>\n",
    "It serves as a useful Python machine learning tool for visualizing statistical models: <br>\n",
    "heatmaps and other types of visualizations that summarize data and depict the overall distributions. <br>\n",
    "When using this library, you get to benefit from an extensive gallery of visualizations (including complex ones like time series, joint plots, and violin diagrams).\n",
    "\n",
    "**(13) Bokeh**<br>\n",
    "It creates interactive and scalable visualizations inside browsers using JavaScript widgets. <br>\n",
    "It offers a set of graphs, interaction abilities (like linking plots or adding JavaScript widgets), and styling.\n",
    "    \n",
    "**(14) Plotly**<br>\n",
    "It works very well in interactive web applications. <br>\n",
    "Its creators are busy expanding the library with new graphics and features for supporting multiple linked views, animation, and crosstalk integration.\n",
    "    \n",
    "**(15) pydot**<br>\n",
    "It generates oriented and non-oriented graphs.<br>\n",
    "That comes in handy when you're developing algorithms based on neural networks and decision trees."
   ]
  },
  {
   "cell_type": "markdown",
   "metadata": {},
   "source": [
    "### Set up python environment"
   ]
  },
  {
   "cell_type": "code",
   "execution_count": 603,
   "metadata": {},
   "outputs": [],
   "source": [
    "# setup environment to print out output for multiple commands in one cell \n",
    "\n",
    "from IPython.core.interactiveshell import InteractiveShell\n",
    "InteractiveShell.ast_node_interactivity = \"all\""
   ]
  },
  {
   "cell_type": "markdown",
   "metadata": {},
   "source": [
    "### Read multiple files"
   ]
  },
  {
   "cell_type": "code",
   "execution_count": 758,
   "metadata": {},
   "outputs": [
    {
     "name": "stdout",
     "output_type": "stream",
     "text": [
      "/Users/nicoleyin88/Documents/* Data Science/8. python\n"
     ]
    }
   ],
   "source": [
    "# set file path \n",
    "# NOTE: exclude folder name where the file1.csv, file2.csv are located!!!\n",
    "\n",
    "cd /Users/nicoleyin88/Documents/\\*\\ Data\\ Science/8.\\ python/"
   ]
  },
  {
   "cell_type": "code",
   "execution_count": 759,
   "metadata": {},
   "outputs": [
    {
     "data": {
      "text/html": [
       "<div>\n",
       "<style scoped>\n",
       "    .dataframe tbody tr th:only-of-type {\n",
       "        vertical-align: middle;\n",
       "    }\n",
       "\n",
       "    .dataframe tbody tr th {\n",
       "        vertical-align: top;\n",
       "    }\n",
       "\n",
       "    .dataframe thead th {\n",
       "        text-align: right;\n",
       "    }\n",
       "</style>\n",
       "<table border=\"1\" class=\"dataframe\">\n",
       "  <thead>\n",
       "    <tr style=\"text-align: right;\">\n",
       "      <th></th>\n",
       "      <th>name</th>\n",
       "      <th>age</th>\n",
       "      <th>income</th>\n",
       "    </tr>\n",
       "  </thead>\n",
       "  <tbody>\n",
       "    <tr>\n",
       "      <th>0</th>\n",
       "      <td>lele</td>\n",
       "      <td>32</td>\n",
       "      <td>1222</td>\n",
       "    </tr>\n",
       "    <tr>\n",
       "      <th>1</th>\n",
       "      <td>jack</td>\n",
       "      <td>23</td>\n",
       "      <td>1343</td>\n",
       "    </tr>\n",
       "    <tr>\n",
       "      <th>2</th>\n",
       "      <td>may</td>\n",
       "      <td>12</td>\n",
       "      <td>109</td>\n",
       "    </tr>\n",
       "    <tr>\n",
       "      <th>3</th>\n",
       "      <td>zee</td>\n",
       "      <td>23</td>\n",
       "      <td>1009</td>\n",
       "    </tr>\n",
       "    <tr>\n",
       "      <th>4</th>\n",
       "      <td>key</td>\n",
       "      <td>43</td>\n",
       "      <td>901</td>\n",
       "    </tr>\n",
       "  </tbody>\n",
       "</table>\n",
       "</div>"
      ],
      "text/plain": [
       "   name  age  income\n",
       "0  lele   32    1222\n",
       "1  jack   23    1343\n",
       "2   may   12     109\n",
       "3   zee   23    1009\n",
       "4   key   43     901"
      ]
     },
     "execution_count": 759,
     "metadata": {},
     "output_type": "execute_result"
    }
   ],
   "source": [
    "# read a series of data files \n",
    "\n",
    "import glob\n",
    "import os\n",
    "import pandas as pd\n",
    "\n",
    "folder_name = 'file'\n",
    "file_type = 'csv'\n",
    "seperator =','\n",
    "dataframe = pd.concat([pd.read_csv(f, sep=seperator) for f in glob.glob(folder_name + \"/*.\"+ file_type)],ignore_index=True)\n",
    "\n",
    "dataframe.head()"
   ]
  },
  {
   "cell_type": "markdown",
   "metadata": {},
   "source": [
    "# 1. A taste of py"
   ]
  },
  {
   "cell_type": "code",
   "execution_count": 2,
   "metadata": {},
   "outputs": [
    {
     "name": "stdout",
     "output_type": "stream",
     "text": [
      "5\n",
      "4\n",
      "3\n",
      "2\n",
      "1\n",
      "hey\n"
     ]
    }
   ],
   "source": [
    "# for loop: countdown \n",
    "\n",
    "for countdown in 5,4,3,2,1, \"hey\":\n",
    "    print(countdown)"
   ]
  },
  {
   "cell_type": "code",
   "execution_count": 6,
   "metadata": {},
   "outputs": [
    {
     "name": "stdout",
     "output_type": "stream",
     "text": [
      "Curlysays: Nyuk nyuk!\n",
      "Larry says: Ow!\n"
     ]
    }
   ],
   "source": [
    "# dictionary \n",
    "\n",
    "quotes = {\n",
    "    'Moe': 'A wise guy, huh?',\n",
    "    'Larry': 'Ow!',\n",
    "    'Curly': 'Nyuk nyuk!'\n",
    "}\n",
    "\n",
    "stooge = 'Curly'\n",
    "\n",
    "print(stooge + \"says: \" + quotes[stooge])\n",
    "\n",
    "print('Larry' + \" says: \" + quotes['Larry'])"
   ]
  },
  {
   "cell_type": "markdown",
   "metadata": {},
   "source": [
    "# 2. Numbers, strings, variables"
   ]
  },
  {
   "cell_type": "markdown",
   "metadata": {},
   "source": [
    "##### (1) About python \n",
    "* In python, everything (booleans, integers, floats, strings, even large data structures, functions, programs) is implemented as an object. \n",
    "* This gives the language a consistency (and useful features) that some other languages lack. \n",
    "* An object is like a clear plastic box that contains a piece of data. \n",
    "* The object has a 'type', such as boolean / integer, that determines what can be done wiht the data. \n",
    "* Python is strongly 'typed', which means the type of an object doesn't change, even if its value is mutable. \n",
    "* 'Variables' are just names. Assignment doesn't copy a value; it just attaches a name to the object that contains the data. \n",
    "* The name is a reference to a thing rather than the thing itself."
   ]
  },
  {
   "cell_type": "markdown",
   "metadata": {},
   "source": [
    "### Variables"
   ]
  },
  {
   "cell_type": "markdown",
   "metadata": {},
   "source": [
    "#### (2) type() - gives class of a variable"
   ]
  },
  {
   "cell_type": "code",
   "execution_count": 10,
   "metadata": {},
   "outputs": [
    {
     "data": {
      "text/plain": [
       "int"
      ]
     },
     "execution_count": 10,
     "metadata": {},
     "output_type": "execute_result"
    }
   ],
   "source": [
    "a = 10 \n",
    "\n",
    "type(a) "
   ]
  },
  {
   "cell_type": "markdown",
   "metadata": {},
   "source": [
    "#### (3) valid variable names "
   ]
  },
  {
   "cell_type": "markdown",
   "metadata": {},
   "source": [
    "* a\n",
    "* a1\n",
    "* a_b_c\n",
    "* _abc\n",
    "* _1a"
   ]
  },
  {
   "cell_type": "markdown",
   "metadata": {},
   "source": [
    "#### (4) reserved words"
   ]
  },
  {
   "cell_type": "markdown",
   "metadata": {},
   "source": [
    "* False, True, None\n",
    "* and, or, not, is, in \n",
    "* if, elif, else, for, while, break, return, continue\n",
    "* def, del, import, as, from, class\n",
    "* except, finally, global, nonlocal, pass, raise, try, with, yield, lambda, with, assert"
   ]
  },
  {
   "cell_type": "markdown",
   "metadata": {},
   "source": [
    "### Numbers"
   ]
  },
  {
   "cell_type": "markdown",
   "metadata": {},
   "source": [
    "#### (5) numbers"
   ]
  },
  {
   "cell_type": "markdown",
   "metadata": {},
   "source": [
    "* **//** : integer division (ex: 7 / 2 = 3)\n",
    "* **%** : modulus (remainder division) (ex: 7 % 3 = 1)\n",
    "* ****** : exponential (ex: 3 ** 2 = 9)"
   ]
  },
  {
   "cell_type": "code",
   "execution_count": 26,
   "metadata": {},
   "outputs": [
    {
     "name": "stdout",
     "output_type": "stream",
     "text": [
      "92\n",
      "100\n",
      "200\n",
      "66.66666666666667\n",
      "22.0\n"
     ]
    }
   ],
   "source": [
    "# Combine math symbols \n",
    "\n",
    "# a = a - 3 \n",
    "a = 95\n",
    "a -= 3 \n",
    "print(a)\n",
    "\n",
    "a += 8 \n",
    "print(a)\n",
    "\n",
    "a *= 2\n",
    "print(a)\n",
    "\n",
    "a /= 3 \n",
    "print(a)\n",
    "\n",
    "a //= 3\n",
    "print(a)"
   ]
  },
  {
   "cell_type": "code",
   "execution_count": 27,
   "metadata": {},
   "outputs": [
    {
     "data": {
      "text/plain": [
       "(1, 4)"
      ]
     },
     "execution_count": 27,
     "metadata": {},
     "output_type": "execute_result"
    }
   ],
   "source": [
    "# get both quotient and remainder \n",
    "\n",
    "divmod(9, 5)"
   ]
  },
  {
   "cell_type": "markdown",
   "metadata": {},
   "source": [
    "#### (6)  interger "
   ]
  },
  {
   "cell_type": "code",
   "execution_count": 46,
   "metadata": {},
   "outputs": [
    {
     "data": {
      "text/plain": [
       "10000"
      ]
     },
     "execution_count": 46,
     "metadata": {},
     "output_type": "execute_result"
    }
   ],
   "source": [
    "# convert to integer \n",
    "\n",
    "int(98.6)      # doesn't convert a string\n",
    "int(1.0e4)"
   ]
  },
  {
   "cell_type": "markdown",
   "metadata": {},
   "source": [
    "#### (7) floats"
   ]
  },
  {
   "cell_type": "code",
   "execution_count": 47,
   "metadata": {},
   "outputs": [
    {
     "data": {
      "text/plain": [
       "-1.5"
      ]
     },
     "execution_count": 47,
     "metadata": {},
     "output_type": "execute_result"
    }
   ],
   "source": [
    "# convert to floats \n",
    "\n",
    "float(98)\n",
    "\n",
    "float('-1.5')      # floact() function: can convert a string that only contain numbers"
   ]
  },
  {
   "cell_type": "markdown",
   "metadata": {},
   "source": [
    "### Strings"
   ]
  },
  {
   "cell_type": "markdown",
   "metadata": {},
   "source": [
    "#### (8) strings "
   ]
  },
  {
   "cell_type": "code",
   "execution_count": 48,
   "metadata": {},
   "outputs": [
    {
     "data": {
      "text/plain": [
       "'98.6'"
      ]
     },
     "execution_count": 48,
     "metadata": {},
     "output_type": "execute_result"
    }
   ],
   "source": [
    "# convert to string\n",
    "\n",
    "str(98.6)"
   ]
  },
  {
   "cell_type": "markdown",
   "metadata": {},
   "source": [
    "#### (9) duplication with * "
   ]
  },
  {
   "cell_type": "code",
   "execution_count": 54,
   "metadata": {},
   "outputs": [
    {
     "name": "stdout",
     "output_type": "stream",
     "text": [
      "Na Na Na Na \n",
      "hey hey hey \n",
      "Goodbye.\n"
     ]
    }
   ],
   "source": [
    "start = 'Na ' * 4 + '\\n'      # with * 4, Na is repeated 4 times. \n",
    "middle = 'hey ' * 3 + '\\n'\n",
    "end = 'Goodbye.'\n",
    "print(start + middle + end)"
   ]
  },
  {
   "cell_type": "markdown",
   "metadata": {},
   "source": [
    "#### (10) modify a string "
   ]
  },
  {
   "cell_type": "code",
   "execution_count": 58,
   "metadata": {},
   "outputs": [
    {
     "data": {
      "text/plain": [
       "'penny'"
      ]
     },
     "execution_count": 58,
     "metadata": {},
     "output_type": "execute_result"
    }
   ],
   "source": [
    "# replace() function - since string is immutable\n",
    "\n",
    "# method 1\n",
    "name = 'henny'\n",
    "name.replace('h', 'p')"
   ]
  },
  {
   "cell_type": "code",
   "execution_count": 59,
   "metadata": {},
   "outputs": [
    {
     "data": {
      "text/plain": [
       "'penny'"
      ]
     },
     "execution_count": 59,
     "metadata": {},
     "output_type": "execute_result"
    }
   ],
   "source": [
    "# method 2\n",
    "\n",
    "name = 'henny'\n",
    "'p' + name[1:]"
   ]
  },
  {
   "cell_type": "markdown",
   "metadata": {},
   "source": [
    "#### (11) slice with [start: end: step]"
   ]
  },
  {
   "cell_type": "markdown",
   "metadata": {},
   "source": [
    "* **[:]** extracts entire sequence from start to end.\n",
    "* **[start:]** specifies start offset to the end.\n",
    "* **[:end]** specifies from beginning to end offset minus 1\n",
    "* **[start:end]** indicates from start offset to end offset minus 1\n",
    "* **[start:end:step]** extracts from start offset to end offset minus 1, skipping by step. \n",
    "<p>\n",
    "* Note: offset goes 0, 1, ..., n from the start to the right; offset goes -1, -2, ..., -n-1 from the right to the start.  "
   ]
  },
  {
   "cell_type": "code",
   "execution_count": 60,
   "metadata": {},
   "outputs": [
    {
     "data": {
      "text/plain": [
       "'uvwxyz'"
      ]
     },
     "execution_count": 60,
     "metadata": {},
     "output_type": "execute_result"
    }
   ],
   "source": [
    "letters = 'abcdefghijklmnopqrstuvwxyz'\n",
    "\n",
    "# slice all \n",
    "letters[:]"
   ]
  },
  {
   "cell_type": "code",
   "execution_count": 61,
   "metadata": {},
   "outputs": [
    {
     "data": {
      "text/plain": [
       "'uvwxyz'"
      ]
     },
     "execution_count": 61,
     "metadata": {},
     "output_type": "execute_result"
    }
   ],
   "source": [
    "# slice from letter 21 to the end \n",
    "letters[20:]"
   ]
  },
  {
   "cell_type": "code",
   "execution_count": 62,
   "metadata": {},
   "outputs": [
    {
     "data": {
      "text/plain": [
       "'mno'"
      ]
     },
     "execution_count": 62,
     "metadata": {},
     "output_type": "execute_result"
    }
   ],
   "source": [
    "# slice from 12 to 14 \n",
    "letters[12:15]"
   ]
  },
  {
   "cell_type": "code",
   "execution_count": 63,
   "metadata": {},
   "outputs": [
    {
     "data": {
      "text/plain": [
       "'xyz'"
      ]
     },
     "execution_count": 63,
     "metadata": {},
     "output_type": "execute_result"
    }
   ],
   "source": [
    "# slice last 3 \n",
    "letters[-3:]"
   ]
  },
  {
   "cell_type": "code",
   "execution_count": 65,
   "metadata": {},
   "outputs": [
    {
     "data": {
      "text/plain": [
       "'stuvw'"
      ]
     },
     "execution_count": 65,
     "metadata": {},
     "output_type": "execute_result"
    }
   ],
   "source": [
    "# slice from 18 and ends at last 3 \n",
    "letters[18: -3]"
   ]
  },
  {
   "cell_type": "code",
   "execution_count": 66,
   "metadata": {},
   "outputs": [
    {
     "data": {
      "text/plain": [
       "'uvw'"
      ]
     },
     "execution_count": 66,
     "metadata": {},
     "output_type": "execute_result"
    }
   ],
   "source": [
    "# slice from last 6 and ends at last 3 \n",
    "letters[-6: -3]"
   ]
  },
  {
   "cell_type": "code",
   "execution_count": 67,
   "metadata": {},
   "outputs": [
    {
     "data": {
      "text/plain": [
       "'ahov'"
      ]
     },
     "execution_count": 67,
     "metadata": {},
     "output_type": "execute_result"
    }
   ],
   "source": [
    "# slice from start to end, in steps of 7 \n",
    "letters[::7]"
   ]
  },
  {
   "cell_type": "code",
   "execution_count": 68,
   "metadata": {},
   "outputs": [
    {
     "data": {
      "text/plain": [
       "'ehknqt'"
      ]
     },
     "execution_count": 68,
     "metadata": {},
     "output_type": "execute_result"
    }
   ],
   "source": [
    "# from  4 to 19, by 3\n",
    "letters[4:20:3]"
   ]
  },
  {
   "cell_type": "code",
   "execution_count": 69,
   "metadata": {},
   "outputs": [
    {
     "data": {
      "text/plain": [
       "'tx'"
      ]
     },
     "execution_count": 69,
     "metadata": {},
     "output_type": "execute_result"
    }
   ],
   "source": [
    "# from 19 to end, by 4\n",
    "letters[19::4]"
   ]
  },
  {
   "cell_type": "code",
   "execution_count": 70,
   "metadata": {},
   "outputs": [
    {
     "data": {
      "text/plain": [
       "'afkpu'"
      ]
     },
     "execution_count": 70,
     "metadata": {},
     "output_type": "execute_result"
    }
   ],
   "source": [
    "# from start to 20 by 5\n",
    "letters[:21:5]"
   ]
  },
  {
   "cell_type": "code",
   "execution_count": 72,
   "metadata": {},
   "outputs": [
    {
     "data": {
      "text/plain": [
       "'zyxwvutsrqponmlkjihgfedcba'"
      ]
     },
     "execution_count": 72,
     "metadata": {},
     "output_type": "execute_result"
    }
   ],
   "source": [
    "# from end to start, skip nothing \n",
    "letters[-1::-1]\n",
    "letters[::-1]"
   ]
  },
  {
   "cell_type": "markdown",
   "metadata": {},
   "source": [
    "#### (12) len() function - get length in a string"
   ]
  },
  {
   "cell_type": "code",
   "execution_count": 73,
   "metadata": {},
   "outputs": [
    {
     "data": {
      "text/plain": [
       "26"
      ]
     },
     "execution_count": 73,
     "metadata": {},
     "output_type": "execute_result"
    }
   ],
   "source": [
    "len(letters)"
   ]
  },
  {
   "cell_type": "code",
   "execution_count": 75,
   "metadata": {},
   "outputs": [
    {
     "data": {
      "text/plain": [
       "5"
      ]
     },
     "execution_count": 75,
     "metadata": {},
     "output_type": "execute_result"
    }
   ],
   "source": [
    "len('henry')"
   ]
  },
  {
   "cell_type": "markdown",
   "metadata": {},
   "source": [
    "#### (13) split() function - split string"
   ]
  },
  {
   "cell_type": "code",
   "execution_count": 77,
   "metadata": {},
   "outputs": [
    {
     "data": {
      "text/plain": [
       "['get gloves', ' get mask', ' get cat', ' call friend']"
      ]
     },
     "execution_count": 77,
     "metadata": {},
     "output_type": "execute_result"
    }
   ],
   "source": [
    "# split by ','\n",
    "\n",
    "todos = 'get gloves, get mask, get cat, call friend'\n",
    "todos.split(',')  "
   ]
  },
  {
   "cell_type": "code",
   "execution_count": 78,
   "metadata": {},
   "outputs": [
    {
     "data": {
      "text/plain": [
       "['get', 'gloves,', 'get', 'mask,', 'get', 'cat,', 'call', 'friend']"
      ]
     },
     "execution_count": 78,
     "metadata": {},
     "output_type": "execute_result"
    }
   ],
   "source": [
    "# split by white space (default)\n",
    "todos.split()"
   ]
  },
  {
   "cell_type": "markdown",
   "metadata": {},
   "source": [
    "#### (14) join() function - combine"
   ]
  },
  {
   "cell_type": "code",
   "execution_count": 80,
   "metadata": {},
   "outputs": [
    {
     "name": "stdout",
     "output_type": "stream",
     "text": [
      "yeti, bigfood, monster\n"
     ]
    }
   ],
   "source": [
    "crypto_list = ['yeti', 'bigfood', 'monster']\n",
    "cryptostring = ', '.join(crypto_list)\n",
    "print(cryptostring)"
   ]
  },
  {
   "cell_type": "markdown",
   "metadata": {},
   "source": [
    "#### (15) play with strings "
   ]
  },
  {
   "cell_type": "code",
   "execution_count": 81,
   "metadata": {},
   "outputs": [
    {
     "data": {
      "text/plain": [
       "'All that doth'"
      ]
     },
     "execution_count": 81,
     "metadata": {},
     "output_type": "execute_result"
    }
   ],
   "source": [
    "poem = '''All that doth flow we cannot liquid name\n",
    "    Or else would fire and water be the same;\n",
    "    But that is liquid which is moist and wet\n",
    "    Fire that property can never get.\n",
    "    Then 'tis not cold that doth the fire put out\n",
    "    But 'tis the wet that makes it die, no doubt.'''\n",
    "\n",
    "# get first 13 characters (offset 0 to 12)\n",
    "poem[:13]"
   ]
  },
  {
   "cell_type": "code",
   "execution_count": 82,
   "metadata": {},
   "outputs": [
    {
     "data": {
      "text/plain": [
       "270"
      ]
     },
     "execution_count": 82,
     "metadata": {},
     "output_type": "execute_result"
    }
   ],
   "source": [
    "# get length of poem\n",
    "len(poem)"
   ]
  },
  {
   "cell_type": "code",
   "execution_count": 84,
   "metadata": {},
   "outputs": [
    {
     "data": {
      "text/plain": [
       "True"
      ]
     },
     "execution_count": 84,
     "metadata": {},
     "output_type": "execute_result"
    }
   ],
   "source": [
    "# startswith() function - check if start with 'All'\n",
    "\n",
    "poem.startswith('All')"
   ]
  },
  {
   "cell_type": "code",
   "execution_count": 85,
   "metadata": {},
   "outputs": [
    {
     "data": {
      "text/plain": [
       "False"
      ]
     },
     "execution_count": 85,
     "metadata": {},
     "output_type": "execute_result"
    }
   ],
   "source": [
    "# endswith() function - check if end with 'That's all, folks!'\n",
    "\n",
    "poem.endswith('That\\'s all, folks!')"
   ]
  },
  {
   "cell_type": "code",
   "execution_count": 86,
   "metadata": {},
   "outputs": [
    {
     "data": {
      "text/plain": [
       "77"
      ]
     },
     "execution_count": 86,
     "metadata": {},
     "output_type": "execute_result"
    }
   ],
   "source": [
    "# find() function - find offset of first occurrence of word 'the'\n",
    "\n",
    "word = 'the'\n",
    "poem.find(word)"
   ]
  },
  {
   "cell_type": "code",
   "execution_count": 87,
   "metadata": {},
   "outputs": [
    {
     "data": {
      "text/plain": [
       "234"
      ]
     },
     "execution_count": 87,
     "metadata": {},
     "output_type": "execute_result"
    }
   ],
   "source": [
    "# rfind() function - find last offset of word 'the'\n",
    "\n",
    "word = 'the'\n",
    "poem.rfind(word)"
   ]
  },
  {
   "cell_type": "code",
   "execution_count": 88,
   "metadata": {},
   "outputs": [
    {
     "data": {
      "text/plain": [
       "3"
      ]
     },
     "execution_count": 88,
     "metadata": {},
     "output_type": "execute_result"
    }
   ],
   "source": [
    "# count() function - how many times did 'the' occur\n",
    "\n",
    "poem.count(word)"
   ]
  },
  {
   "cell_type": "markdown",
   "metadata": {},
   "source": [
    "#### (16) case and alignment"
   ]
  },
  {
   "cell_type": "code",
   "execution_count": 105,
   "metadata": {},
   "outputs": [
    {
     "data": {
      "text/plain": [
       "'a duck goes '"
      ]
     },
     "execution_count": 105,
     "metadata": {},
     "output_type": "execute_result"
    }
   ],
   "source": [
    "# strip() function - get rid of some pattern\n",
    "\n",
    "setup = 'a duck goes ...'\n",
    "setup.strip('.')"
   ]
  },
  {
   "cell_type": "code",
   "execution_count": 95,
   "metadata": {},
   "outputs": [
    {
     "data": {
      "text/plain": [
       "'A duck goes ...'"
      ]
     },
     "execution_count": 95,
     "metadata": {},
     "output_type": "execute_result"
    }
   ],
   "source": [
    "# capitalize() function - capitalize beginnng of sentence \n",
    "\n",
    "setup.capitalize()"
   ]
  },
  {
   "cell_type": "code",
   "execution_count": 96,
   "metadata": {},
   "outputs": [
    {
     "data": {
      "text/plain": [
       "'A Duck Goes ...'"
      ]
     },
     "execution_count": 96,
     "metadata": {},
     "output_type": "execute_result"
    }
   ],
   "source": [
    "# title() function - capitalize first letter of each word\n",
    "\n",
    "setup.title()"
   ]
  },
  {
   "cell_type": "code",
   "execution_count": 99,
   "metadata": {},
   "outputs": [
    {
     "data": {
      "text/plain": [
       "'A DUCK GOES ...'"
      ]
     },
     "execution_count": 99,
     "metadata": {},
     "output_type": "execute_result"
    }
   ],
   "source": [
    "# upper() and lower() function \n",
    "\n",
    "setup.lower()\n",
    "setup.upper()"
   ]
  },
  {
   "cell_type": "code",
   "execution_count": 103,
   "metadata": {},
   "outputs": [
    {
     "data": {
      "text/plain": [
       "'this is NOT true'"
      ]
     },
     "execution_count": 103,
     "metadata": {},
     "output_type": "execute_result"
    }
   ],
   "source": [
    "# swapcase() function - change original lower/upper case to upper/lower case \n",
    "\n",
    "duck = 'THIS IS not TRUE'\n",
    "duck.swapcase()"
   ]
  },
  {
   "cell_type": "code",
   "execution_count": 108,
   "metadata": {},
   "outputs": [
    {
     "data": {
      "text/plain": [
       "'  a duck goes ...   '"
      ]
     },
     "execution_count": 108,
     "metadata": {},
     "output_type": "execute_result"
    }
   ],
   "source": [
    "# center() function - center a string within 20 spaces \n",
    "\n",
    "setup = 'a duck goes ...'\n",
    "setup.center(20)"
   ]
  },
  {
   "cell_type": "code",
   "execution_count": 109,
   "metadata": {},
   "outputs": [
    {
     "data": {
      "text/plain": [
       "'a duck goes ...     '"
      ]
     },
     "execution_count": 109,
     "metadata": {},
     "output_type": "execute_result"
    }
   ],
   "source": [
    "# ljust() function - left justify \n",
    "\n",
    "setup.ljust(20)"
   ]
  },
  {
   "cell_type": "code",
   "execution_count": 110,
   "metadata": {},
   "outputs": [
    {
     "data": {
      "text/plain": [
       "'     a duck goes ...'"
      ]
     },
     "execution_count": 110,
     "metadata": {},
     "output_type": "execute_result"
    }
   ],
   "source": [
    "# rjust() function - right justify \n",
    "\n",
    "setup.rjust(20)"
   ]
  },
  {
   "cell_type": "markdown",
   "metadata": {},
   "source": [
    "#### (17) substitue with replace()"
   ]
  },
  {
   "cell_type": "code",
   "execution_count": 111,
   "metadata": {},
   "outputs": [
    {
     "data": {
      "text/plain": [
       "'a goose goes ...'"
      ]
     },
     "execution_count": 111,
     "metadata": {},
     "output_type": "execute_result"
    }
   ],
   "source": [
    "# replace() function - simple substring substitution\n",
    "\n",
    "setup = 'a duck goes ...'\n",
    "setup.replace('duck', 'goose')"
   ]
  },
  {
   "cell_type": "code",
   "execution_count": 114,
   "metadata": {},
   "outputs": [
    {
     "data": {
      "text/plain": [
       "'a famous duck meets a famous chicken, then a famous dog meets a famous goose ...'"
      ]
     },
     "execution_count": 114,
     "metadata": {},
     "output_type": "execute_result"
    }
   ],
   "source": [
    "# substitue for 100 times \n",
    "\n",
    "setup = 'a duck meets a chicken, then a dog meets a goose ...'\n",
    "setup.replace('a', 'a famous', 100)"
   ]
  },
  {
   "cell_type": "markdown",
   "metadata": {},
   "source": [
    "# 3. Lists, tuples, dictionaries, set"
   ]
  },
  {
   "cell_type": "markdown",
   "metadata": {},
   "source": [
    "### List"
   ]
  },
  {
   "cell_type": "markdown",
   "metadata": {},
   "source": [
    "#### (1) create list: use [ ] or *list()*"
   ]
  },
  {
   "cell_type": "code",
   "execution_count": 605,
   "metadata": {},
   "outputs": [],
   "source": [
    "# method 1 \n",
    "empty_list = []\n",
    "\n",
    "# method 2\n",
    "empty_list = list()"
   ]
  },
  {
   "cell_type": "markdown",
   "metadata": {},
   "source": [
    "#### (2) list() - convert other data types to lists "
   ]
  },
  {
   "cell_type": "code",
   "execution_count": 125,
   "metadata": {},
   "outputs": [
    {
     "data": {
      "text/plain": [
       "['c', 'a', 't']"
      ]
     },
     "execution_count": 125,
     "metadata": {},
     "output_type": "execute_result"
    }
   ],
   "source": [
    "# convert a string to a lit of one-character strings \n",
    "\n",
    "list('cat')"
   ]
  },
  {
   "cell_type": "code",
   "execution_count": 607,
   "metadata": {},
   "outputs": [],
   "source": [
    "# convert a tuple to a list \n",
    "\n",
    "tuple = ('lee', 'may', 'jack')\n",
    "\n",
    "list(tuple)"
   ]
  },
  {
   "cell_type": "code",
   "execution_count": 127,
   "metadata": {},
   "outputs": [
    {
     "data": {
      "text/plain": [
       "['1', '6', '1952']"
      ]
     },
     "execution_count": 127,
     "metadata": {},
     "output_type": "execute_result"
    }
   ],
   "source": [
    "# split() function - chop a string into a list by a sepratator \n",
    "\n",
    "birthday = '1/6/1952'\n",
    "\n",
    "birthday.split('/')"
   ]
  },
  {
   "cell_type": "markdown",
   "metadata": {},
   "source": [
    "#### (3) [offset]  - get an item"
   ]
  },
  {
   "cell_type": "code",
   "execution_count": 128,
   "metadata": {},
   "outputs": [
    {
     "name": "stdout",
     "output_type": "stream",
     "text": [
      "chico\n"
     ]
    }
   ],
   "source": [
    "mars = ['harpo', 'chico', 'group']\n",
    "\n",
    "mars_sub = mars[1]\n",
    "print(mars_sub)"
   ]
  },
  {
   "cell_type": "markdown",
   "metadata": {},
   "source": [
    "#### (4) list of lists"
   ]
  },
  {
   "cell_type": "code",
   "execution_count": 132,
   "metadata": {},
   "outputs": [
    {
     "data": {
      "text/plain": [
       "[['hummingbird', 'finch'],\n",
       " ['dodo', 'passenger pegeon', 'Norwegian blue'],\n",
       " 'macaw',\n",
       " [3, 'French hens', 2, 'turtledoves']]"
      ]
     },
     "execution_count": 132,
     "metadata": {},
     "output_type": "execute_result"
    }
   ],
   "source": [
    "small_birds = ['hummingbird', 'finch']\n",
    "extinct_birds = ['dodo', 'passenger pegeon', 'Norwegian blue']\n",
    "carol_birds = [3, 'French hens', 2, 'turtledoves']\n",
    "all_birds = [small_birds, extinct_birds, 'macaw', carol_birds]\n",
    "\n",
    "all_birds"
   ]
  },
  {
   "cell_type": "code",
   "execution_count": 133,
   "metadata": {},
   "outputs": [
    {
     "data": {
      "text/plain": [
       "'dodo'"
      ]
     },
     "execution_count": 133,
     "metadata": {},
     "output_type": "execute_result"
    }
   ],
   "source": [
    "# all_birds: access 2nd list,  1st item\n",
    "\n",
    "all_birds[1][0]"
   ]
  },
  {
   "cell_type": "markdown",
   "metadata": {},
   "source": [
    "#### (5) [offset] - change an item "
   ]
  },
  {
   "cell_type": "code",
   "execution_count": 135,
   "metadata": {},
   "outputs": [
    {
     "data": {
      "text/plain": [
       "['harpo', 'chico', 'lee']"
      ]
     },
     "execution_count": 135,
     "metadata": {},
     "output_type": "execute_result"
    }
   ],
   "source": [
    "mars = ['harpo', 'chico', 'group']\n",
    "\n",
    "mars[2] = 'lee'\n",
    "mars"
   ]
  },
  {
   "cell_type": "markdown",
   "metadata": {},
   "source": [
    "#### (6) get a slice to extract items by offset range "
   ]
  },
  {
   "cell_type": "code",
   "execution_count": 422,
   "metadata": {},
   "outputs": [
    {
     "data": {
      "text/plain": [
       "['harpo', 'chico']"
      ]
     },
     "execution_count": 422,
     "metadata": {},
     "output_type": "execute_result"
    }
   ],
   "source": [
    "# access 1st and 2nd item \n",
    "\n",
    "mars = ['harpo', 'chico', 'group', 'juice']\n",
    "mars[0:2]\n",
    "mars[:2]"
   ]
  },
  {
   "cell_type": "code",
   "execution_count": 429,
   "metadata": {},
   "outputs": [
    {
     "data": {
      "text/plain": [
       "['harpo', 'group']"
      ]
     },
     "execution_count": 429,
     "metadata": {},
     "output_type": "execute_result"
    }
   ],
   "source": [
    "# access 1st and 3rd item \n",
    "\n",
    "# method 1: using list comprehension\n",
    "res =  [ mars[i] for i in (0, 2) ]\n",
    "res"
   ]
  },
  {
   "cell_type": "code",
   "execution_count": 431,
   "metadata": {},
   "outputs": [
    {
     "data": {
      "text/plain": [
       "['harpo', 'group']"
      ]
     },
     "execution_count": 431,
     "metadata": {},
     "output_type": "execute_result"
    }
   ],
   "source": [
    "# method 2: using list index\n",
    "res = [ mars[0], mars[2] ] \n",
    "res"
   ]
  },
  {
   "cell_type": "code",
   "execution_count": 433,
   "metadata": {},
   "outputs": [
    {
     "data": {
      "text/plain": [
       "['harpo', 'group']"
      ]
     },
     "execution_count": 433,
     "metadata": {},
     "output_type": "execute_result"
    }
   ],
   "source": [
    "# method 3: using list slicing\n",
    "res = mars[::len(mars)-1] \n",
    "res"
   ]
  },
  {
   "cell_type": "markdown",
   "metadata": {},
   "source": [
    "#### (7) append() function - add item to the end "
   ]
  },
  {
   "cell_type": "code",
   "execution_count": 141,
   "metadata": {},
   "outputs": [
    {
     "data": {
      "text/plain": [
       "['harpo', 'chico', 'group', 'zoo']"
      ]
     },
     "execution_count": 141,
     "metadata": {},
     "output_type": "execute_result"
    }
   ],
   "source": [
    "mars.append('zoo')\n",
    "mars"
   ]
  },
  {
   "cell_type": "markdown",
   "metadata": {},
   "source": [
    "#### (8) extend() function or +=  to combine lists"
   ]
  },
  {
   "cell_type": "code",
   "execution_count": 148,
   "metadata": {},
   "outputs": [
    {
     "data": {
      "text/plain": [
       "['harpo', 'chico', 'group', 'karl', 'gumo']"
      ]
     },
     "execution_count": 148,
     "metadata": {},
     "output_type": "execute_result"
    }
   ],
   "source": [
    "# combine 2 lists\n",
    "\n",
    "# method 1\n",
    "mars = ['harpo', 'chico', 'group']\n",
    "others = ['karl', 'gumo']\n",
    "\n",
    "mars += others    # mars = mars + others \n",
    "mars"
   ]
  },
  {
   "cell_type": "code",
   "execution_count": 151,
   "metadata": {},
   "outputs": [
    {
     "data": {
      "text/plain": [
       "['harpo', 'chico', 'group', 'karl', 'gumo']"
      ]
     },
     "execution_count": 151,
     "metadata": {},
     "output_type": "execute_result"
    }
   ],
   "source": [
    "# method 2\n",
    "mars = ['harpo', 'chico', 'group']\n",
    "others = ['karl', 'gumo']\n",
    "\n",
    "mars.extend(others)\n",
    "mars"
   ]
  },
  {
   "cell_type": "code",
   "execution_count": 152,
   "metadata": {},
   "outputs": [
    {
     "data": {
      "text/plain": [
       "['harpo', 'chico', 'group', ['karl', 'gumo']]"
      ]
     },
     "execution_count": 152,
     "metadata": {},
     "output_type": "execute_result"
    }
   ],
   "source": [
    "# if use append, 'others' is added as a list\n",
    "\n",
    "mars = ['harpo', 'chico', 'group']\n",
    "others = ['karl', 'gumo']\n",
    "\n",
    "mars.append(others)\n",
    "mars"
   ]
  },
  {
   "cell_type": "markdown",
   "metadata": {},
   "source": [
    "#### (9) insert() function - add item "
   ]
  },
  {
   "cell_type": "code",
   "execution_count": 155,
   "metadata": {},
   "outputs": [
    {
     "data": {
      "text/plain": [
       "['gummo', 'harpo', 'chico', 'group']"
      ]
     },
     "execution_count": 155,
     "metadata": {},
     "output_type": "execute_result"
    }
   ],
   "source": [
    "mars = ['harpo', 'chico', 'group']\n",
    "\n",
    "mars.insert(0, 'gummo')    # insert at position 0\n",
    "mars"
   ]
  },
  {
   "cell_type": "markdown",
   "metadata": {},
   "source": [
    "#### (10) 'del' statement - delete an item by offset"
   ]
  },
  {
   "cell_type": "code",
   "execution_count": 160,
   "metadata": {},
   "outputs": [
    {
     "data": {
      "text/plain": [
       "['harpo', 'chico']"
      ]
     },
     "execution_count": 160,
     "metadata": {},
     "output_type": "execute_result"
    }
   ],
   "source": [
    "# delete last item - by position (position matters)\n",
    "\n",
    "mars = ['harpo', 'chico', 'group']\n",
    "\n",
    "del mars[-1]\n",
    "mars"
   ]
  },
  {
   "cell_type": "markdown",
   "metadata": {},
   "source": [
    "#### (11) remove() function - delete an item by value "
   ]
  },
  {
   "cell_type": "code",
   "execution_count": 159,
   "metadata": {},
   "outputs": [
    {
     "data": {
      "text/plain": [
       "['harpo', 'chico']"
      ]
     },
     "execution_count": 159,
     "metadata": {},
     "output_type": "execute_result"
    }
   ],
   "source": [
    "# delete last item - by value (not care about position)\n",
    "\n",
    "mars = ['harpo', 'chico', 'group']\n",
    "mars.remove('group')\n",
    "mars"
   ]
  },
  {
   "cell_type": "markdown",
   "metadata": {},
   "source": [
    "#### (12) pop() function - get an item by offset and delete it at the same time"
   ]
  },
  {
   "cell_type": "code",
   "execution_count": 167,
   "metadata": {},
   "outputs": [
    {
     "data": {
      "text/plain": [
       "['harpo', 'chico']"
      ]
     },
     "execution_count": 167,
     "metadata": {},
     "output_type": "execute_result"
    }
   ],
   "source": [
    "# pop() default: it uses -1, which last item, and keep the rest\n",
    "\n",
    "mars = ['harpo', 'chico', 'group']\n",
    "mars.pop()\n",
    "\n",
    "mars"
   ]
  },
  {
   "cell_type": "code",
   "execution_count": 168,
   "metadata": {},
   "outputs": [
    {
     "data": {
      "text/plain": [
       "['harpo', 'group']"
      ]
     },
     "execution_count": 168,
     "metadata": {},
     "output_type": "execute_result"
    }
   ],
   "source": [
    "# pop(): deletes 2nd item, and keep the rest\n",
    "mars = ['harpo', 'chico', 'group']\n",
    "\n",
    "mars.pop(1)\n",
    "mars"
   ]
  },
  {
   "cell_type": "markdown",
   "metadata": {},
   "source": [
    "#### (13) index() - find an item's offset by value"
   ]
  },
  {
   "cell_type": "code",
   "execution_count": 169,
   "metadata": {},
   "outputs": [
    {
     "data": {
      "text/plain": [
       "1"
      ]
     },
     "execution_count": 169,
     "metadata": {},
     "output_type": "execute_result"
    }
   ],
   "source": [
    "mars = ['harpo', 'chico', 'group']\n",
    "mars.index('chico')"
   ]
  },
  {
   "cell_type": "markdown",
   "metadata": {},
   "source": [
    "#### (14) 'in' statement - test for a value "
   ]
  },
  {
   "cell_type": "code",
   "execution_count": 170,
   "metadata": {},
   "outputs": [
    {
     "data": {
      "text/plain": [
       "True"
      ]
     },
     "execution_count": 170,
     "metadata": {},
     "output_type": "execute_result"
    }
   ],
   "source": [
    "# check whether 'chico' is in the list \n",
    "\n",
    "mars = ['harpo', 'chico', 'group']    # not care about the order\n",
    "'chico' in mars"
   ]
  },
  {
   "cell_type": "code",
   "execution_count": 171,
   "metadata": {},
   "outputs": [
    {
     "data": {
      "text/plain": [
       "False"
      ]
     },
     "execution_count": 171,
     "metadata": {},
     "output_type": "execute_result"
    }
   ],
   "source": [
    "'bob' in mars"
   ]
  },
  {
   "cell_type": "markdown",
   "metadata": {},
   "source": [
    "####  (15) count() function - count occurrences of a value "
   ]
  },
  {
   "cell_type": "code",
   "execution_count": 174,
   "metadata": {},
   "outputs": [
    {
     "data": {
      "text/plain": [
       "1"
      ]
     },
     "execution_count": 174,
     "metadata": {},
     "output_type": "execute_result"
    }
   ],
   "source": [
    "mars = ['harpo', 'chico', 'group']\n",
    "mars.count('chico')"
   ]
  },
  {
   "cell_type": "markdown",
   "metadata": {},
   "source": [
    "#### (16) join() function - convert to a string"
   ]
  },
  {
   "cell_type": "code",
   "execution_count": 180,
   "metadata": {},
   "outputs": [
    {
     "data": {
      "text/plain": [
       "'harpo, chico, group'"
      ]
     },
     "execution_count": 180,
     "metadata": {},
     "output_type": "execute_result"
    }
   ],
   "source": [
    "# convert list to a string \n",
    "\n",
    "mars = ['harpo', 'chico', 'group']\n",
    "', '.join(mars)"
   ]
  },
  {
   "cell_type": "code",
   "execution_count": 182,
   "metadata": {},
   "outputs": [
    {
     "data": {
      "text/plain": [
       "'lee * jack * may'"
      ]
     },
     "execution_count": 182,
     "metadata": {},
     "output_type": "execute_result"
    }
   ],
   "source": [
    "# convert list to a string \n",
    "\n",
    "friends = ['lee', 'jack', 'may']\n",
    "separator = ' * '\n",
    "joined = separator.join(friends)\n",
    "joined"
   ]
  },
  {
   "cell_type": "code",
   "execution_count": 184,
   "metadata": {},
   "outputs": [
    {
     "data": {
      "text/plain": [
       "['lee', 'jack', 'may']"
      ]
     },
     "execution_count": 184,
     "metadata": {},
     "output_type": "execute_result"
    }
   ],
   "source": [
    "# split the string and convert to list \n",
    "\n",
    "separated = joined.split(separator)\n",
    "separated"
   ]
  },
  {
   "cell_type": "code",
   "execution_count": 186,
   "metadata": {},
   "outputs": [
    {
     "data": {
      "text/plain": [
       "True"
      ]
     },
     "execution_count": 186,
     "metadata": {},
     "output_type": "execute_result"
    }
   ],
   "source": [
    "separated == friends "
   ]
  },
  {
   "cell_type": "markdown",
   "metadata": {},
   "source": [
    "#### (17) sort(), sorted() function - reorder items"
   ]
  },
  {
   "cell_type": "code",
   "execution_count": 191,
   "metadata": {},
   "outputs": [
    {
     "data": {
      "text/plain": [
       "['chico', 'group', 'harpo']"
      ]
     },
     "execution_count": 191,
     "metadata": {},
     "output_type": "execute_result"
    }
   ],
   "source": [
    "# sorted() function - returns a sorted copy of the list, not change original list \n",
    "\n",
    "mars = ['harpo', 'chico', 'group']\n",
    "sorted_mars = sorted(mars)\n",
    "sorted_mars"
   ]
  },
  {
   "cell_type": "code",
   "execution_count": 194,
   "metadata": {},
   "outputs": [
    {
     "data": {
      "text/plain": [
       "['chico', 'group', 'harpo']"
      ]
     },
     "execution_count": 194,
     "metadata": {},
     "output_type": "execute_result"
    }
   ],
   "source": [
    "# sort() function - permanently changes the list \n",
    "\n",
    "mars.sort()     # default: ascending order \n",
    "mars"
   ]
  },
  {
   "cell_type": "code",
   "execution_count": 195,
   "metadata": {},
   "outputs": [
    {
     "data": {
      "text/plain": [
       "['harpo', 'group', 'chico']"
      ]
     },
     "execution_count": 195,
     "metadata": {},
     "output_type": "execute_result"
    }
   ],
   "source": [
    "mars.sort(reverse = True)     # default: ascending order \n",
    "mars"
   ]
  },
  {
   "cell_type": "markdown",
   "metadata": {},
   "source": [
    "#### (18) copy() function or assign with =  "
   ]
  },
  {
   "cell_type": "code",
   "execution_count": 196,
   "metadata": {},
   "outputs": [
    {
     "data": {
      "text/plain": [
       "[1, 2, 3]"
      ]
     },
     "execution_count": 196,
     "metadata": {},
     "output_type": "execute_result"
    }
   ],
   "source": [
    "# assgin with = \n",
    "\n",
    "a = [1, 2, 3]\n",
    "a \n",
    "\n",
    "b = a \n",
    "b"
   ]
  },
  {
   "cell_type": "code",
   "execution_count": 197,
   "metadata": {},
   "outputs": [
    {
     "data": {
      "text/plain": [
       "['friend', 2, 3]"
      ]
     },
     "execution_count": 197,
     "metadata": {},
     "output_type": "execute_result"
    }
   ],
   "source": [
    "# if change an element in 'a'\n",
    "a[0] = 'friend'\n",
    "\n",
    "b     # it's like sticky note: if modify 'a', and 'b' is modified too"
   ]
  },
  {
   "cell_type": "code",
   "execution_count": 198,
   "metadata": {},
   "outputs": [
    {
     "data": {
      "text/plain": [
       "['friend', 'girl', 3]"
      ]
     },
     "execution_count": 198,
     "metadata": {},
     "output_type": "execute_result"
    }
   ],
   "source": [
    "# if change an element in 'b'\n",
    "b[1] = 'girl'\n",
    "\n",
    "a"
   ]
  },
  {
   "cell_type": "code",
   "execution_count": 199,
   "metadata": {},
   "outputs": [
    {
     "data": {
      "text/plain": [
       "[1, 2, 3]"
      ]
     },
     "execution_count": 199,
     "metadata": {},
     "output_type": "execute_result"
    }
   ],
   "source": [
    "# copy values of a list to an independent & fresh list \n",
    "\n",
    "# method 1: copy()\n",
    "a = [1, 2, 3]\n",
    "b = a.copy()\n",
    "b"
   ]
  },
  {
   "cell_type": "code",
   "execution_count": 201,
   "metadata": {},
   "outputs": [
    {
     "data": {
      "text/plain": [
       "[1, 2, 3]"
      ]
     },
     "execution_count": 201,
     "metadata": {},
     "output_type": "execute_result"
    }
   ],
   "source": [
    "# method 2: list() conversion function \n",
    "a = [1, 2, 3] \n",
    "b = list(a)\n",
    "b"
   ]
  },
  {
   "cell_type": "code",
   "execution_count": 205,
   "metadata": {},
   "outputs": [
    {
     "data": {
      "text/plain": [
       "[1, 2, 3]"
      ]
     },
     "execution_count": 205,
     "metadata": {},
     "output_type": "execute_result"
    }
   ],
   "source": [
    "# method 3: list slice [:]\n",
    "a = [1, 2, 3]\n",
    "b = a[:]\n",
    "b"
   ]
  },
  {
   "cell_type": "markdown",
   "metadata": {},
   "source": [
    "### Tuple"
   ]
  },
  {
   "cell_type": "markdown",
   "metadata": {},
   "source": [
    "#### (19) () - create tuple"
   ]
  },
  {
   "cell_type": "code",
   "execution_count": 206,
   "metadata": {},
   "outputs": [
    {
     "data": {
      "text/plain": [
       "()"
      ]
     },
     "execution_count": 206,
     "metadata": {},
     "output_type": "execute_result"
    }
   ],
   "source": [
    "# empty tuple \n",
    "\n",
    "empty_tuple = ()\n",
    "empty_tuple"
   ]
  },
  {
   "cell_type": "code",
   "execution_count": 213,
   "metadata": {},
   "outputs": [
    {
     "data": {
      "text/plain": [
       "'groucho'"
      ]
     },
     "execution_count": 213,
     "metadata": {},
     "output_type": "execute_result"
    }
   ],
   "source": [
    "# one element tuple, followed by ','\n",
    "\n",
    "mars = 'groucho', \n",
    "mars"
   ]
  },
  {
   "cell_type": "code",
   "execution_count": 214,
   "metadata": {},
   "outputs": [
    {
     "data": {
      "text/plain": [
       "('groucho', 'chico', 'harpo')"
      ]
     },
     "execution_count": 214,
     "metadata": {},
     "output_type": "execute_result"
    }
   ],
   "source": [
    "# multiple elements tuple\n",
    "\n",
    "# method 1 \n",
    "mars = 'groucho', 'chico', 'harpo'\n",
    "mars\n",
    "\n",
    "# method 2\n",
    "mars = ('groucho', 'chico', 'harpo')\n",
    "mars"
   ]
  },
  {
   "cell_type": "code",
   "execution_count": 608,
   "metadata": {},
   "outputs": [
    {
     "data": {
      "text/plain": [
       "'groucho'"
      ]
     },
     "execution_count": 608,
     "metadata": {},
     "output_type": "execute_result"
    },
    {
     "data": {
      "text/plain": [
       "'chico'"
      ]
     },
     "execution_count": 608,
     "metadata": {},
     "output_type": "execute_result"
    },
    {
     "data": {
      "text/plain": [
       "'harpo'"
      ]
     },
     "execution_count": 608,
     "metadata": {},
     "output_type": "execute_result"
    }
   ],
   "source": [
    "# tuple unpacking \n",
    "\n",
    "mars = ('groucho', 'chico', 'harpo')\n",
    "a, b, c = mars     # tuple allows assign multiple variables at once\n",
    "a\n",
    "b\n",
    "c"
   ]
  },
  {
   "cell_type": "code",
   "execution_count": 218,
   "metadata": {},
   "outputs": [
    {
     "data": {
      "text/plain": [
       "'sweet'"
      ]
     },
     "execution_count": 218,
     "metadata": {},
     "output_type": "execute_result"
    }
   ],
   "source": [
    "# use tuples to exchange values in one statement w/out using a temp variable \n",
    "\n",
    "password = 'swordfish'\n",
    "icecream = 'sweet'\n",
    "password, icecream = icecream, password    # exchange values \n",
    "password"
   ]
  },
  {
   "cell_type": "code",
   "execution_count": null,
   "metadata": {},
   "outputs": [],
   "source": [
    "# tuple() function - convert other things to tuple \n",
    "\n",
    "mars = ['groucho', 'chico', 'harpo']\n",
    "tuple(mars)           # not seem to work in this version "
   ]
  },
  {
   "cell_type": "markdown",
   "metadata": {},
   "source": [
    "### Dictionary"
   ]
  },
  {
   "cell_type": "markdown",
   "metadata": {},
   "source": [
    "#### (20) {} - create dictionary "
   ]
  },
  {
   "cell_type": "code",
   "execution_count": 222,
   "metadata": {},
   "outputs": [
    {
     "data": {
      "text/plain": [
       "{}"
      ]
     },
     "execution_count": 222,
     "metadata": {},
     "output_type": "execute_result"
    }
   ],
   "source": [
    "empty_dict = {}\n",
    "empty_dict"
   ]
  },
  {
   "cell_type": "markdown",
   "metadata": {},
   "source": [
    "#### (21) dict() function - convert to dictionary"
   ]
  },
  {
   "cell_type": "code",
   "execution_count": 223,
   "metadata": {},
   "outputs": [
    {
     "data": {
      "text/plain": [
       "{'a': 'b', 'c': 'd', 'e': 'f'}"
      ]
     },
     "execution_count": 223,
     "metadata": {},
     "output_type": "execute_result"
    }
   ],
   "source": [
    "# 3 lists in a list \n",
    "\n",
    "lol = [['a', 'b'], ['c', 'd'], ['e', 'f']]     # in each sequence, 1st item: key; 2nd item: value\n",
    "dict(lol)   "
   ]
  },
  {
   "cell_type": "code",
   "execution_count": 224,
   "metadata": {},
   "outputs": [
    {
     "data": {
      "text/plain": [
       "{'a': 'b', 'c': 'd', 'e': 'f'}"
      ]
     },
     "execution_count": 224,
     "metadata": {},
     "output_type": "execute_result"
    }
   ],
   "source": [
    "# 3 tuples in a list \n",
    "\n",
    "lol = [('a', 'b'), ('c', 'd'), ('e', 'f')]    \n",
    "dict(lol)   "
   ]
  },
  {
   "cell_type": "code",
   "execution_count": 225,
   "metadata": {},
   "outputs": [
    {
     "data": {
      "text/plain": [
       "{'a': 'b', 'c': 'd', 'e': 'f'}"
      ]
     },
     "execution_count": 225,
     "metadata": {},
     "output_type": "execute_result"
    }
   ],
   "source": [
    "# 3 lists in a tuple \n",
    "\n",
    "lol = (['a', 'b'], ['c', 'd'], ['e', 'f'])\n",
    "dict(lol)   "
   ]
  },
  {
   "cell_type": "code",
   "execution_count": 226,
   "metadata": {},
   "outputs": [
    {
     "data": {
      "text/plain": [
       "{'a': 'b', 'c': 'd', 'e': 'f'}"
      ]
     },
     "execution_count": 226,
     "metadata": {},
     "output_type": "execute_result"
    }
   ],
   "source": [
    "# 2-character strings in a list \n",
    "\n",
    "lol = ['ab', 'cd', 'ef']\n",
    "dict(lol)  "
   ]
  },
  {
   "cell_type": "code",
   "execution_count": 227,
   "metadata": {},
   "outputs": [
    {
     "data": {
      "text/plain": [
       "{'a': 'b', 'c': 'd', 'e': 'f'}"
      ]
     },
     "execution_count": 227,
     "metadata": {},
     "output_type": "execute_result"
    }
   ],
   "source": [
    "# 2-character strings in a tuple\n",
    "\n",
    "lol = ('ab', 'cd', 'ef')\n",
    "dict(lol)  "
   ]
  },
  {
   "cell_type": "markdown",
   "metadata": {},
   "source": [
    "#### (22) add/change an item by [key]"
   ]
  },
  {
   "cell_type": "code",
   "execution_count": 230,
   "metadata": {},
   "outputs": [
    {
     "data": {
      "text/plain": [
       "{'Chapman': 'Graham',\n",
       " 'Cleese': 'John',\n",
       " 'Idle': 'Eric',\n",
       " 'Jones': 'Terry',\n",
       " 'Palin': 'Michael',\n",
       " 'Gilliam': 'Gerry'}"
      ]
     },
     "execution_count": 230,
     "metadata": {},
     "output_type": "execute_result"
    }
   ],
   "source": [
    "pythons = {\n",
    "    'Chapman': 'Graham',\n",
    "    'Cleese': 'John',\n",
    "    'Idle': 'Eric',\n",
    "    'Jones': 'Terry',\n",
    "    'Palin': 'Michael',\n",
    "}\n",
    "\n",
    "# add a member\n",
    "pythons['Gilliam'] = 'Gerry'     # the key must be unique\n",
    "pythons"
   ]
  },
  {
   "cell_type": "markdown",
   "metadata": {},
   "source": [
    "#### (23) update() - combine dictionaries  "
   ]
  },
  {
   "cell_type": "code",
   "execution_count": 232,
   "metadata": {},
   "outputs": [
    {
     "data": {
      "text/plain": [
       "{'Chapman': 'Graham',\n",
       " 'Cleese': 'John',\n",
       " 'Idle': 'Eric',\n",
       " 'Jones': 'Terry',\n",
       " 'Palin': 'Michael',\n",
       " 'Marx': 'Groucho',\n",
       " 'Howard': 'Moe'}"
      ]
     },
     "execution_count": 232,
     "metadata": {},
     "output_type": "execute_result"
    }
   ],
   "source": [
    "pythons = {\n",
    "    'Chapman': 'Graham',\n",
    "    'Cleese': 'John',\n",
    "    'Idle': 'Eric',\n",
    "    'Jones': 'Terry',\n",
    "    'Palin': 'Michael',\n",
    "}\n",
    "\n",
    "others = { 'Marx': 'Groucho', 'Howard': 'Moe' }\n",
    "\n",
    "pythons.update(others)\n",
    "pythons"
   ]
  },
  {
   "cell_type": "code",
   "execution_count": 233,
   "metadata": {},
   "outputs": [
    {
     "data": {
      "text/plain": [
       "{'a': 1, 'b': 'platypus'}"
      ]
     },
     "execution_count": 233,
     "metadata": {},
     "output_type": "execute_result"
    }
   ],
   "source": [
    "first = {'a': 1, 'b': 2}\n",
    "second = {'b': 'platypus'}     # if there's same key, the old key will be replaced during the update\n",
    "first.update(second)\n",
    "first"
   ]
  },
  {
   "cell_type": "markdown",
   "metadata": {},
   "source": [
    "#### (24) 'del' statement - delete an item by key"
   ]
  },
  {
   "cell_type": "code",
   "execution_count": 234,
   "metadata": {},
   "outputs": [
    {
     "data": {
      "text/plain": [
       "{'b': 2}"
      ]
     },
     "execution_count": 234,
     "metadata": {},
     "output_type": "execute_result"
    }
   ],
   "source": [
    "first = {'a': 1, 'b': 2}\n",
    "\n",
    "del first['a']\n",
    "first"
   ]
  },
  {
   "cell_type": "markdown",
   "metadata": {},
   "source": [
    "#### (25) clear() - delete all items "
   ]
  },
  {
   "cell_type": "code",
   "execution_count": 235,
   "metadata": {},
   "outputs": [
    {
     "data": {
      "text/plain": [
       "{}"
      ]
     },
     "execution_count": 235,
     "metadata": {},
     "output_type": "execute_result"
    }
   ],
   "source": [
    "first = {'a': 1, 'b': 2}\n",
    "\n",
    "first.clear()\n",
    "first"
   ]
  },
  {
   "cell_type": "markdown",
   "metadata": {},
   "source": [
    "#### (26) 'in' statement - test for a key"
   ]
  },
  {
   "cell_type": "code",
   "execution_count": 238,
   "metadata": {},
   "outputs": [
    {
     "data": {
      "text/plain": [
       "True"
      ]
     },
     "execution_count": 238,
     "metadata": {},
     "output_type": "execute_result"
    }
   ],
   "source": [
    "pythons = {\n",
    "    'Chapman': 'Graham',\n",
    "    'Cleese': 'John',\n",
    "    'Idle': 'Eric',\n",
    "    'Jones': 'Terry',\n",
    "    'Palin': 'Michael',\n",
    "}\n",
    "\n",
    "'Cleese' in pythons"
   ]
  },
  {
   "cell_type": "markdown",
   "metadata": {},
   "source": [
    "#### (27) get an item by [key]"
   ]
  },
  {
   "cell_type": "code",
   "execution_count": 239,
   "metadata": {},
   "outputs": [
    {
     "data": {
      "text/plain": [
       "'Eric'"
      ]
     },
     "execution_count": 239,
     "metadata": {},
     "output_type": "execute_result"
    }
   ],
   "source": [
    "pythons = {\n",
    "    'Chapman': 'Graham',\n",
    "    'Cleese': 'John',\n",
    "    'Idle': 'Eric',\n",
    "    'Jones': 'Terry',\n",
    "    'Palin': 'Michael',\n",
    "}\n",
    "\n",
    "pythons['Idle']"
   ]
  },
  {
   "cell_type": "code",
   "execution_count": 240,
   "metadata": {},
   "outputs": [
    {
     "data": {
      "text/plain": [
       "False"
      ]
     },
     "execution_count": 240,
     "metadata": {},
     "output_type": "execute_result"
    }
   ],
   "source": [
    "# If an item not in the dictionary: \n",
    "\n",
    "# Method 1: test if the key in the dictionary first \n",
    "'max' in pythons"
   ]
  },
  {
   "cell_type": "code",
   "execution_count": 245,
   "metadata": {},
   "outputs": [],
   "source": [
    "# Method 2: get() function - if not in list, return nothing \n",
    "pythons.get('Cleese')"
   ]
  },
  {
   "cell_type": "code",
   "execution_count": 246,
   "metadata": {},
   "outputs": [],
   "source": [
    "pythons.get('max')"
   ]
  },
  {
   "cell_type": "markdown",
   "metadata": {},
   "source": [
    "#### (28) keys() - get all keys "
   ]
  },
  {
   "cell_type": "code",
   "execution_count": 249,
   "metadata": {},
   "outputs": [
    {
     "data": {
      "text/plain": [
       "dict_keys(['Chapman', 'Cleese', 'Idle', 'Jones', 'Palin'])"
      ]
     },
     "execution_count": 249,
     "metadata": {},
     "output_type": "execute_result"
    }
   ],
   "source": [
    "pythons.keys()"
   ]
  },
  {
   "cell_type": "markdown",
   "metadata": {},
   "source": [
    "#### (29) values() - get all values "
   ]
  },
  {
   "cell_type": "code",
   "execution_count": 250,
   "metadata": {},
   "outputs": [
    {
     "data": {
      "text/plain": [
       "dict_values(['Graham', 'John', 'Eric', 'Terry', 'Michael'])"
      ]
     },
     "execution_count": 250,
     "metadata": {},
     "output_type": "execute_result"
    }
   ],
   "source": [
    "pythons.values()"
   ]
  },
  {
   "cell_type": "markdown",
   "metadata": {},
   "source": [
    "#### (30) items() - get key-value pair"
   ]
  },
  {
   "cell_type": "code",
   "execution_count": 251,
   "metadata": {},
   "outputs": [
    {
     "data": {
      "text/plain": [
       "dict_items([('Chapman', 'Graham'), ('Cleese', 'John'), ('Idle', 'Eric'), ('Jones', 'Terry'), ('Palin', 'Michael')])"
      ]
     },
     "execution_count": 251,
     "metadata": {},
     "output_type": "execute_result"
    }
   ],
   "source": [
    "pythons.items()"
   ]
  },
  {
   "cell_type": "markdown",
   "metadata": {},
   "source": [
    "#### (31) copy() or assgin with = "
   ]
  },
  {
   "cell_type": "code",
   "execution_count": 286,
   "metadata": {},
   "outputs": [
    {
     "data": {
      "text/plain": [
       "{'green': 'go',\n",
       " 'yellow': 'go faster',\n",
       " 'red': 'smile for the camera',\n",
       " 'blue': 'confuse everyone'}"
      ]
     },
     "execution_count": 286,
     "metadata": {},
     "output_type": "execute_result"
    }
   ],
   "source": [
    "signals = {'green': 'go', \n",
    "           'yellow': 'go faster', \n",
    "           'red': 'smile for the camera',}\n",
    "save_signals = signals\n",
    "\n",
    "# if modify 'signals', then 'save_signals' is modified too\n",
    "signals['blue'] = 'confuse everyone'\n",
    "save_signals"
   ]
  },
  {
   "cell_type": "code",
   "execution_count": 287,
   "metadata": {},
   "outputs": [
    {
     "data": {
      "text/plain": [
       "{'green': 'go', 'yellow': 'go faster', 'red': 'smile for the camera'}"
      ]
     },
     "execution_count": 287,
     "metadata": {},
     "output_type": "execute_result"
    }
   ],
   "source": [
    "signals = {'green': 'go', \n",
    "           'yellow': 'go faster', \n",
    "           'red': 'smile for the camera',}\n",
    "save_signals = signals.copy()\n",
    "\n",
    "# if modify 'signals', 'save_signals' won't be modified \n",
    "signals['blue'] = 'confuse everyone'\n",
    "save_signals"
   ]
  },
  {
   "cell_type": "markdown",
   "metadata": {},
   "source": [
    "### Set"
   ]
  },
  {
   "cell_type": "markdown",
   "metadata": {},
   "source": [
    "#### (32) set() or { } - create a set "
   ]
  },
  {
   "cell_type": "code",
   "execution_count": 257,
   "metadata": {},
   "outputs": [
    {
     "data": {
      "text/plain": [
       "{2, 4, 6}"
      ]
     },
     "execution_count": 257,
     "metadata": {},
     "output_type": "execute_result"
    }
   ],
   "source": [
    "# empty set - unordered, keys must be unique\n",
    "empty_set = set()       # empty_set = {} creates an empty dictionary, not set\n",
    "\n",
    "# a set of numbers\n",
    "even_numbers = {2, 4, 6}\n",
    "even_numbers"
   ]
  },
  {
   "cell_type": "markdown",
   "metadata": {},
   "source": [
    "#### (33) set() - convert to set "
   ]
  },
  {
   "cell_type": "code",
   "execution_count": 260,
   "metadata": {},
   "outputs": [
    {
     "data": {
      "text/plain": [
       "{'e', 'l', 'r', 's', 't'}"
      ]
     },
     "execution_count": 260,
     "metadata": {},
     "output_type": "execute_result"
    }
   ],
   "source": [
    "# make a string 'to a set\n",
    "\n",
    "set('letters')     # only contain 1 'e'"
   ]
  },
  {
   "cell_type": "code",
   "execution_count": 261,
   "metadata": {},
   "outputs": [
    {
     "data": {
      "text/plain": [
       "{'Dancer', 'Dasher', 'Mason-Dixon', 'Prancer'}"
      ]
     },
     "execution_count": 261,
     "metadata": {},
     "output_type": "execute_result"
    }
   ],
   "source": [
    "# make a list to a set\n",
    "\n",
    "set( ['Dasher', 'Dancer', 'Prancer', 'Mason-Dixon'] )"
   ]
  },
  {
   "cell_type": "code",
   "execution_count": 262,
   "metadata": {},
   "outputs": [
    {
     "data": {
      "text/plain": [
       "{'Atom Heart Mother', 'Echoes', 'Ummagumma'}"
      ]
     },
     "execution_count": 262,
     "metadata": {},
     "output_type": "execute_result"
    }
   ],
   "source": [
    "# make a tuple to a set\n",
    "\n",
    "set( ('Ummagumma', 'Echoes', 'Atom Heart Mother') )"
   ]
  },
  {
   "cell_type": "code",
   "execution_count": 263,
   "metadata": {},
   "outputs": [
    {
     "data": {
      "text/plain": [
       "{'apple', 'cherry', 'orange'}"
      ]
     },
     "execution_count": 263,
     "metadata": {},
     "output_type": "execute_result"
    }
   ],
   "source": [
    "# make a dictionary to a set (only uses keys)\n",
    "\n",
    "set( {'apple': 'red', 'orange': 'orange', 'cherry': 'red'} )"
   ]
  },
  {
   "cell_type": "markdown",
   "metadata": {},
   "source": [
    "#### (34) 'in' statement - test for value"
   ]
  },
  {
   "cell_type": "code",
   "execution_count": 611,
   "metadata": {},
   "outputs": [],
   "source": [
    "# a set is just a sequence of values, and a dictioary is one or more key: value pairs\n",
    "\n",
    "drinks = {\n",
    "    'martini': {'vodka', 'vermouth'},\n",
    "    'black russian': {'vodka', 'kahlua'},\n",
    "    'white russian': {'cream', 'kahlua', 'vodka'},\n",
    "    'manhattan': {'rye', 'vermouth', 'bitters'},\n",
    "    'screwdriver': {'orange juice', 'vodka'},           # IMPORTANT: leave a ',' at end of the value\n",
    "}"
   ]
  },
  {
   "cell_type": "code",
   "execution_count": 612,
   "metadata": {},
   "outputs": [
    {
     "name": "stdout",
     "output_type": "stream",
     "text": [
      "martini\n",
      "black russian\n",
      "white russian\n",
      "screwdriver\n"
     ]
    }
   ],
   "source": [
    "# check which drinks contain vodka\n",
    "\n",
    "for names, contents in drinks.items():\n",
    "    if 'vodka' in contents:\n",
    "        print(names)"
   ]
  },
  {
   "cell_type": "code",
   "execution_count": 613,
   "metadata": {},
   "outputs": [
    {
     "name": "stdout",
     "output_type": "stream",
     "text": [
      "black russian\n",
      "screwdriver\n"
     ]
    }
   ],
   "source": [
    "# want something with vodka but exclude 'vermouth' and 'cream' :\n",
    "\n",
    "for name, contents in drinks.items():\n",
    "    if 'vodka' in contents and not ('vermouth' in contents or 'cream' in contents):    # 'and not' exclude those in the ()\n",
    "        print(name)"
   ]
  },
  {
   "cell_type": "markdown",
   "metadata": {},
   "source": [
    "#### (35) Combinations and operators"
   ]
  },
  {
   "cell_type": "code",
   "execution_count": 614,
   "metadata": {},
   "outputs": [
    {
     "name": "stdout",
     "output_type": "stream",
     "text": [
      "martini\n",
      "manhattan\n",
      "screwdriver\n"
     ]
    }
   ],
   "source": [
    "for name, contents in drinks.items():\n",
    "    if contents & {'vermouth', 'orange juice'}:   #   &: get names that contain either contents \n",
    "        print(name)"
   ]
  },
  {
   "cell_type": "code",
   "execution_count": 616,
   "metadata": {},
   "outputs": [
    {
     "data": {
      "text/plain": [
       "{'kahlua', 'vodka'}"
      ]
     },
     "execution_count": 616,
     "metadata": {},
     "output_type": "execute_result"
    },
    {
     "data": {
      "text/plain": [
       "{'cream', 'kahlua', 'vodka'}"
      ]
     },
     "execution_count": 616,
     "metadata": {},
     "output_type": "execute_result"
    }
   ],
   "source": [
    "#  ingredient sets for these 2 drinks in variables \n",
    "\n",
    "bruss = drinks['black russian']\n",
    "wruss = drinks['white russian']\n",
    "bruss\n",
    "wruss"
   ]
  },
  {
   "cell_type": "markdown",
   "metadata": {},
   "source": [
    "#### (36) set theory"
   ]
  },
  {
   "cell_type": "code",
   "execution_count": 618,
   "metadata": {},
   "outputs": [],
   "source": [
    "a = {1, 2}\n",
    "b = {2, 3}"
   ]
  },
  {
   "cell_type": "code",
   "execution_count": 619,
   "metadata": {},
   "outputs": [
    {
     "data": {
      "text/plain": [
       "{2}"
      ]
     },
     "execution_count": 619,
     "metadata": {},
     "output_type": "execute_result"
    },
    {
     "data": {
      "text/plain": [
       "{2}"
      ]
     },
     "execution_count": 619,
     "metadata": {},
     "output_type": "execute_result"
    }
   ],
   "source": [
    "# intersection(), &\n",
    "\n",
    "# method 1\n",
    "a & b\n",
    "\n",
    "# method 2\n",
    "a.intersection(b)"
   ]
  },
  {
   "cell_type": "code",
   "execution_count": 620,
   "metadata": {},
   "outputs": [
    {
     "data": {
      "text/plain": [
       "{'kahlua', 'vodka'}"
      ]
     },
     "execution_count": 620,
     "metadata": {},
     "output_type": "execute_result"
    }
   ],
   "source": [
    "bruss & wruss"
   ]
  },
  {
   "cell_type": "code",
   "execution_count": 621,
   "metadata": {},
   "outputs": [
    {
     "data": {
      "text/plain": [
       "{1, 2, 3}"
      ]
     },
     "execution_count": 621,
     "metadata": {},
     "output_type": "execute_result"
    },
    {
     "data": {
      "text/plain": [
       "{1, 2, 3}"
      ]
     },
     "execution_count": 621,
     "metadata": {},
     "output_type": "execute_result"
    }
   ],
   "source": [
    "# union(), |\n",
    "\n",
    "# method 1\n",
    "a | b\n",
    "\n",
    "# method 2\n",
    "a.union(b)"
   ]
  },
  {
   "cell_type": "code",
   "execution_count": 307,
   "metadata": {},
   "outputs": [
    {
     "data": {
      "text/plain": [
       "{'cream', 'kahlua', 'vodka'}"
      ]
     },
     "execution_count": 307,
     "metadata": {},
     "output_type": "execute_result"
    }
   ],
   "source": [
    "bruss | wruss"
   ]
  },
  {
   "cell_type": "code",
   "execution_count": 622,
   "metadata": {},
   "outputs": [
    {
     "data": {
      "text/plain": [
       "{1}"
      ]
     },
     "execution_count": 622,
     "metadata": {},
     "output_type": "execute_result"
    },
    {
     "data": {
      "text/plain": [
       "{1}"
      ]
     },
     "execution_count": 622,
     "metadata": {},
     "output_type": "execute_result"
    }
   ],
   "source": [
    "# difference(), - \n",
    "\n",
    "# method 1\n",
    "a - b\n",
    "\n",
    "# method 2\n",
    "a.difference(b)"
   ]
  },
  {
   "cell_type": "code",
   "execution_count": 310,
   "metadata": {},
   "outputs": [
    {
     "data": {
      "text/plain": [
       "set()"
      ]
     },
     "execution_count": 310,
     "metadata": {},
     "output_type": "execute_result"
    }
   ],
   "source": [
    "bruss - wruss"
   ]
  },
  {
   "cell_type": "code",
   "execution_count": 623,
   "metadata": {},
   "outputs": [
    {
     "data": {
      "text/plain": [
       "{1, 3}"
      ]
     },
     "execution_count": 623,
     "metadata": {},
     "output_type": "execute_result"
    },
    {
     "data": {
      "text/plain": [
       "{1, 3}"
      ]
     },
     "execution_count": 623,
     "metadata": {},
     "output_type": "execute_result"
    }
   ],
   "source": [
    "# symmmetric_difference, ^ (exclusive or: items in one set or the other, but not both)\n",
    "\n",
    "# method 1\n",
    "a ^ b\n",
    "\n",
    "# method 2\n",
    "a.symmetric_difference(b)"
   ]
  },
  {
   "cell_type": "code",
   "execution_count": 313,
   "metadata": {},
   "outputs": [
    {
     "data": {
      "text/plain": [
       "{'cream'}"
      ]
     },
     "execution_count": 313,
     "metadata": {},
     "output_type": "execute_result"
    }
   ],
   "source": [
    "bruss ^ wruss"
   ]
  },
  {
   "cell_type": "code",
   "execution_count": 624,
   "metadata": {},
   "outputs": [
    {
     "data": {
      "text/plain": [
       "False"
      ]
     },
     "execution_count": 624,
     "metadata": {},
     "output_type": "execute_result"
    },
    {
     "data": {
      "text/plain": [
       "False"
      ]
     },
     "execution_count": 624,
     "metadata": {},
     "output_type": "execute_result"
    }
   ],
   "source": [
    "# issubset(), <= (check if one set is subset of another)\n",
    "\n",
    "# methdo 1: \n",
    "a <= b\n",
    "\n",
    "# method 2: \n",
    "a.issubset(b)"
   ]
  },
  {
   "cell_type": "code",
   "execution_count": 316,
   "metadata": {},
   "outputs": [
    {
     "data": {
      "text/plain": [
       "True"
      ]
     },
     "execution_count": 316,
     "metadata": {},
     "output_type": "execute_result"
    }
   ],
   "source": [
    "bruss <= wruss"
   ]
  },
  {
   "cell_type": "code",
   "execution_count": 317,
   "metadata": {},
   "outputs": [
    {
     "data": {
      "text/plain": [
       "True"
      ]
     },
     "execution_count": 317,
     "metadata": {},
     "output_type": "execute_result"
    }
   ],
   "source": [
    "bruss <= bruss"
   ]
  },
  {
   "cell_type": "code",
   "execution_count": 625,
   "metadata": {},
   "outputs": [
    {
     "data": {
      "text/plain": [
       "False"
      ]
     },
     "execution_count": 625,
     "metadata": {},
     "output_type": "execute_result"
    },
    {
     "data": {
      "text/plain": [
       "False"
      ]
     },
     "execution_count": 625,
     "metadata": {},
     "output_type": "execute_result"
    }
   ],
   "source": [
    "# < (proper subset: second set needs to have all memebrs of the first and more)\n",
    "\n",
    "a < b\n",
    "\n",
    "a < a"
   ]
  },
  {
   "cell_type": "code",
   "execution_count": 320,
   "metadata": {},
   "outputs": [
    {
     "data": {
      "text/plain": [
       "True"
      ]
     },
     "execution_count": 320,
     "metadata": {},
     "output_type": "execute_result"
    }
   ],
   "source": [
    "bruss < wruss"
   ]
  },
  {
   "cell_type": "code",
   "execution_count": 321,
   "metadata": {},
   "outputs": [
    {
     "data": {
      "text/plain": [
       "False"
      ]
     },
     "execution_count": 321,
     "metadata": {},
     "output_type": "execute_result"
    }
   ],
   "source": [
    "# issuperset(), >= (superset: all members of second set are also members of the first)\n",
    "\n",
    "a >= b"
   ]
  },
  {
   "cell_type": "code",
   "execution_count": 322,
   "metadata": {},
   "outputs": [
    {
     "data": {
      "text/plain": [
       "True"
      ]
     },
     "execution_count": 322,
     "metadata": {},
     "output_type": "execute_result"
    }
   ],
   "source": [
    "wruss >= bruss"
   ]
  },
  {
   "cell_type": "code",
   "execution_count": 323,
   "metadata": {},
   "outputs": [
    {
     "data": {
      "text/plain": [
       "False"
      ]
     },
     "execution_count": 323,
     "metadata": {},
     "output_type": "execute_result"
    }
   ],
   "source": [
    "# proper superset \n",
    "\n",
    "a > b"
   ]
  },
  {
   "cell_type": "code",
   "execution_count": 325,
   "metadata": {},
   "outputs": [
    {
     "data": {
      "text/plain": [
       "True"
      ]
     },
     "execution_count": 325,
     "metadata": {},
     "output_type": "execute_result"
    }
   ],
   "source": [
    "wruss > bruss"
   ]
  },
  {
   "cell_type": "markdown",
   "metadata": {},
   "source": [
    "### Make bigger data structures"
   ]
  },
  {
   "cell_type": "code",
   "execution_count": 330,
   "metadata": {},
   "outputs": [
    {
     "data": {
      "text/plain": [
       "(['Groucho', 'Chico', 'Harpo'],\n",
       " ['Chapman', 'Cleese', 'Gilliam', 'Jones', 'Palin'],\n",
       " ['Moe', 'Curly', 'Larry'])"
      ]
     },
     "execution_count": 330,
     "metadata": {},
     "output_type": "execute_result"
    }
   ],
   "source": [
    "marxes = ['Groucho', 'Chico', 'Harpo']\n",
    "pythons = ['Chapman', 'Cleese', 'Gilliam', 'Jones', 'Palin']\n",
    "stooges = ['Moe', 'Curly', 'Larry']\n",
    "\n",
    "# 3 lists in a tuple:\n",
    "tuple_of_lists = marx_list, pythons, stooges\n",
    "tuple_of_lists"
   ]
  },
  {
   "cell_type": "code",
   "execution_count": 332,
   "metadata": {},
   "outputs": [
    {
     "data": {
      "text/plain": [
       "[['Groucho', 'Chico', 'Harpo'],\n",
       " ['Chapman', 'Cleese', 'Gilliam', 'Jones', 'Palin'],\n",
       " ['Moe', 'Curly', 'Larry']]"
      ]
     },
     "execution_count": 332,
     "metadata": {},
     "output_type": "execute_result"
    }
   ],
   "source": [
    "# 3 lists in a list\n",
    "\n",
    "list_of_lists = [marxes, pythons, stooges]\n",
    "list_of_lists"
   ]
  },
  {
   "cell_type": "code",
   "execution_count": 333,
   "metadata": {},
   "outputs": [
    {
     "data": {
      "text/plain": [
       "{'Marxes': ['Groucho', 'Chico', 'Harpo'],\n",
       " 'Pythons': ['Chapman', 'Cleese', 'Gilliam', 'Jones', 'Palin'],\n",
       " 'Stooges': ['Moe', 'Curly', 'Larry']}"
      ]
     },
     "execution_count": 333,
     "metadata": {},
     "output_type": "execute_result"
    }
   ],
   "source": [
    "# 3 lists in a dictionary \n",
    "\n",
    "dict_of_lists = {'Marxes': marxes, 'Pythons': pythons, 'Stooges': stooges}\n",
    "dict_of_lists"
   ]
  },
  {
   "cell_type": "markdown",
   "metadata": {},
   "source": [
    "# 4. Code Structures"
   ]
  },
  {
   "cell_type": "markdown",
   "metadata": {},
   "source": [
    "#### (1) Continue Lines with \\"
   ]
  },
  {
   "cell_type": "code",
   "execution_count": 335,
   "metadata": {},
   "outputs": [
    {
     "data": {
      "text/plain": [
       "'abcdefghijklmnopqrstuvwxyz'"
      ]
     },
     "execution_count": 335,
     "metadata": {},
     "output_type": "execute_result"
    }
   ],
   "source": [
    "alphabet = 'abcdefg' + \\\n",
    "'hijklmnop' + \\\n",
    "'qrstuv' + \\\n",
    "'wxyz'\n",
    "\n",
    "alphabet"
   ]
  },
  {
   "cell_type": "markdown",
   "metadata": {},
   "source": [
    "### if, elif, else"
   ]
  },
  {
   "cell_type": "markdown",
   "metadata": {},
   "source": [
    "#### (2) Compare with if, elif, and else"
   ]
  },
  {
   "cell_type": "code",
   "execution_count": 337,
   "metadata": {},
   "outputs": [
    {
     "name": "stdout",
     "output_type": "stream",
     "text": [
      "Woe!\n"
     ]
    }
   ],
   "source": [
    "disaster = True      # disaster is true \n",
    "\n",
    "if disaster:\n",
    "    print(\"Woe!\")\n",
    "else:\n",
    "    print(\"Whee!\")"
   ]
  },
  {
   "cell_type": "code",
   "execution_count": 338,
   "metadata": {},
   "outputs": [
    {
     "name": "stdout",
     "output_type": "stream",
     "text": [
      "It's a cat.\n"
     ]
    }
   ],
   "source": [
    "# can have tests within tests\n",
    "\n",
    "furry = True\n",
    "small = True\n",
    "if furry:\n",
    "    if small:\n",
    "        print(\"It's a cat.\")\n",
    "    else:\n",
    "        print(\"It's a bear!\")\n",
    "else: \n",
    "    if small:\n",
    "        print(\"It's a skink!\")\n",
    "    else:\n",
    "        print(\"It's a human. Or a hairless bear.\")"
   ]
  },
  {
   "cell_type": "code",
   "execution_count": 339,
   "metadata": {},
   "outputs": [
    {
     "name": "stdout",
     "output_type": "stream",
     "text": [
      "I've never heard of the color puce\n"
     ]
    }
   ],
   "source": [
    "# If there are more than two possibilities to test, use if, elif\n",
    "\n",
    "color = \"puce\"\n",
    "if color == \"red\":\n",
    "    print(\"It's a tomato\")\n",
    "elif color == \"green\":\n",
    "    print(\"It's a green pepper\")\n",
    "elif color == \"bee purple\":\n",
    "    print(\"I don't know what it is, but only bees can see it\")\n",
    "else:\n",
    "    print(\"I've never heard of the color\", color)"
   ]
  },
  {
   "cell_type": "markdown",
   "metadata": {},
   "source": [
    "### numeric comparisons"
   ]
  },
  {
   "cell_type": "code",
   "execution_count": 626,
   "metadata": {},
   "outputs": [
    {
     "data": {
      "text/plain": [
       "True"
      ]
     },
     "execution_count": 626,
     "metadata": {},
     "output_type": "execute_result"
    },
    {
     "data": {
      "text/plain": [
       "True"
      ]
     },
     "execution_count": 626,
     "metadata": {},
     "output_type": "execute_result"
    },
    {
     "data": {
      "text/plain": [
       "True"
      ]
     },
     "execution_count": 626,
     "metadata": {},
     "output_type": "execute_result"
    }
   ],
   "source": [
    "x = 7\n",
    "\n",
    "# comparisons \n",
    "\n",
    "# method 1 \n",
    "5 < x and x < 10\n",
    "\n",
    "# method 2: more readable \n",
    "(5 < x) and (x < 10) \n",
    "\n",
    "# method 3: \n",
    "5 < x < 10"
   ]
  },
  {
   "cell_type": "code",
   "execution_count": 342,
   "metadata": {},
   "outputs": [
    {
     "data": {
      "text/plain": [
       "True"
      ]
     },
     "execution_count": 342,
     "metadata": {},
     "output_type": "execute_result"
    }
   ],
   "source": [
    "5 < x and not x > 10"
   ]
  },
  {
   "cell_type": "code",
   "execution_count": 345,
   "metadata": {},
   "outputs": [
    {
     "data": {
      "text/plain": [
       "True"
      ]
     },
     "execution_count": 345,
     "metadata": {},
     "output_type": "execute_result"
    }
   ],
   "source": [
    "# longer comparison \n",
    "\n",
    "5 < x < 10 < 999"
   ]
  },
  {
   "cell_type": "markdown",
   "metadata": {},
   "source": [
    "### What Is True?"
   ]
  },
  {
   "attachments": {
    "image.png": {
     "image/png": "[encoded data removed]"
    }
   },
   "cell_type": "markdown",
   "metadata": {},
   "source": [
    "* The list below are all considered as False. Anything else is considered True. \n",
    "<img align='left'>![image.png](attachment:image.png)"
   ]
  },
  {
   "cell_type": "code",
   "execution_count": 347,
   "metadata": {},
   "outputs": [
    {
     "name": "stdout",
     "output_type": "stream",
     "text": [
      "Hey, it's empty!\n"
     ]
    }
   ],
   "source": [
    "# Example \n",
    "\n",
    "some_list = []\n",
    "if some_list:\n",
    "    print(\"There's something in here\")\n",
    "else:\n",
    "    print(\"Hey, it's empty!\")"
   ]
  },
  {
   "cell_type": "markdown",
   "metadata": {},
   "source": [
    "### *while* - to repeat "
   ]
  },
  {
   "cell_type": "markdown",
   "metadata": {},
   "source": [
    "#### (1) simple while loop"
   ]
  },
  {
   "cell_type": "code",
   "execution_count": 349,
   "metadata": {},
   "outputs": [
    {
     "name": "stdout",
     "output_type": "stream",
     "text": [
      "1\n",
      "2\n",
      "3\n",
      "4\n",
      "5\n"
     ]
    }
   ],
   "source": [
    "count = 1 \n",
    "\n",
    "while count <= 5:\n",
    "    print(count)\n",
    "    count += 1"
   ]
  },
  {
   "cell_type": "markdown",
   "metadata": {},
   "source": [
    "#### (2) *break* - to cancel "
   ]
  },
  {
   "cell_type": "code",
   "execution_count": 352,
   "metadata": {},
   "outputs": [
    {
     "name": "stdout",
     "output_type": "stream",
     "text": [
      "String to capitalize [type q to quit]: q\n"
     ]
    }
   ],
   "source": [
    "# If you want to loop until something occurs, but you’re not sure when that might happen, \n",
    "# you can use an infinite loop with a break statement.\n",
    "\n",
    "while True:\n",
    "    stuff = input(\"String to capitalize [type q to quit]: \")\n",
    "    if stuff == 'q':\n",
    "        break\n",
    "    print(stuff.capitalize())"
   ]
  },
  {
   "cell_type": "markdown",
   "metadata": {},
   "source": [
    "#### (3) *continue* - to skip ahead "
   ]
  },
  {
   "cell_type": "code",
   "execution_count": 353,
   "metadata": {},
   "outputs": [
    {
     "name": "stdout",
     "output_type": "stream",
     "text": [
      "Integer, please [type q to quit]: 3\n",
      "3 squared is 9\n",
      "Integer, please [type q to quit]: 4\n",
      "Integer, please [type q to quit]: q\n"
     ]
    }
   ],
   "source": [
    "# Sometimes you don’t want to break out of a loop but just want to skip ahead to the next iteration for some reason. \n",
    "\n",
    "while True:\n",
    "    value = input(\"Integer, please [type q to quit]: \") \n",
    "    if value == 'q': \n",
    "        break\n",
    "    number = int(value)\n",
    "    if number % 2 == 0: # an even number\n",
    "        continue\n",
    "    print(number, \"squared is\", number*number)"
   ]
  },
  {
   "cell_type": "markdown",
   "metadata": {},
   "source": [
    "#### (4) *else* - to check break "
   ]
  },
  {
   "cell_type": "code",
   "execution_count": 354,
   "metadata": {},
   "outputs": [
    {
     "name": "stdout",
     "output_type": "stream",
     "text": [
      "No even number found\n"
     ]
    }
   ],
   "source": [
    "numbers = [1, 3, 5]\n",
    "position = 0\n",
    "while position < len(numbers):\n",
    "    number = numbers[position]\n",
    "    if number %2 == 0:\n",
    "        print('Found even number', number)\n",
    "        break\n",
    "    position += 1\n",
    "else: \n",
    "    print('No even number found')\n",
    "    "
   ]
  },
  {
   "cell_type": "markdown",
   "metadata": {},
   "source": [
    "### *for* - to iterate"
   ]
  },
  {
   "cell_type": "markdown",
   "metadata": {},
   "source": [
    "#### (1) a simple for loop "
   ]
  },
  {
   "cell_type": "code",
   "execution_count": 355,
   "metadata": {},
   "outputs": [
    {
     "name": "stdout",
     "output_type": "stream",
     "text": [
      "Flopsy\n",
      "Mopsy\n",
      "Cottontail\n",
      "Peter\n"
     ]
    }
   ],
   "source": [
    "rabbits = ['Flopsy', 'Mopsy', 'Cottontail', 'Peter']\n",
    "\n",
    "for rabbit in rabbits:\n",
    "    print(rabbit)"
   ]
  },
  {
   "cell_type": "code",
   "execution_count": 357,
   "metadata": {},
   "outputs": [
    {
     "name": "stdout",
     "output_type": "stream",
     "text": [
      "c\n",
      "a\n",
      "t\n"
     ]
    }
   ],
   "source": [
    "word = 'cat'\n",
    "for letter in word:\n",
    "    print(letter)"
   ]
  },
  {
   "cell_type": "code",
   "execution_count": 358,
   "metadata": {},
   "outputs": [
    {
     "name": "stdout",
     "output_type": "stream",
     "text": [
      "room\n",
      "weapon\n",
      "person\n"
     ]
    }
   ],
   "source": [
    "accusation = {'room': 'ballroom', 'weapon': 'lead pipe',\n",
    "                      'person': 'Col. Mustard'}\n",
    "\n",
    "for card in accusation:     # this print out keys\n",
    "    print(card)"
   ]
  },
  {
   "cell_type": "code",
   "execution_count": 364,
   "metadata": {},
   "outputs": [
    {
     "name": "stdout",
     "output_type": "stream",
     "text": [
      "room\n",
      "weapon\n",
      "person\n"
     ]
    }
   ],
   "source": [
    "accusation = {'room': 'ballroom', 'weapon': 'lead pipe',\n",
    "                      'person': 'Col. Mustard'}\n",
    "\n",
    "for card in accusation:     # this print out keys\n",
    "    print(card)"
   ]
  },
  {
   "cell_type": "code",
   "execution_count": 365,
   "metadata": {},
   "outputs": [
    {
     "name": "stdout",
     "output_type": "stream",
     "text": [
      "ballroom\n",
      "lead pipe\n",
      "Col. Mustard\n"
     ]
    }
   ],
   "source": [
    "accusation = {'room': 'ballroom', 'weapon': 'lead pipe',\n",
    "                      'person': 'Col. Mustard'}\n",
    "\n",
    "for card in accusation.values():     # this print out values\n",
    "    print(card)"
   ]
  },
  {
   "cell_type": "code",
   "execution_count": 366,
   "metadata": {},
   "outputs": [
    {
     "name": "stdout",
     "output_type": "stream",
     "text": [
      "('room', 'ballroom')\n",
      "('weapon', 'lead pipe')\n",
      "('person', 'Col. Mustard')\n"
     ]
    }
   ],
   "source": [
    "accusation = {'room': 'ballroom', 'weapon': 'lead pipe',\n",
    "                      'person': 'Col. Mustard'}\n",
    "\n",
    "for card in accusation.items():     # this print out items\n",
    "    print(card)"
   ]
  },
  {
   "cell_type": "code",
   "execution_count": 369,
   "metadata": {},
   "outputs": [
    {
     "name": "stdout",
     "output_type": "stream",
     "text": [
      "Card room has the contents ballroom\n",
      "Card weapon has the contents lead pipe\n",
      "Card person has the contents Col. Mustard\n"
     ]
    }
   ],
   "source": [
    "for card, contents in accusation.items():\n",
    "    print('Card', card, 'has the contents', contents)"
   ]
  },
  {
   "cell_type": "markdown",
   "metadata": {},
   "source": [
    "#### (2) can also use **break / continue** "
   ]
  },
  {
   "cell_type": "markdown",
   "metadata": {},
   "source": [
    "#### (3) else"
   ]
  },
  {
   "cell_type": "code",
   "execution_count": 370,
   "metadata": {},
   "outputs": [
    {
     "name": "stdout",
     "output_type": "stream",
     "text": [
      "This is not much of a cheese shop, is it?\n"
     ]
    }
   ],
   "source": [
    "cheeses = []\n",
    "for cheese in cheeses:\n",
    "    print('This shop has some lovely', cheese)\n",
    "    break\n",
    "else:             # no break means no cheese\n",
    "    print('This is not much of a cheese shop, is it?')"
   ]
  },
  {
   "cell_type": "code",
   "execution_count": 373,
   "metadata": {},
   "outputs": [
    {
     "name": "stdout",
     "output_type": "stream",
     "text": [
      "This is not much of a cheese shop, is it?\n"
     ]
    }
   ],
   "source": [
    "# if not use 'else', can do this: \n",
    "cheeses = [] \n",
    "found_one = False\n",
    "for cheese in cheeses:\n",
    "    found_one = True\n",
    "    print('This shop has some lovely', cheese)\n",
    "    break\n",
    "if not found_one:\n",
    "        print('This is not much of a cheese shop, is it?')"
   ]
  },
  {
   "cell_type": "markdown",
   "metadata": {},
   "source": [
    "#### (4) zip() - Iterate Multiple Sequences "
   ]
  },
  {
   "cell_type": "code",
   "execution_count": 374,
   "metadata": {},
   "outputs": [
    {
     "name": "stdout",
     "output_type": "stream",
     "text": [
      "Monday : drink coffee - eat banana - enjoy tiramisu\n",
      "Tuesday : drink tea - eat orange - enjoy ice cream\n",
      "Wednesday : drink beer - eat peach - enjoy pie\n"
     ]
    }
   ],
   "source": [
    "# for loop with zip()\n",
    "\n",
    "days = ['Monday', 'Tuesday', 'Wednesday']\n",
    "fruits = ['banana', 'orange', 'peach']\n",
    "drinks = ['coffee', 'tea', 'beer']\n",
    "desserts = ['tiramisu', 'ice cream', 'pie', 'pudding']\n",
    "\n",
    "for day, fruit, drink, dessert in zip(days, fruits, drinks, desserts):     # zip() stops when the shortest sequence is done\n",
    "    print(day, \": drink\", drink, \"- eat\", fruit, \"- enjoy\", dessert)"
   ]
  },
  {
   "cell_type": "code",
   "execution_count": 376,
   "metadata": {},
   "outputs": [
    {
     "data": {
      "text/plain": [
       "{'Monday': 'Lundi', 'Tuesday': 'Mardi', 'Wednesday': 'Mercredi'}"
      ]
     },
     "execution_count": 376,
     "metadata": {},
     "output_type": "execute_result"
    }
   ],
   "source": [
    "# zip() a pair tuples to list\n",
    "\n",
    "english = 'Monday', 'Tuesday', 'Wednesday'\n",
    "french = 'Lundi', 'Mardi', 'Mercredi'\n",
    "\n",
    "list(zip(english, french))"
   ]
  },
  {
   "cell_type": "code",
   "execution_count": 377,
   "metadata": {},
   "outputs": [
    {
     "data": {
      "text/plain": [
       "{'Monday': 'Lundi', 'Tuesday': 'Mardi', 'Wednesday': 'Mercredi'}"
      ]
     },
     "execution_count": 377,
     "metadata": {},
     "output_type": "execute_result"
    }
   ],
   "source": [
    "# zip() a pair tuples to dictionary\n",
    "\n",
    "dict( zip(english, french) )"
   ]
  },
  {
   "cell_type": "markdown",
   "metadata": {},
   "source": [
    "#### (5) range() Generate Number Sequences  "
   ]
  },
  {
   "cell_type": "code",
   "execution_count": 378,
   "metadata": {},
   "outputs": [
    {
     "name": "stdout",
     "output_type": "stream",
     "text": [
      "0\n",
      "1\n",
      "2\n"
     ]
    }
   ],
   "source": [
    "# print 0, 1, 2 \n",
    "\n",
    "for x in range(0,3):\n",
    "    print(x)"
   ]
  },
  {
   "cell_type": "code",
   "execution_count": 379,
   "metadata": {},
   "outputs": [
    {
     "data": {
      "text/plain": [
       "[0, 1, 2]"
      ]
     },
     "execution_count": 379,
     "metadata": {},
     "output_type": "execute_result"
    }
   ],
   "source": [
    "# list 0, 1, 2\n",
    "\n",
    "list( range(0, 3) )"
   ]
  },
  {
   "cell_type": "code",
   "execution_count": 380,
   "metadata": {},
   "outputs": [
    {
     "name": "stdout",
     "output_type": "stream",
     "text": [
      "2\n",
      "1\n",
      "0\n"
     ]
    }
   ],
   "source": [
    "# print 2, 1, 0\n",
    "\n",
    "for x in range(2, -1, -1):\n",
    "    print(x)"
   ]
  },
  {
   "cell_type": "code",
   "execution_count": 381,
   "metadata": {},
   "outputs": [
    {
     "data": {
      "text/plain": [
       "[2, 1, 0]"
      ]
     },
     "execution_count": 381,
     "metadata": {},
     "output_type": "execute_result"
    }
   ],
   "source": [
    "list( range(2, -1, -1) )"
   ]
  },
  {
   "cell_type": "code",
   "execution_count": 382,
   "metadata": {},
   "outputs": [
    {
     "data": {
      "text/plain": [
       "[0, 2, 4, 6, 8, 10]"
      ]
     },
     "execution_count": 382,
     "metadata": {},
     "output_type": "execute_result"
    }
   ],
   "source": [
    "# list 0 to 11, by 2 steps \n",
    "\n",
    "list( range(0, 11, 2) )"
   ]
  },
  {
   "cell_type": "markdown",
   "metadata": {},
   "source": [
    "### List Comprehensions"
   ]
  },
  {
   "cell_type": "code",
   "execution_count": 383,
   "metadata": {},
   "outputs": [
    {
     "data": {
      "text/plain": [
       "[1, 2, 3, 4, 5]"
      ]
     },
     "execution_count": 383,
     "metadata": {},
     "output_type": "execute_result"
    }
   ],
   "source": [
    "# build a list of integers from 1 to 5, one item at a time\n",
    "\n",
    "number_list = []\n",
    "number_list.append(1) \n",
    "number_list.append(2) \n",
    "number_list.append(3) \n",
    "number_list.append(4)\n",
    "number_list.append(5)\n",
    "number_list"
   ]
  },
  {
   "cell_type": "code",
   "execution_count": 384,
   "metadata": {},
   "outputs": [
    {
     "data": {
      "text/plain": [
       "[0, 1, 2, 3, 4, 5]"
      ]
     },
     "execution_count": 384,
     "metadata": {},
     "output_type": "execute_result"
    }
   ],
   "source": [
    "# for loop, to print 1 to 5\n",
    "number_list = []\n",
    "\n",
    "for number in range(0, 6):\n",
    "    number_list.append(number)\n",
    "\n",
    "number_list"
   ]
  },
  {
   "cell_type": "code",
   "execution_count": 385,
   "metadata": {},
   "outputs": [
    {
     "data": {
      "text/plain": [
       "[1, 2, 3, 4, 5]"
      ]
     },
     "execution_count": 385,
     "metadata": {},
     "output_type": "execute_result"
    }
   ],
   "source": [
    "number_list = list(range(1, 6))\n",
    "number_list"
   ]
  },
  {
   "cell_type": "markdown",
   "metadata": {},
   "source": [
    "#### (1) python way: list comprehension"
   ]
  },
  {
   "cell_type": "code",
   "execution_count": 386,
   "metadata": {},
   "outputs": [
    {
     "data": {
      "text/plain": [
       "[1, 2, 3, 4, 5]"
      ]
     },
     "execution_count": 386,
     "metadata": {},
     "output_type": "execute_result"
    }
   ],
   "source": [
    "# [ expression for item in iterable ]\n",
    "\n",
    "number_list = [number for number in range(1,6)]    # just print out the range\n",
    "number_list"
   ]
  },
  {
   "cell_type": "code",
   "execution_count": 387,
   "metadata": {},
   "outputs": [
    {
     "data": {
      "text/plain": [
       "[0, 1, 2, 3, 4]"
      ]
     },
     "execution_count": 387,
     "metadata": {},
     "output_type": "execute_result"
    }
   ],
   "source": [
    "number_list = [number-1 for number in range(1,6)]      # print out range - 1\n",
    "number_list"
   ]
  },
  {
   "cell_type": "code",
   "execution_count": 388,
   "metadata": {},
   "outputs": [
    {
     "data": {
      "text/plain": [
       "[1, 3, 5]"
      ]
     },
     "execution_count": 388,
     "metadata": {},
     "output_type": "execute_result"
    }
   ],
   "source": [
    "# [ expression for item in iterable if condition ]\n",
    "\n",
    "# method 1: compact way \n",
    "a_list = [number for number in range(1,6) if number % 2 == 1]\n",
    "a_list"
   ]
  },
  {
   "cell_type": "code",
   "execution_count": 389,
   "metadata": {},
   "outputs": [
    {
     "data": {
      "text/plain": [
       "[1, 3, 5]"
      ]
     },
     "execution_count": 389,
     "metadata": {},
     "output_type": "execute_result"
    }
   ],
   "source": [
    "# method 2: traditional way \n",
    "a_list = []\n",
    "for number in range(1,6):\n",
    "    if number%2==1:\n",
    "        a_list.append(number)\n",
    "a_list"
   ]
  },
  {
   "cell_type": "code",
   "execution_count": 391,
   "metadata": {},
   "outputs": [
    {
     "name": "stdout",
     "output_type": "stream",
     "text": [
      "(1, 1)\n",
      "(1, 2)\n",
      "(2, 1)\n",
      "(2, 2)\n",
      "(3, 1)\n",
      "(3, 2)\n"
     ]
    }
   ],
   "source": [
    "# nested loop \n",
    "\n",
    "# method 1: compact way\n",
    "rows = range(1,4) \n",
    "cols = range(1,3) \n",
    "cells = [(row, col) for row in rows for col in cols]\n",
    "for cell in cells:\n",
    "    print(cell)"
   ]
  },
  {
   "cell_type": "code",
   "execution_count": 390,
   "metadata": {},
   "outputs": [
    {
     "name": "stdout",
     "output_type": "stream",
     "text": [
      "1 1\n",
      "1 2\n",
      "2 1\n",
      "2 2\n",
      "3 1\n",
      "3 2\n"
     ]
    }
   ],
   "source": [
    "# method 2: traditional way \n",
    "rows = range(1,4) \n",
    "cols = range(1,3) \n",
    "for row in rows:\n",
    "    for col in cols:\n",
    "        print(row, col)"
   ]
  },
  {
   "cell_type": "code",
   "execution_count": 392,
   "metadata": {},
   "outputs": [
    {
     "name": "stdout",
     "output_type": "stream",
     "text": [
      "1 1\n",
      "1 2\n",
      "2 1\n",
      "2 2\n",
      "3 1\n",
      "3 2\n"
     ]
    }
   ],
   "source": [
    "# can use tuple unpacking to yank the row and col values from each tuple as you iterate over the cells list:\n",
    "\n",
    "for row, col in cells: \n",
    "    print(row, col)"
   ]
  },
  {
   "cell_type": "markdown",
   "metadata": {},
   "source": [
    "### Dictionary Comprehensions"
   ]
  },
  {
   "cell_type": "markdown",
   "metadata": {},
   "source": [
    "#### (1) python way: dictionary comprehension"
   ]
  },
  {
   "cell_type": "code",
   "execution_count": 395,
   "metadata": {},
   "outputs": [
    {
     "data": {
      "text/plain": [
       "{'l': 1, 'e': 2, 't': 2, 'r': 1, 's': 1}"
      ]
     },
     "execution_count": 395,
     "metadata": {},
     "output_type": "execute_result"
    }
   ],
   "source": [
    "# { key_expression : value_expression for expression in iterable }\n",
    "\n",
    "# method 1\n",
    "word = 'letters'\n",
    "letter_counts = {letter: word.count(letter) for letter in word}    # letter: word.count(letter) gives order, list the letter, then list letter occurrences\n",
    "letter_counts"
   ]
  },
  {
   "cell_type": "code",
   "execution_count": 400,
   "metadata": {},
   "outputs": [
    {
     "data": {
      "text/plain": [
       "{'l': 1, 't': 2, 'e': 2, 'r': 1, 's': 1}"
      ]
     },
     "execution_count": 400,
     "metadata": {},
     "output_type": "execute_result"
    }
   ],
   "source": [
    "# method 2\n",
    "word = 'letters'\n",
    "letter_counts = {letter: word.count(letter) for letter in set(word)}\n",
    "letter_counts    # this gives a different ordre "
   ]
  },
  {
   "cell_type": "markdown",
   "metadata": {},
   "source": [
    "### Set Comprehensions"
   ]
  },
  {
   "cell_type": "code",
   "execution_count": 401,
   "metadata": {},
   "outputs": [
    {
     "data": {
      "text/plain": [
       "{1, 4}"
      ]
     },
     "execution_count": 401,
     "metadata": {},
     "output_type": "execute_result"
    }
   ],
   "source": [
    "# { expression for expression in iterable }\n",
    "\n",
    "a_set = {number for number in range(1,6) if number % 3 == 1}\n",
    "a_set"
   ]
  },
  {
   "cell_type": "markdown",
   "metadata": {},
   "source": [
    "### Generator Comprehensions"
   ]
  },
  {
   "cell_type": "code",
   "execution_count": 442,
   "metadata": {},
   "outputs": [
    {
     "name": "stdout",
     "output_type": "stream",
     "text": [
      "1\n",
      "2\n",
      "3\n",
      "4\n",
      "5\n"
     ]
    }
   ],
   "source": [
    "# generator comprehension (tuple doesn't have it)\n",
    "\n",
    "number_thing = (number for number in range(1, 6))\n",
    "\n",
    "for number in number_thing:\n",
    "    print(number)"
   ]
  },
  {
   "cell_type": "markdown",
   "metadata": {},
   "source": [
    "### Functions"
   ]
  },
  {
   "cell_type": "markdown",
   "metadata": {},
   "source": [
    "#### (1) function format: "
   ]
  },
  {
   "cell_type": "markdown",
   "metadata": {},
   "source": [
    "To define a Python function:\n",
    "* type def\n",
    "* the function name\n",
    "* parentheses enclosing any input parameters to the function\n",
    "* a colon : <p>\n",
    "Note: Function names have the same rules as variable names"
   ]
  },
  {
   "cell_type": "markdown",
   "metadata": {},
   "source": [
    "#### (2) a simple function: do_nothing()"
   ]
  },
  {
   "cell_type": "code",
   "execution_count": 445,
   "metadata": {},
   "outputs": [],
   "source": [
    "# create a function that does nothing\n",
    "\n",
    "def do_nothing():\n",
    "    pass"
   ]
  },
  {
   "cell_type": "code",
   "execution_count": 466,
   "metadata": {},
   "outputs": [
    {
     "name": "stdout",
     "output_type": "stream",
     "text": [
      "None\n"
     ]
    }
   ],
   "source": [
    "# use the function\n",
    "\n",
    "do_nothing()\n",
    "print(do_nothing())"
   ]
  },
  {
   "cell_type": "markdown",
   "metadata": {},
   "source": [
    "#### (3) function: make_sound()"
   ]
  },
  {
   "cell_type": "code",
   "execution_count": 447,
   "metadata": {},
   "outputs": [],
   "source": [
    "#  define a function with no parameters, just prints a single word:\n",
    "\n",
    "def make_sound():\n",
    "    print('quak quak')"
   ]
  },
  {
   "cell_type": "code",
   "execution_count": 448,
   "metadata": {},
   "outputs": [
    {
     "name": "stdout",
     "output_type": "stream",
     "text": [
      "quak quak\n"
     ]
    }
   ],
   "source": [
    "# use the function \n",
    "\n",
    "make_sound()"
   ]
  },
  {
   "cell_type": "markdown",
   "metadata": {},
   "source": [
    "#### (4) function: agree() - return a value"
   ]
  },
  {
   "cell_type": "code",
   "execution_count": 451,
   "metadata": {},
   "outputs": [],
   "source": [
    "# define function \n",
    "\n",
    "def agree():\n",
    "    return True"
   ]
  },
  {
   "cell_type": "code",
   "execution_count": 452,
   "metadata": {},
   "outputs": [
    {
     "data": {
      "text/plain": [
       "True"
      ]
     },
     "execution_count": 452,
     "metadata": {},
     "output_type": "execute_result"
    }
   ],
   "source": [
    "# use the function \n",
    "\n",
    "agree()"
   ]
  },
  {
   "cell_type": "code",
   "execution_count": 453,
   "metadata": {},
   "outputs": [
    {
     "name": "stdout",
     "output_type": "stream",
     "text": [
      "Splendid!\n"
     ]
    }
   ],
   "source": [
    "# call this function and test its returned value by using if:\n",
    "\n",
    "if agree():\n",
    "    print('Splendid!')\n",
    "else:\n",
    "    print('That was unexpected.')"
   ]
  },
  {
   "cell_type": "markdown",
   "metadata": {},
   "source": [
    "#### (4) function: echo()"
   ]
  },
  {
   "cell_type": "code",
   "execution_count": 459,
   "metadata": {},
   "outputs": [],
   "source": [
    "# define function \n",
    "\n",
    "def echo(anything):\n",
    "    return anything + ' ' + anything"
   ]
  },
  {
   "cell_type": "code",
   "execution_count": 460,
   "metadata": {},
   "outputs": [
    {
     "data": {
      "text/plain": [
       "'what is it what is it'"
      ]
     },
     "execution_count": 460,
     "metadata": {},
     "output_type": "execute_result"
    }
   ],
   "source": [
    "# use the function \n",
    "\n",
    "echo(\"what is it\")"
   ]
  },
  {
   "cell_type": "markdown",
   "metadata": {},
   "source": [
    "#### (5) function: commentary()"
   ]
  },
  {
   "cell_type": "code",
   "execution_count": 461,
   "metadata": {},
   "outputs": [],
   "source": [
    "# define function \n",
    "\n",
    "def commentary(color):\n",
    "    if color == 'red': \n",
    "        return \"It's a tomato\"\n",
    "    elif color == 'green': \n",
    "        return \"It's a peper\"\n",
    "    elif color == \"bee purple\":\n",
    "        return \"I don't know what it is, but only bees can see it.\"\n",
    "    else:\n",
    "        return \"I've never heard of the color \" + color + \".\" "
   ]
  },
  {
   "cell_type": "code",
   "execution_count": 463,
   "metadata": {},
   "outputs": [
    {
     "data": {
      "text/plain": [
       "\"I've never heard of the color blue.\""
      ]
     },
     "execution_count": 463,
     "metadata": {},
     "output_type": "execute_result"
    }
   ],
   "source": [
    "# use the function \n",
    "\n",
    "commentary('blue')"
   ]
  },
  {
   "cell_type": "markdown",
   "metadata": {},
   "source": [
    "### (5) None - very useful"
   ]
  },
  {
   "cell_type": "code",
   "execution_count": 467,
   "metadata": {},
   "outputs": [
    {
     "name": "stdout",
     "output_type": "stream",
     "text": [
      "It's no thing\n"
     ]
    }
   ],
   "source": [
    "# use None\n",
    "\n",
    "thing = None\n",
    "if thing:\n",
    "    print(\"It's some thing\")\n",
    "else:\n",
    "    print(\"It's no thing\")"
   ]
  },
  {
   "cell_type": "code",
   "execution_count": 468,
   "metadata": {},
   "outputs": [
    {
     "name": "stdout",
     "output_type": "stream",
     "text": [
      "It's nothing\n"
     ]
    }
   ],
   "source": [
    "# To distinguish None from a boolean False value, use Python’s is operator:\n",
    "\n",
    "if thing is None:\n",
    "    print(\"It's nothing\")\n",
    "else:\n",
    "    print(\"It's something\")"
   ]
  },
  {
   "cell_type": "markdown",
   "metadata": {},
   "source": [
    "You’ll need **None** to distinguish a missing value from an empty value. <br>\n",
    "Remember that zero-valued integers or floats, empty strings (''), lists ([]), tuples ((,)), dictionaries ({}), <br>\n",
    "and sets(set()) are all False, but are not equal to None."
   ]
  },
  {
   "cell_type": "code",
   "execution_count": 470,
   "metadata": {},
   "outputs": [],
   "source": [
    "# write a quick function that prints whether its argument is None:\n",
    "\n",
    "def is_none(thing):\n",
    "        if thing is None: \n",
    "            print(\"It's None\")\n",
    "        elif thing:\n",
    "            print(\"It's True\")\n",
    "        else:\n",
    "            print(\"It's False\")"
   ]
  },
  {
   "cell_type": "code",
   "execution_count": 474,
   "metadata": {},
   "outputs": [
    {
     "name": "stdout",
     "output_type": "stream",
     "text": [
      "It's False\n"
     ]
    }
   ],
   "source": [
    "is_none(())"
   ]
  },
  {
   "cell_type": "code",
   "execution_count": 475,
   "metadata": {},
   "outputs": [
    {
     "name": "stdout",
     "output_type": "stream",
     "text": [
      "It's None\n"
     ]
    }
   ],
   "source": [
    "is_none(None)"
   ]
  },
  {
   "cell_type": "code",
   "execution_count": 476,
   "metadata": {},
   "outputs": [
    {
     "name": "stdout",
     "output_type": "stream",
     "text": [
      "It's True\n"
     ]
    }
   ],
   "source": [
    "is_none('yes')"
   ]
  },
  {
   "cell_type": "markdown",
   "metadata": {},
   "source": [
    "### Positional Arguments"
   ]
  },
  {
   "cell_type": "markdown",
   "metadata": {},
   "source": [
    "Python handles function arguments very flexibly.<br>\n",
    "Ex: positional arguments, whose values are copied to their corresponding parameters in order."
   ]
  },
  {
   "cell_type": "code",
   "execution_count": 477,
   "metadata": {},
   "outputs": [],
   "source": [
    "# This function builds a dictionary from its positional input arguments and returns it:\n",
    "\n",
    "def menu(wine, entree, dessert):\n",
    "    return {'wine': wine, 'entree': entree, 'dessert': dessert}"
   ]
  },
  {
   "cell_type": "code",
   "execution_count": 478,
   "metadata": {},
   "outputs": [
    {
     "data": {
      "text/plain": [
       "{'wine': 'malbec', 'entree': 'petite pizza', 'dessert': 'chocolate'}"
      ]
     },
     "execution_count": 478,
     "metadata": {},
     "output_type": "execute_result"
    }
   ],
   "source": [
    "# use the function  - input must have the right order\n",
    "\n",
    "menu('malbec', 'petite pizza', 'chocolate')"
   ]
  },
  {
   "cell_type": "markdown",
   "metadata": {},
   "source": [
    "### Keyword Arguments"
   ]
  },
  {
   "cell_type": "code",
   "execution_count": 479,
   "metadata": {},
   "outputs": [
    {
     "data": {
      "text/plain": [
       "{'wine': 'bordeaux', 'entree': 'beef', 'dessert': 'bagel'}"
      ]
     },
     "execution_count": 479,
     "metadata": {},
     "output_type": "execute_result"
    }
   ],
   "source": [
    "# can specify the argument for the function\n",
    "\n",
    "menu(entree='beef', dessert='bagel', wine='bordeaux')"
   ]
  },
  {
   "cell_type": "markdown",
   "metadata": {},
   "source": [
    "### Specify Default Parameter Values"
   ]
  },
  {
   "cell_type": "code",
   "execution_count": 480,
   "metadata": {},
   "outputs": [],
   "source": [
    "# specify default dessert \n",
    "\n",
    "def menu(wine, entree, dessert='pudding'):\n",
    "    return {'wine': wine, 'entree': entree, 'dessert': dessert}"
   ]
  },
  {
   "cell_type": "code",
   "execution_count": 482,
   "metadata": {},
   "outputs": [
    {
     "data": {
      "text/plain": [
       "{'wine': 'malbec', 'entree': 'bagel', 'dessert': 'pudding'}"
      ]
     },
     "execution_count": 482,
     "metadata": {},
     "output_type": "execute_result"
    }
   ],
   "source": [
    "# use the function - not change default \n",
    "\n",
    "menu('malbec', 'bagel')"
   ]
  },
  {
   "cell_type": "code",
   "execution_count": 483,
   "metadata": {},
   "outputs": [],
   "source": [
    "# buggy() function: expected to run each time with a fresh empty result list, \n",
    "# add the arg argument to it,  \n",
    "# then print a single-item list. \n",
    "\n",
    "def buggy(arg, result=[]):\n",
    "    result.append(arg)\n",
    "    print(result)"
   ]
  },
  {
   "cell_type": "code",
   "execution_count": 484,
   "metadata": {},
   "outputs": [
    {
     "name": "stdout",
     "output_type": "stream",
     "text": [
      "['a']\n"
     ]
    }
   ],
   "source": [
    "# try the function once, it works \n",
    "\n",
    "buggy('a')"
   ]
  },
  {
   "cell_type": "code",
   "execution_count": 485,
   "metadata": {},
   "outputs": [
    {
     "name": "stdout",
     "output_type": "stream",
     "text": [
      "['a', 'b']\n"
     ]
    }
   ],
   "source": [
    "# try it again, it should give 'b' but it didnt' \n",
    "buggy('b')"
   ]
  },
  {
   "cell_type": "code",
   "execution_count": 486,
   "metadata": {},
   "outputs": [],
   "source": [
    "# fix the buggy function \n",
    "\n",
    "def buggy(arg):\n",
    "    result=[]\n",
    "    result.append(arg)\n",
    "    print(result)"
   ]
  },
  {
   "cell_type": "code",
   "execution_count": 489,
   "metadata": {},
   "outputs": [
    {
     "name": "stdout",
     "output_type": "stream",
     "text": [
      "['c']\n"
     ]
    }
   ],
   "source": [
    "# try the function \n",
    "\n",
    "buggy('c')"
   ]
  },
  {
   "cell_type": "code",
   "execution_count": 490,
   "metadata": {},
   "outputs": [
    {
     "name": "stdout",
     "output_type": "stream",
     "text": [
      "['d']\n"
     ]
    }
   ],
   "source": [
    "# now it works \n",
    "\n",
    "buggy('c')"
   ]
  },
  {
   "cell_type": "code",
   "execution_count": 491,
   "metadata": {},
   "outputs": [],
   "source": [
    "# The fix is to pass in something else to indicate the first call:\n",
    "\n",
    "def nonbuggy(arg, result=None):\n",
    "    if result is None:\n",
    "        result = []\n",
    "    result.append(arg)\n",
    "    print(result)"
   ]
  },
  {
   "cell_type": "code",
   "execution_count": 495,
   "metadata": {},
   "outputs": [
    {
     "name": "stdout",
     "output_type": "stream",
     "text": [
      "['a']\n"
     ]
    }
   ],
   "source": [
    "# try the function \n",
    "nonbuggy('a')"
   ]
  },
  {
   "cell_type": "code",
   "execution_count": 496,
   "metadata": {},
   "outputs": [
    {
     "name": "stdout",
     "output_type": "stream",
     "text": [
      "['b']\n"
     ]
    }
   ],
   "source": [
    "# it works \n",
    "nonbuggy('b')"
   ]
  },
  {
   "cell_type": "markdown",
   "metadata": {},
   "source": [
    "### Gather Positional Arguments with *"
   ]
  },
  {
   "cell_type": "markdown",
   "metadata": {},
   "source": [
    "When used inside the function with a parameter, <br>\n",
    "an asterisk groups a variable number of positional arguments into a tuple of parameter values. <br> \n",
    "This is useful for writing functions such as print() that accept a variable number of arguments. <br>\n",
    "When using *, you don’t need to call the tuple parameter args, but it’s a common idiom in Python."
   ]
  },
  {
   "cell_type": "code",
   "execution_count": 497,
   "metadata": {},
   "outputs": [],
   "source": [
    "def print_args(*args):\n",
    "    print('Positional argument tuple:', args)"
   ]
  },
  {
   "cell_type": "code",
   "execution_count": 498,
   "metadata": {},
   "outputs": [
    {
     "name": "stdout",
     "output_type": "stream",
     "text": [
      "Positional argument tuple: (3, 2, 1, 'wait!', 'uh...')\n"
     ]
    }
   ],
   "source": [
    "# Whatever you give, it will be printed as the args tuple:\n",
    "\n",
    "print_args(3, 2, 1, 'wait!', 'uh...')"
   ]
  },
  {
   "cell_type": "code",
   "execution_count": 500,
   "metadata": {},
   "outputs": [],
   "source": [
    "# If your function has required positional arguments as well, *args goes at the end and grabs all the rest:\n",
    "\n",
    "def print_more(required1, required2, *args):\n",
    "    print('Need this one:', required1)\n",
    "    print('Need this one too:', required2)\n",
    "    print('All the rest:', args)"
   ]
  },
  {
   "cell_type": "code",
   "execution_count": 502,
   "metadata": {},
   "outputs": [
    {
     "name": "stdout",
     "output_type": "stream",
     "text": [
      "Need this one: cap\n",
      "Need this one too: gloves\n",
      "All the rest: ('scarf', 'monocle', 'mustache wax')\n"
     ]
    }
   ],
   "source": [
    "# try function\n",
    "print_more('cap', 'gloves', 'scarf', 'monocle', 'mustache wax')"
   ]
  },
  {
   "cell_type": "markdown",
   "metadata": {},
   "source": [
    "### Gather Keyword Arguments with **"
   ]
  },
  {
   "cell_type": "markdown",
   "metadata": {},
   "source": [
    "You can use two asterisks ** to group keyword arguments into a dictionary, <br>\n",
    "where the argument names are the keys, and their values are the corresponding dictionary values. "
   ]
  },
  {
   "cell_type": "code",
   "execution_count": 503,
   "metadata": {},
   "outputs": [],
   "source": [
    "# defines function print_kwargs() to print its keyword arguments:\n",
    "\n",
    "def print_kwargs(**kwargs):\n",
    "    print('Keyword arguments:', kwargs)"
   ]
  },
  {
   "cell_type": "code",
   "execution_count": 504,
   "metadata": {},
   "outputs": [
    {
     "name": "stdout",
     "output_type": "stream",
     "text": [
      "Keyword arguments: {'wine': 'merlot', 'entree': 'mutton', 'dessert': 'macaroon'}\n"
     ]
    }
   ],
   "source": [
    "# Inside the function, kwargs is a dictionary.\n",
    "\n",
    "print_kwargs(wine='merlot', entree='mutton', dessert='macaroon')"
   ]
  },
  {
   "cell_type": "markdown",
   "metadata": {},
   "source": [
    "### Docstrings"
   ]
  },
  {
   "cell_type": "markdown",
   "metadata": {},
   "source": [
    "To increase readalibility, you can attach documentation to a function definition <br>\n",
    "by including a string at the beginning of the function body. <br>\n",
    "This is the function’s docstring."
   ]
  },
  {
   "cell_type": "code",
   "execution_count": null,
   "metadata": {},
   "outputs": [],
   "source": [
    "# you can give a long and rich formatting for function's docstring.\n",
    "\n",
    "def print_if_true(thing, check):\n",
    "    \"\"\"\n",
    "    Prints the first argument if a second argument is true.\n",
    "    The operation is:\n",
    "        1. Check whether the *second* argumetn is true.\n",
    "        2. IF it is, print the *first* argument.\n",
    "    \"\"\"\n",
    "    if check:\n",
    "        print(thing)"
   ]
  },
  {
   "cell_type": "code",
   "execution_count": 507,
   "metadata": {
    "scrolled": true
   },
   "outputs": [
    {
     "name": "stdout",
     "output_type": "stream",
     "text": [
      "Help on function echo in module __main__:\n",
      "\n",
      "echo(anything)\n",
      "\n"
     ]
    }
   ],
   "source": [
    "# To print a function’s docstring, type help(function_name) \n",
    "\n",
    "help(echo)"
   ]
  },
  {
   "cell_type": "code",
   "execution_count": 510,
   "metadata": {},
   "outputs": [
    {
     "name": "stdout",
     "output_type": "stream",
     "text": [
      "None\n"
     ]
    }
   ],
   "source": [
    "# see just the raw docstring, without the formatting:\n",
    "\n",
    "print(echo.__doc__)"
   ]
  },
  {
   "cell_type": "markdown",
   "metadata": {},
   "source": [
    "###  Functions Are First-Class Citizens"
   ]
  },
  {
   "cell_type": "markdown",
   "metadata": {},
   "source": [
    "In Python , everything is an object. <br>\n",
    "This includes numbers, strings, tuples, lists, dictionaries—and functions, as well. <br>\n",
    "**Functions** are first-class citi‐ zens in Python. You can assign them to variables, <br>\n",
    "use them as arguments to other func‐ tions, and return them from functions. "
   ]
  },
  {
   "cell_type": "code",
   "execution_count": 511,
   "metadata": {},
   "outputs": [],
   "source": [
    "# define a simple function called answer() that doesn’t have any arguments; it just prints the number 42:\n",
    "\n",
    "def answer():\n",
    "    print(42)"
   ]
  },
  {
   "cell_type": "code",
   "execution_count": 512,
   "metadata": {},
   "outputs": [
    {
     "name": "stdout",
     "output_type": "stream",
     "text": [
      "42\n"
     ]
    }
   ],
   "source": [
    "# use the function \n",
    "answer()"
   ]
  },
  {
   "cell_type": "code",
   "execution_count": 513,
   "metadata": {},
   "outputs": [],
   "source": [
    "# define a function named run_something. \n",
    "# It has one argument called func, a function to run. \n",
    "# Once inside, it just calls the function.\n",
    "\n",
    "def run_something(func):\n",
    "    func()"
   ]
  },
  {
   "cell_type": "code",
   "execution_count": 515,
   "metadata": {},
   "outputs": [
    {
     "name": "stdout",
     "output_type": "stream",
     "text": [
      "42\n"
     ]
    }
   ],
   "source": [
    "# If we pass answer to run_something(), we’re using a function as data, just as with any‐ thing else:\n",
    "\n",
    "run_something(answer)"
   ]
  },
  {
   "cell_type": "code",
   "execution_count": 520,
   "metadata": {},
   "outputs": [
    {
     "data": {
      "text/plain": [
       "function"
      ]
     },
     "execution_count": 520,
     "metadata": {},
     "output_type": "execute_result"
    }
   ],
   "source": [
    "# Notice that you passed *answer*, not answer(). \n",
    "# With no parentheses, Python just treats the function like any other object. \n",
    "# That’s because, like everything else in Python, it is an object:\n",
    "\n",
    "type(run_something)"
   ]
  },
  {
   "cell_type": "code",
   "execution_count": 522,
   "metadata": {},
   "outputs": [],
   "source": [
    "# Define a function add_args() that prints the sum of its two numeric arguments, arg1 and arg2:\n",
    "\n",
    "def add_args(arg1, arg2):\n",
    "    print(arg1 + arg2)"
   ]
  },
  {
   "cell_type": "code",
   "execution_count": 523,
   "metadata": {},
   "outputs": [
    {
     "data": {
      "text/plain": [
       "function"
      ]
     },
     "execution_count": 523,
     "metadata": {},
     "output_type": "execute_result"
    }
   ],
   "source": [
    "type(add_args)"
   ]
  },
  {
   "cell_type": "code",
   "execution_count": 524,
   "metadata": {},
   "outputs": [],
   "source": [
    "# define a function called run_something_with_args() that takes three arguments:\n",
    "# • func—The function to run\n",
    "#• arg1—The first argument for func\n",
    "#• arg2—The second argument for func\n",
    "\n",
    "def run_something_with_args(func, arg1, arg2):\n",
    "    func(arg1, arg2)"
   ]
  },
  {
   "cell_type": "code",
   "execution_count": 525,
   "metadata": {},
   "outputs": [
    {
     "name": "stdout",
     "output_type": "stream",
     "text": [
      "14\n"
     ]
    }
   ],
   "source": [
    "# in the argument, use function 'add_args'\n",
    "\n",
    "run_something_with_args(add_args, 5, 9)    "
   ]
  },
  {
   "cell_type": "code",
   "execution_count": 526,
   "metadata": {},
   "outputs": [],
   "source": [
    "# define a test function that takes any number of positional arguments, \n",
    "# calculates their sum by using the sum() function, \n",
    "# and then returns that sum:\n",
    "\n",
    "def sum_args(*args):\n",
    "    return sum(args)"
   ]
  },
  {
   "cell_type": "code",
   "execution_count": 531,
   "metadata": {},
   "outputs": [
    {
     "data": {
      "text/plain": [
       "15"
      ]
     },
     "execution_count": 531,
     "metadata": {},
     "output_type": "execute_result"
    }
   ],
   "source": [
    "# try the function \n",
    "\n",
    "sum_args(1, 3, 5, 6)"
   ]
  },
  {
   "cell_type": "code",
   "execution_count": 532,
   "metadata": {},
   "outputs": [],
   "source": [
    "# define function run_with_positional_args(), \n",
    "# which takes a function and any number of positional arguments to pass to it:\n",
    "\n",
    "def run_with_positional_args(func, *args):\n",
    "    return func(*args)"
   ]
  },
  {
   "cell_type": "code",
   "execution_count": 535,
   "metadata": {},
   "outputs": [
    {
     "data": {
      "text/plain": [
       "10"
      ]
     },
     "execution_count": 535,
     "metadata": {},
     "output_type": "execute_result"
    }
   ],
   "source": [
    "run_with_positional_args(sum_args, 1, 2, 3, 4)"
   ]
  },
  {
   "cell_type": "markdown",
   "metadata": {},
   "source": [
    "### Inner functions"
   ]
  },
  {
   "cell_type": "markdown",
   "metadata": {},
   "source": [
    "An inner function can be useful when performing some complex task <br>\n",
    "more than once within another function, to avoid loops or code duplication. "
   ]
  },
  {
   "cell_type": "code",
   "execution_count": 541,
   "metadata": {},
   "outputs": [],
   "source": [
    "# define a function within another function:\n",
    "\n",
    "def outer(a, b):\n",
    "    def inner(c, d): \n",
    "        return c + d\n",
    "    return inner(a, b)"
   ]
  },
  {
   "cell_type": "code",
   "execution_count": 542,
   "metadata": {},
   "outputs": [
    {
     "data": {
      "text/plain": [
       "11"
      ]
     },
     "execution_count": 542,
     "metadata": {},
     "output_type": "execute_result"
    }
   ],
   "source": [
    "# try the function \n",
    "\n",
    "outer(4, 7)"
   ]
  },
  {
   "cell_type": "code",
   "execution_count": 543,
   "metadata": {},
   "outputs": [],
   "source": [
    "#  this inner function adds some text to its argument:\n",
    "\n",
    "def knights(saying):\n",
    "    def inner(quote):\n",
    "        return \"We are the knights who say: '%s'\" % quote\n",
    "    return inner(saying)"
   ]
  },
  {
   "cell_type": "code",
   "execution_count": 545,
   "metadata": {},
   "outputs": [
    {
     "data": {
      "text/plain": [
       "\"We are the knights who say: 'Ni!'\""
      ]
     },
     "execution_count": 545,
     "metadata": {},
     "output_type": "execute_result"
    }
   ],
   "source": [
    "# try function \n",
    "\n",
    "knights(\"Ni!\")"
   ]
  },
  {
   "cell_type": "markdown",
   "metadata": {},
   "source": [
    "### Closures"
   ]
  },
  {
   "cell_type": "markdown",
   "metadata": {},
   "source": [
    "An inner function can act as a closure. <br>\n",
    "This is a function that is dynamically generated by another function and can both <br>\n",
    "change and remember the values of variables that were created outside the function."
   ]
  },
  {
   "cell_type": "code",
   "execution_count": 554,
   "metadata": {},
   "outputs": [],
   "source": [
    "# modify function knights() to knights2() where: \n",
    "# • inner2() uses the outer saying parameter directly instead of getting it as an argument.\n",
    "#• knights2() returns the inner2 function name instead of calling it.\n",
    "\n",
    "# the inner2() function knows the value of saying that was passed in and remembers it. \n",
    "# The line return inner2 returns this specialized copy of the inner2 function (but doesn’t call it). T\n",
    "# hat’s a closure: a dynamically created function that remembers where it came from.\n",
    "\n",
    "def knights2(saying):\n",
    "    def inner2():\n",
    "        return \"We are the knights who say: '%s'\" % saying\n",
    "    return inner2"
   ]
  },
  {
   "cell_type": "code",
   "execution_count": 557,
   "metadata": {},
   "outputs": [
    {
     "data": {
      "text/plain": [
       "<function __main__.knights2.<locals>.inner2()>"
      ]
     },
     "execution_count": 557,
     "metadata": {},
     "output_type": "execute_result"
    }
   ],
   "source": [
    "# call knights2() twice, with different arguments: \n",
    "\n",
    "# it's closure: \n",
    "a = knights2('Duck')\n",
    "a"
   ]
  },
  {
   "cell_type": "code",
   "execution_count": 558,
   "metadata": {},
   "outputs": [
    {
     "data": {
      "text/plain": [
       "<function __main__.knights2.<locals>.inner2()>"
      ]
     },
     "execution_count": 558,
     "metadata": {},
     "output_type": "execute_result"
    }
   ],
   "source": [
    "# it's closure: \n",
    "b = knights2('Hasenpfeffer')\n",
    "b"
   ]
  },
  {
   "cell_type": "code",
   "execution_count": 560,
   "metadata": {},
   "outputs": [
    {
     "data": {
      "text/plain": [
       "function"
      ]
     },
     "execution_count": 560,
     "metadata": {},
     "output_type": "execute_result"
    }
   ],
   "source": [
    "# they're also functions\n",
    "type(a)\n",
    "type(b)"
   ]
  },
  {
   "cell_type": "code",
   "execution_count": 561,
   "metadata": {},
   "outputs": [
    {
     "data": {
      "text/plain": [
       "\"We are the knights who say: 'Duck'\""
      ]
     },
     "execution_count": 561,
     "metadata": {},
     "output_type": "execute_result"
    }
   ],
   "source": [
    "# call the function \n",
    "a()"
   ]
  },
  {
   "cell_type": "markdown",
   "metadata": {},
   "source": [
    "### lambda() Function - Anonymous Functions "
   ]
  },
  {
   "cell_type": "markdown",
   "metadata": {},
   "source": [
    "* In Python, a lambda function is an anonymous function expressed as a single statement. You can use it instead of a normal tiny function.\n",
    "\n",
    "* Often, using real functions such as enliven() is much clearer than using lambdas. \n",
    "\n",
    "* Lambdas are mostly useful for cases in which you would otherwise need to define many tiny functions and remember what you called them all. "
   ]
  },
  {
   "cell_type": "code",
   "execution_count": 564,
   "metadata": {},
   "outputs": [],
   "source": [
    "# create a list first \n",
    "\n",
    "stairs = ['thud', 'meow', 'thud', 'hiss']"
   ]
  },
  {
   "cell_type": "code",
   "execution_count": 562,
   "metadata": {},
   "outputs": [],
   "source": [
    "# define the function edit_story(): \n",
    "# • words—a list of words\n",
    "#• func—a function to apply to each word in words\n",
    "\n",
    "def edit_story(words, func):\n",
    "    for word in words:\n",
    "        print(func(word))"
   ]
  },
  {
   "cell_type": "code",
   "execution_count": 565,
   "metadata": {},
   "outputs": [],
   "source": [
    "# define another function enliven(): \n",
    "# this will capitalize each word and append an exclamation point: \n",
    "\n",
    "def enliven(word): # give that prose more punch\n",
    "    return word.capitalize() + '!'"
   ]
  },
  {
   "cell_type": "code",
   "execution_count": 566,
   "metadata": {},
   "outputs": [
    {
     "name": "stdout",
     "output_type": "stream",
     "text": [
      "Thud!\n",
      "Meow!\n",
      "Thud!\n",
      "Hiss!\n"
     ]
    }
   ],
   "source": [
    "edit_story(stairs, enliven)"
   ]
  },
  {
   "cell_type": "code",
   "execution_count": 567,
   "metadata": {},
   "outputs": [
    {
     "name": "stdout",
     "output_type": "stream",
     "text": [
      "Thud!\n",
      "Meow!\n",
      "Thud!\n",
      "Hiss!\n"
     ]
    }
   ],
   "source": [
    "# The enliven() function was so brief that we could replace it with a lambda:\n",
    "stairs = ['thud', 'meow', 'thud', 'hiss']\n",
    "\n",
    "def edit_story(words, func):\n",
    "    for word in words:\n",
    "        print(func(word))\n",
    "\n",
    "# The lambda takes one argument, which we call word here. \n",
    "# Everything between the colon and the terminating parenthesis is the definition of the function.\n",
    "edit_story(stairs, lambda word: word.capitalize() + '!')"
   ]
  },
  {
   "cell_type": "markdown",
   "metadata": {},
   "source": [
    "### Generator function"
   ]
  },
  {
   "cell_type": "markdown",
   "metadata": {},
   "source": [
    "A generator is a Python sequence creation object. <br>\n",
    "With it, you can iterate through potentially huge sequences without creating and storing <br>\n",
    "the entire sequence in memory at once. Generators are often the source of data for iterators. <br>\n",
    "- example: range()"
   ]
  },
  {
   "cell_type": "code",
   "execution_count": 568,
   "metadata": {},
   "outputs": [
    {
     "data": {
      "text/plain": [
       "5050"
      ]
     },
     "execution_count": 568,
     "metadata": {},
     "output_type": "execute_result"
    }
   ],
   "source": [
    "sum(range(1, 101))"
   ]
  },
  {
   "cell_type": "code",
   "execution_count": 573,
   "metadata": {},
   "outputs": [],
   "source": [
    "# If you want to create a potentially large sequence, and the code is too large for a generator comprehension, \n",
    "# write a generator function. It’s a normal function, \n",
    "# but it returns its value with a yield statement rather than return.\n",
    "\n",
    "def my_range(first=0, last=10, step=1):\n",
    "    number = first \n",
    "    while number < last:\n",
    "        yield number \n",
    "        number += step"
   ]
  },
  {
   "cell_type": "code",
   "execution_count": 577,
   "metadata": {},
   "outputs": [
    {
     "data": {
      "text/plain": [
       "<generator object my_range at 0x1129b12e0>"
      ]
     },
     "execution_count": 577,
     "metadata": {},
     "output_type": "execute_result"
    }
   ],
   "source": [
    "# try function \n",
    "\n",
    "ranger = my_range(1, 5)\n",
    "ranger"
   ]
  },
  {
   "cell_type": "code",
   "execution_count": 579,
   "metadata": {},
   "outputs": [
    {
     "name": "stdout",
     "output_type": "stream",
     "text": [
      "1\n",
      "2\n",
      "3\n",
      "4\n"
     ]
    }
   ],
   "source": [
    "# iterate over this generator object:\n",
    "\n",
    "for x in ranger:\n",
    "    print(x)"
   ]
  },
  {
   "cell_type": "markdown",
   "metadata": {},
   "source": [
    "### Decorators"
   ]
  },
  {
   "cell_type": "markdown",
   "metadata": {},
   "source": [
    "Sometimes, you want to modify an existing function without changing its source code. <br>\n",
    "A common example is adding a debugging statement to see what arguments were passed in.\n",
    "\n",
    "A **decorator** is a function that takes one function as input and returns another function. <br>\n",
    "We’ll dig into our bag of Python tricks and use the following:<br>\n",
    "• \\*args and \\*\\*kwargs<br>\n",
    "• Inner functions<br>\n",
    "• Functions as arguments<p>\n",
    "The function document_it() defines a decorator that will do the following:<br>\n",
    "• Print the function’s name and the values of its arguments<br>\n",
    "• Run the function with the arguments<br>\n",
    "• Print the result<br>\n",
    "• Return the modified function for use"
   ]
  },
  {
   "cell_type": "code",
   "execution_count": 580,
   "metadata": {},
   "outputs": [],
   "source": [
    "# decorator example: \n",
    "\n",
    "def document_it(func):\n",
    "    def new_function(*args, **kwargs):\n",
    "        print('Running function:', func.__name__)\n",
    "        print('Positional arguments:', args)\n",
    "        print('Keyword arguments:', kwargs)\n",
    "        result = func(*args, **kwargs)\n",
    "        print('Result:', result)\n",
    "        return result\n",
    "    return new_function"
   ]
  },
  {
   "cell_type": "markdown",
   "metadata": {},
   "source": [
    "Whatever func you pass to document_it(), you get a new function that includes the extra statements <br>\n",
    "that document_it() adds. A decorator doesn’t actually have to run any code from func, <br>\n",
    "but document_it() calls func part way through so that you get the results of func as well as all the extras."
   ]
  },
  {
   "cell_type": "code",
   "execution_count": 581,
   "metadata": {},
   "outputs": [
    {
     "data": {
      "text/plain": [
       "8"
      ]
     },
     "execution_count": 581,
     "metadata": {},
     "output_type": "execute_result"
    }
   ],
   "source": [
    "# You can apply the decorator manually:\n",
    "\n",
    "# define function \n",
    "def add_ints(a, b):\n",
    "    return a + b\n",
    "\n",
    "add_ints(3, 5)"
   ]
  },
  {
   "cell_type": "code",
   "execution_count": 582,
   "metadata": {},
   "outputs": [
    {
     "name": "stdout",
     "output_type": "stream",
     "text": [
      "Running function: add_ints\n",
      "Positional arguments: (3, 5)\n",
      "Keyword arguments: {}\n",
      "Result: 8\n"
     ]
    },
    {
     "data": {
      "text/plain": [
       "8"
      ]
     },
     "execution_count": 582,
     "metadata": {},
     "output_type": "execute_result"
    }
   ],
   "source": [
    "# method 1: manual decorator assignment \n",
    "\n",
    "cooler_add_ints = document_it(add_ints)\n",
    "cooler_add_ints(3, 5)"
   ]
  },
  {
   "cell_type": "code",
   "execution_count": 584,
   "metadata": {},
   "outputs": [
    {
     "name": "stdout",
     "output_type": "stream",
     "text": [
      "Running function: add_ints\n",
      "Positional arguments: (3, 5)\n",
      "Keyword arguments: {}\n",
      "Result: 8\n"
     ]
    },
    {
     "data": {
      "text/plain": [
       "8"
      ]
     },
     "execution_count": 584,
     "metadata": {},
     "output_type": "execute_result"
    }
   ],
   "source": [
    "# method 2: add @decorator_name before the function that you want to decorate:\n",
    "\n",
    "@document_it            # @document_it\n",
    "def add_ints(a, b):      # define function \n",
    "    return a + b\n",
    "\n",
    "add_ints(3, 5)              # use the function "
   ]
  },
  {
   "cell_type": "code",
   "execution_count": 585,
   "metadata": {},
   "outputs": [
    {
     "name": "stdout",
     "output_type": "stream",
     "text": [
      "Running function: new_function\n",
      "Positional arguments: (3, 5)\n",
      "Keyword arguments: {}\n",
      "Result: 64\n"
     ]
    },
    {
     "data": {
      "text/plain": [
       "64"
      ]
     },
     "execution_count": 585,
     "metadata": {},
     "output_type": "execute_result"
    }
   ],
   "source": [
    "# You can have more than one decorator for a function. \n",
    "# Write a function: square_it() that squares the result:\n",
    "\n",
    "def square_it(func):\n",
    "    def new_function(*args, **kwargs): \n",
    "        result = func(*args, **kwargs) \n",
    "        return result * result\n",
    "    return new_function\n",
    "\n",
    "@document_it        # the decorator order doesn't matter here \n",
    "@square_it\n",
    "def add_ints(a, b):\n",
    "    return a + b\n",
    "\n",
    "add_ints(3, 5)"
   ]
  },
  {
   "cell_type": "markdown",
   "metadata": {},
   "source": [
    "### Namespaces and Scope"
   ]
  },
  {
   "cell_type": "markdown",
   "metadata": {},
   "source": [
    "Python programs have various namespaces—sections within <br>\n",
    "which a particular name is unique and unrelated to the same name in other namespaces.<p>\n",
    "    \n",
    "The main part of a program defines the global namespace; <br>\n",
    "    thus, the variables in that namespace are global variables."
   ]
  },
  {
   "cell_type": "code",
   "execution_count": 589,
   "metadata": {},
   "outputs": [
    {
     "name": "stdout",
     "output_type": "stream",
     "text": [
      "\tat the top level: fruitbat\n",
      "inside print_global: fruitbat\n"
     ]
    }
   ],
   "source": [
    "# You can get the value of a global variable from within a function:\n",
    "\n",
    "animal = 'fruitbat'\n",
    "def print_global():\n",
    "    print('inside print_global:', animal) \n",
    "\n",
    "print('\\tat the top level:', animal)\n",
    "\n",
    "print_global()"
   ]
  },
  {
   "cell_type": "code",
   "execution_count": 591,
   "metadata": {},
   "outputs": [],
   "source": [
    "# but if you try to get the value of the global variable and change it \n",
    "# within the function, you get an error:\n",
    "\n",
    "def change_and_print_global():\n",
    "    print('inside change_and_print_global:', animal)\n",
    "    animal = 'wombat'\n",
    "    print('after the change:', animal)\n",
    "\n",
    "#### this doesn't work\n",
    "change_and_print_global()     "
   ]
  },
  {
   "cell_type": "code",
   "execution_count": 592,
   "metadata": {},
   "outputs": [
    {
     "name": "stdout",
     "output_type": "stream",
     "text": [
      "inside change_local: wombat 4605531952\n"
     ]
    }
   ],
   "source": [
    "def change_local():\n",
    "    animal = 'wombat'\n",
    "    print('inside change_local:', animal, id(animal))\n",
    "\n",
    "change_local()"
   ]
  },
  {
   "cell_type": "code",
   "execution_count": 593,
   "metadata": {},
   "outputs": [
    {
     "data": {
      "text/plain": [
       "4606914864"
      ]
     },
     "execution_count": 593,
     "metadata": {},
     "output_type": "execute_result"
    }
   ],
   "source": [
    "# check 'animal'\n",
    "animal \n",
    "\n",
    "id(animal)"
   ]
  },
  {
   "cell_type": "markdown",
   "metadata": {},
   "source": [
    "What happened here? <br>\n",
    "The first line assigned the string 'fruitbat' to a global variable named animal. <br>\n",
    "The change_local() function also has a variable named animal, but that’s in its local namespace.\n",
    "\n",
    "We used the Python function **id()** here to print the unique value for each object <br>\n",
    "and prove that the variable animal inside change_local() is not the same as animal at the main level <br>\n",
    "of the program."
   ]
  },
  {
   "cell_type": "code",
   "execution_count": 602,
   "metadata": {},
   "outputs": [
    {
     "data": {
      "text/plain": [
       "'fruitbat'"
      ]
     },
     "execution_count": 602,
     "metadata": {},
     "output_type": "execute_result"
    },
    {
     "name": "stdout",
     "output_type": "stream",
     "text": [
      "inside change_and_print_global: wombat\n"
     ]
    }
   ],
   "source": [
    "# To access the global variable rather than the local one within a function, \n",
    "# you need to be explicit and use the global keyword: \n",
    "\n",
    "# define 'animal'\n",
    "animal = 'fruitbat'\n",
    "\n",
    "# function \n",
    "def change_and_print_global():\n",
    "    global animal                           # explicitly use 'global'\n",
    "    animal = 'wombat'\n",
    "    print('inside change_and_print_global:', animal)\n",
    "\n",
    "# check 'animal'\n",
    "animal\n",
    "\n",
    "# check changed 'animal'\n",
    "change_and_print_global()"
   ]
  },
  {
   "cell_type": "markdown",
   "metadata": {},
   "source": [
    "If you don’t say global within a function, <br>\n",
    "Python uses the local namespace and the variable is local. It goes away after the function completes.<p>\n",
    "\n",
    "Python provides two functions to access the contents of your namespaces: <br>\n",
    "• locals() returns a dictionary of the contents of the local namespace.<br>\n",
    "• globals() returns a dictionary of the contents of the global namespace."
   ]
  },
  {
   "cell_type": "code",
   "execution_count": 630,
   "metadata": {},
   "outputs": [
    {
     "data": {
      "text/plain": [
       "'fruitbat'"
      ]
     },
     "execution_count": 630,
     "metadata": {},
     "output_type": "execute_result"
    },
    {
     "name": "stdout",
     "output_type": "stream",
     "text": [
      "locals: {'animal': 'wombat'}\n"
     ]
    }
   ],
   "source": [
    "# define animal \n",
    "animal = 'fruitbat'  \n",
    "\n",
    "# define function \n",
    "def change_local():\n",
    "    animal = 'wombat'     # local variable\n",
    "    print('locals:', locals())\n",
    "\n",
    "animal                  # global variable \n",
    "\n",
    "change_local()      # local variable \n",
    "\n",
    "# Note: The local namespace within change_local() contained only the local variable animal. \n",
    "#The global namespace contained the separate global variable animal and a number of other things."
   ]
  },
  {
   "cell_type": "markdown",
   "metadata": {},
   "source": [
    "### Uses of _ and __ in Names"
   ]
  },
  {
   "cell_type": "markdown",
   "metadata": {},
   "source": [
    "Names that begin and end with two underscores (ex: \\_ \\_doc\\_ \\_) are reserved for use within Python, <br>\n",
    "so you should not use them with your own variables. "
   ]
  },
  {
   "cell_type": "code",
   "execution_count": 632,
   "metadata": {},
   "outputs": [
    {
     "name": "stdout",
     "output_type": "stream",
     "text": [
      "This function is named: amazing\n",
      "And its docstring is: This is the amazing function.\n",
      "    Want to see it again?\n"
     ]
    }
   ],
   "source": [
    "# example \n",
    "\n",
    "# define function \n",
    "def amazing():\n",
    "    '''This is the amazing function.\n",
    "    Want to see it again?'''\n",
    "    print('This function is named:', amazing.__name__)\n",
    "    print('And its docstring is:', amazing.__doc__)\n",
    "\n",
    "# use function \n",
    "amazing()"
   ]
  },
  {
   "cell_type": "markdown",
   "metadata": {},
   "source": [
    "### Handle Errors with try and except"
   ]
  },
  {
   "cell_type": "markdown",
   "metadata": {},
   "source": [
    "* It’s good practice to add **exception handling** anywhere an exception might occur to let the user know what is happening.<br> \n",
    "* You might not be able to fix the problem, but at least you can note the circumstances and shut your program down gracefully. <br> \n",
    "* If an exception occurs in some function and is not caught there, it bubbles up until it is caught by a matching handler in some calling function. \n",
    "* If you don’t provide your own exception handler, Python prints an error message and some info about where the error occurred and then terminates the program."
   ]
  },
  {
   "cell_type": "markdown",
   "metadata": {},
   "source": [
    "#### (1) default: code error"
   ]
  },
  {
   "cell_type": "code",
   "execution_count": 633,
   "metadata": {},
   "outputs": [
    {
     "ename": "IndexError",
     "evalue": "list index out of range",
     "output_type": "error",
     "traceback": [
      "\u001b[0;31m---------------------------------------------------------------------------\u001b[0m",
      "\u001b[0;31mIndexError\u001b[0m                                Traceback (most recent call last)",
      "\u001b[0;32m<ipython-input-633-9a1994db83dd>\u001b[0m in \u001b[0;36m<module>\u001b[0;34m\u001b[0m\n\u001b[1;32m      3\u001b[0m \u001b[0mshort_list\u001b[0m \u001b[0;34m=\u001b[0m \u001b[0;34m[\u001b[0m\u001b[0;36m1\u001b[0m\u001b[0;34m,\u001b[0m \u001b[0;36m2\u001b[0m\u001b[0;34m,\u001b[0m \u001b[0;36m3\u001b[0m\u001b[0;34m]\u001b[0m\u001b[0;34m\u001b[0m\u001b[0;34m\u001b[0m\u001b[0m\n\u001b[1;32m      4\u001b[0m \u001b[0mposition\u001b[0m \u001b[0;34m=\u001b[0m \u001b[0;36m5\u001b[0m\u001b[0;34m\u001b[0m\u001b[0;34m\u001b[0m\u001b[0m\n\u001b[0;32m----> 5\u001b[0;31m \u001b[0mshort_list\u001b[0m\u001b[0;34m[\u001b[0m\u001b[0mposition\u001b[0m\u001b[0;34m]\u001b[0m\u001b[0;34m\u001b[0m\u001b[0;34m\u001b[0m\u001b[0m\n\u001b[0m",
      "\u001b[0;31mIndexError\u001b[0m: list index out of range"
     ]
    }
   ],
   "source": [
    "# example \n",
    "\n",
    "short_list = [1, 2, 3]\n",
    "position = 5\n",
    "short_list[position]   "
   ]
  },
  {
   "cell_type": "markdown",
   "metadata": {},
   "source": [
    "#### (2) 'except' statement - provide error handling"
   ]
  },
  {
   "cell_type": "code",
   "execution_count": 635,
   "metadata": {},
   "outputs": [
    {
     "name": "stdout",
     "output_type": "stream",
     "text": [
      "Need a position between 0 and 2  but got 5\n"
     ]
    }
   ],
   "source": [
    "# example \n",
    "\n",
    "short_list = [1, 2, 3]\n",
    "position = 5\n",
    "try:\n",
    "    short_list[position]\n",
    "except:\n",
    "    print('Need a position between 0 and', len(short_list)-1, ' but got', position)\n",
    "\n",
    "# Note: The code inside the try block is run. \n",
    "# If there is an error, an exception is raised and the code inside the except block runs. \n",
    "# If there are no errors, the except block is skipped."
   ]
  },
  {
   "cell_type": "markdown",
   "metadata": {},
   "source": [
    "* If more than one type of exception could occur, it’s best to provide a separate exception handler for each. <br>\n",
    "* Sometimes, you want exception details beyond the type. You get the full exception object in the variable name if you use the form:<br>\n",
    " - `except exceptiontype as name`<br>\n",
    "\n",
    "* The example below saves an IndexError exception in the variable err, and any other exception in the variable other. <br>\n",
    "* The example prints everything stored in other to show what you get in that object."
   ]
  },
  {
   "cell_type": "code",
   "execution_count": 639,
   "metadata": {},
   "outputs": [
    {
     "name": "stdout",
     "output_type": "stream",
     "text": [
      "Position [q to quit]? 1\n",
      "2\n",
      "Position [q to quit]? 4\n",
      "Bad index: 4\n",
      "Position [q to quit]? two\n",
      "Something else broke: invalid literal for int() with base 10: 'two'\n",
      "Position [q to quit]? q\n"
     ]
    }
   ],
   "source": [
    "short_list = [1, 2, 3] \n",
    "while True:\n",
    "    value = input('Position [q to quit]? ') \n",
    "    if value == 'q':\n",
    "        break\n",
    "    try:\n",
    "        position = int(value)\n",
    "        print(short_list[position]) \n",
    "    except IndexError as err:\n",
    "        print('Bad index:', position) \n",
    "    except Exception as other:\n",
    "        print('Something else broke:', other)"
   ]
  },
  {
   "cell_type": "markdown",
   "metadata": {},
   "source": [
    "### Make Your Own Exceptions"
   ]
  },
  {
   "cell_type": "markdown",
   "metadata": {},
   "source": [
    "An exception is a class. It is a child of the class Exception. "
   ]
  },
  {
   "cell_type": "code",
   "execution_count": 640,
   "metadata": {},
   "outputs": [
    {
     "ename": "UppercaseException",
     "evalue": "MO",
     "output_type": "error",
     "traceback": [
      "\u001b[0;31m---------------------------------------------------------------------------\u001b[0m",
      "\u001b[0;31mUppercaseException\u001b[0m                        Traceback (most recent call last)",
      "\u001b[0;32m<ipython-input-640-34565afa8a09>\u001b[0m in \u001b[0;36m<module>\u001b[0;34m\u001b[0m\n\u001b[1;32m      7\u001b[0m \u001b[0;32mfor\u001b[0m \u001b[0mword\u001b[0m \u001b[0;32min\u001b[0m \u001b[0mwords\u001b[0m\u001b[0;34m:\u001b[0m\u001b[0;34m\u001b[0m\u001b[0;34m\u001b[0m\u001b[0m\n\u001b[1;32m      8\u001b[0m     \u001b[0;32mif\u001b[0m \u001b[0mword\u001b[0m\u001b[0;34m.\u001b[0m\u001b[0misupper\u001b[0m\u001b[0;34m(\u001b[0m\u001b[0;34m)\u001b[0m\u001b[0;34m:\u001b[0m\u001b[0;34m\u001b[0m\u001b[0;34m\u001b[0m\u001b[0m\n\u001b[0;32m----> 9\u001b[0;31m         \u001b[0;32mraise\u001b[0m \u001b[0mUppercaseException\u001b[0m\u001b[0;34m(\u001b[0m\u001b[0mword\u001b[0m\u001b[0;34m)\u001b[0m\u001b[0;34m\u001b[0m\u001b[0;34m\u001b[0m\u001b[0m\n\u001b[0m",
      "\u001b[0;31mUppercaseException\u001b[0m: MO"
     ]
    }
   ],
   "source": [
    "# Example: make an exception called UppercaseException and raise it when we encounter an uppercase word in a string.\n",
    "\n",
    "class UppercaseException(Exception):\n",
    "    pass\n",
    "\n",
    "words = ['eeenie', 'meenie', 'miny', 'MO']  \n",
    "for word in words:\n",
    "    if word.isupper(): \n",
    "        raise UppercaseException(word)"
   ]
  },
  {
   "cell_type": "code",
   "execution_count": 643,
   "metadata": {},
   "outputs": [],
   "source": [
    "# You can access the exception object itself and print it:\n",
    "\n",
    "try:\n",
    "    raise OopsException('panic')\n",
    "except OopsException as exc:\n",
    "    print(exc)         # this should print out 'panic' but not work here"
   ]
  },
  {
   "cell_type": "markdown",
   "metadata": {},
   "source": [
    "**Practice 1**<br>\n",
    "Assign the value 7 to the variable guess_me. Then, write the conditional tests (if, else, and elif) to print the string: <br>\n",
    "'too low' if guess_me is less than 7, <br>\n",
    "'too high' if greater than 7, <br>\n",
    "'just right' if equal to 7."
   ]
  },
  {
   "cell_type": "code",
   "execution_count": 645,
   "metadata": {},
   "outputs": [],
   "source": [
    "def guess_me(value):\n",
    "    if value < 7:\n",
    "        print(\"Too low!\")\n",
    "    elif value > 7: \n",
    "        print(\"Too high!\")\n",
    "    elif value == 7:\n",
    "        print(\"Just right!\")"
   ]
  },
  {
   "cell_type": "code",
   "execution_count": 648,
   "metadata": {},
   "outputs": [
    {
     "name": "stdout",
     "output_type": "stream",
     "text": [
      "Just right!\n"
     ]
    }
   ],
   "source": [
    "guess_me(7)"
   ]
  },
  {
   "cell_type": "markdown",
   "metadata": {},
   "source": [
    "**Practice 2**<br>\n",
    "Use a for loop to print the values of the list [3, 2, 1, 0]"
   ]
  },
  {
   "cell_type": "code",
   "execution_count": 657,
   "metadata": {},
   "outputs": [
    {
     "name": "stdout",
     "output_type": "stream",
     "text": [
      "3\n",
      "2\n",
      "1\n",
      "0\n"
     ]
    }
   ],
   "source": [
    "for number in [3, 2, 1, 0]:\n",
    "    print(number)"
   ]
  },
  {
   "cell_type": "markdown",
   "metadata": {},
   "source": [
    "**Practice 3**<br>\n",
    "Assign the value 7 to the variable guess_me and the value 1 to the variable start. <br>\n",
    "Write a while loop that compares start with guess_me. <br>\n",
    "Print too low if start is less than guess me. <br>\n",
    "If start equals guess_me, print 'found it!' and exit the loop. <br>\n",
    "If start is greater than guess_me, print 'oops' and exit the loop. <br>\n",
    "Increment start at the end of the loop"
   ]
  },
  {
   "cell_type": "code",
   "execution_count": 658,
   "metadata": {},
   "outputs": [
    {
     "name": "stdout",
     "output_type": "stream",
     "text": [
      "Too low!\n",
      "Too low!\n",
      "Too low!\n",
      "Too low!\n",
      "Too low!\n",
      "Too low!\n",
      "Found it!\n"
     ]
    }
   ],
   "source": [
    "guess_me = 7\n",
    "start = 1\n",
    "while True:\n",
    "    if start < guess_me:\n",
    "        print(\"Too low!\")\n",
    "    elif start == guess_me:\n",
    "        print(\"Found it!\")\n",
    "        break\n",
    "    else:\n",
    "        print(\"Opps!\")\n",
    "        break\n",
    "    start += 1"
   ]
  },
  {
   "cell_type": "markdown",
   "metadata": {},
   "source": [
    "**Practice 4**<br>\n",
    "Use a list comprehension to make a list of the even numbers in range(10)."
   ]
  },
  {
   "cell_type": "code",
   "execution_count": 660,
   "metadata": {},
   "outputs": [
    {
     "data": {
      "text/plain": [
       "[0, 2, 4, 6, 8]"
      ]
     },
     "execution_count": 660,
     "metadata": {},
     "output_type": "execute_result"
    }
   ],
   "source": [
    "even_numbers = [number for number in range(10) if number % 2 == 0]\n",
    "even_numbers"
   ]
  },
  {
   "cell_type": "markdown",
   "metadata": {},
   "source": [
    "**Practice 5**<br>\n",
    "Use a dictionary comprehension to create the dictionary squares. <br>\n",
    "Use range(10) to return the keys, and use the square of each key as its value."
   ]
  },
  {
   "cell_type": "code",
   "execution_count": 662,
   "metadata": {},
   "outputs": [
    {
     "data": {
      "text/plain": [
       "{0: 0, 1: 1, 2: 4, 3: 9, 4: 16, 5: 25, 6: 36, 7: 49, 8: 64, 9: 81}"
      ]
     },
     "execution_count": 662,
     "metadata": {},
     "output_type": "execute_result"
    }
   ],
   "source": [
    "squares_dict = {key: key*key for key in range(10)}\n",
    "squares_dict"
   ]
  },
  {
   "cell_type": "markdown",
   "metadata": {},
   "source": [
    "**Practice 6**<br>\n",
    "Use a set comprehension to create the set odd from the odd numbers in range(10)."
   ]
  },
  {
   "cell_type": "code",
   "execution_count": 664,
   "metadata": {},
   "outputs": [
    {
     "data": {
      "text/plain": [
       "{1, 3, 5, 7, 9}"
      ]
     },
     "execution_count": 664,
     "metadata": {},
     "output_type": "execute_result"
    }
   ],
   "source": [
    "odd_numbers = {number for number in range(10) if number % 2 == 1}\n",
    "odd_numbers"
   ]
  },
  {
   "cell_type": "markdown",
   "metadata": {},
   "source": [
    "**Practice 7**<br>\n",
    "Use a generator comprehension to return the string 'Got ' and a number for the numbers in range(10). <br>\n",
    "Iterate through this by using a for loop."
   ]
  },
  {
   "cell_type": "code",
   "execution_count": 666,
   "metadata": {},
   "outputs": [
    {
     "name": "stdout",
     "output_type": "stream",
     "text": [
      "Got 0\n",
      "Got 1\n",
      "Got 2\n",
      "Got 3\n",
      "Got 4\n",
      "Got 5\n",
      "Got 6\n",
      "Got 7\n",
      "Got 8\n",
      "Got 9\n"
     ]
    }
   ],
   "source": [
    "for thing in ('Got %s' % number for number in range(10)):\n",
    "    print(thing)"
   ]
  },
  {
   "cell_type": "markdown",
   "metadata": {},
   "source": [
    "**Practice 8**<br>\n",
    "Define a function called good that returns the list ['Harry', 'Ron', 'Hermione']."
   ]
  },
  {
   "cell_type": "code",
   "execution_count": 669,
   "metadata": {},
   "outputs": [],
   "source": [
    "def good():\n",
    "    return ['Harry', 'Ron', 'Hermione']"
   ]
  },
  {
   "cell_type": "code",
   "execution_count": 670,
   "metadata": {},
   "outputs": [
    {
     "data": {
      "text/plain": [
       "['Harry', 'Ron', 'Hermione']"
      ]
     },
     "execution_count": 670,
     "metadata": {},
     "output_type": "execute_result"
    }
   ],
   "source": [
    "good()"
   ]
  },
  {
   "cell_type": "markdown",
   "metadata": {},
   "source": [
    "**Practice 9**<br>\n",
    "Define a generator function called get_odds that returns the odd numbers from range(10). <br>\n",
    "Use a for loop to find and print the third value returned."
   ]
  },
  {
   "cell_type": "code",
   "execution_count": 677,
   "metadata": {},
   "outputs": [
    {
     "name": "stdout",
     "output_type": "stream",
     "text": [
      "The third odd number is: 5\n"
     ]
    }
   ],
   "source": [
    "def get_odds():\n",
    "    for number in range(1, 10, 2):\n",
    "        yield number \n",
    "        \n",
    "for count, number in enumerate(get_odds(), 1): \n",
    "    if count == 3:\n",
    "        print(\"The third odd number is:\", number)\n",
    "        break"
   ]
  },
  {
   "cell_type": "markdown",
   "metadata": {},
   "source": [
    "# 5. Modules, Packages, and Programs"
   ]
  },
  {
   "cell_type": "markdown",
   "metadata": {},
   "source": [
    "#### (1) Standalone Programs"
   ]
  },
  {
   "cell_type": "markdown",
   "metadata": {},
   "source": [
    "use independent python program to run `test1.py` and `test2.py`"
   ]
  },
  {
   "cell_type": "code",
   "execution_count": 686,
   "metadata": {},
   "outputs": [
    {
     "name": "stdout",
     "output_type": "stream",
     "text": [
      "This interactive snippet works.\n"
     ]
    }
   ],
   "source": [
    "# example 1: test1.py\n",
    "\n",
    "print(\"This interactive snippet works.\")"
   ]
  },
  {
   "cell_type": "code",
   "execution_count": 687,
   "metadata": {},
   "outputs": [
    {
     "name": "stdout",
     "output_type": "stream",
     "text": [
      "Program arguments: ['/opt/anaconda3/envs/R/lib/python3.8/site-packages/ipykernel_launcher.py', '-f', '/Users/nicoleyin88/Library/Jupyter/runtime/kernel-ff085299-9f7d-4d5f-ac13-53da2d04293e.json']\n"
     ]
    }
   ],
   "source": [
    "# example 2: test2.py\n",
    "\n",
    "import sys\n",
    "print('Program arguments:', sys.argv)"
   ]
  },
  {
   "cell_type": "markdown",
   "metadata": {},
   "source": [
    "### Modules and the import Statement"
   ]
  },
  {
   "cell_type": "markdown",
   "metadata": {},
   "source": [
    "* Code has a roughly similar bottom-up organization: \n",
    " - data types are like words, \n",
    " - statements are like sentences, \n",
    " - functions are like paragraphs, \n",
    " - modules are like chapters. \n",
    " \n",
    "* We refer to code of other modules by using the import statement. <br>\n",
    "This makes the code and variables in the imported module available to your program."
   ]
  },
  {
   "cell_type": "markdown",
   "metadata": {},
   "source": [
    "#### (2) Import a Module"
   ]
  },
  {
   "cell_type": "markdown",
   "metadata": {},
   "source": [
    "* The simplest use of the *import* statement is import module, <br> \n",
    "where module is the name of another Python file, without the .py extension. \n",
    "\n",
    "* Let’s simulate a weather station and print a weather report. <br>\n",
    "One main program prints the report, <br>\n",
    "and a separate module with a single function returns the weather description used by the report."
   ]
  },
  {
   "cell_type": "code",
   "execution_count": null,
   "metadata": {},
   "outputs": [],
   "source": [
    "# main program: weatherman.py: \n",
    "\n",
    "import report\n",
    "\n",
    "description = report.get_description() \n",
    "print(\"Today's weather:\", description)"
   ]
  },
  {
   "cell_type": "code",
   "execution_count": null,
   "metadata": {},
   "outputs": [],
   "source": [
    "# module: report.py\n",
    "\n",
    "def get_description(): # see the docstring below?\n",
    "    \"\"\"Return random weather, just like the pros\"\"\"\n",
    "    from random import choice\n",
    "    possibilities = ['rain', 'snow', 'sleet', 'fog', 'sun', 'who knows']\n",
    "    return choice(possibilities)"
   ]
  },
  {
   "cell_type": "markdown",
   "metadata": {},
   "source": [
    "We used imports in two different places:<br>\n",
    "* The main program `weatherman.py` imported the module *report*.<br>\n",
    "* In the module file `report.py`, the *get_description()* function imported the *choice* function <br>\n",
    "from Python’s standard random module.<br>\n",
    "\n",
    "We also used imports in two different ways:<br>\n",
    "* The main program called *import report* and then ran *report.get_description()*.\n",
    "* The *get_description()* function in `report.py` called from *random import*<br>\n",
    "choice and then ran *choice(possibilities)*.\n",
    "\n",
    "* By qualifying the contents of a module with the module’s name, <br>\n",
    "we avoid any nasty naming conflicts. There could be a *get_description()* function in some other module, <br>\n",
    "and we would not call it by mistake.\n",
    "\n",
    "* In the second case, we’re within a function and know that nothing else named choice is here, <br>\n",
    "so we imported the choice() function from the random module directly."
   ]
  },
  {
   "cell_type": "code",
   "execution_count": null,
   "metadata": {},
   "outputs": [],
   "source": [
    "# module: report2.py\n",
    "\n",
    "def get_description(): \n",
    "    import random\n",
    "    possibilities = ['rain', 'snow', 'sleet', 'fog', 'sun', 'who knows'] \n",
    "    return random.choice(possibilities)"
   ]
  },
  {
   "cell_type": "markdown",
   "metadata": {},
   "source": [
    "* Like many aspects of programming, pick the style that seems the most clear to you. <br>\n",
    "The module-qualified name (random.choice) is safer but requires a little more typing.\n",
    "\n",
    "* These *get_description()* examples showed variations of what to import, <br>\n",
    "but not where to do the importing—they all called import from inside the function. <br>\n",
    "We could have imported random from outside the function:"
   ]
  },
  {
   "cell_type": "code",
   "execution_count": 690,
   "metadata": {},
   "outputs": [
    {
     "data": {
      "text/plain": [
       "'fog'"
      ]
     },
     "execution_count": 690,
     "metadata": {},
     "output_type": "execute_result"
    }
   ],
   "source": [
    "import random\n",
    "def get_description():\n",
    "    possibilities = ['rain', 'snow', 'sleet', 'fog', 'sun', 'who knows']\n",
    "    return random.choice(possibilities)\n",
    "\n",
    "get_description()"
   ]
  },
  {
   "cell_type": "markdown",
   "metadata": {},
   "source": [
    "* You should consider importing from outside the function if the imported code might be used <br>\n",
    "in more than one place, and from inside if you know its use will be limited. \n",
    "\n",
    "* Some people prefer to put all their imports at the top of the file, just to make all the dependencies of\n",
    "their code explicit. Either way works."
   ]
  },
  {
   "cell_type": "markdown",
   "metadata": {},
   "source": [
    "### Import a Module with Another Name"
   ]
  },
  {
   "cell_type": "markdown",
   "metadata": {},
   "source": [
    "What if you have another module with the same name or want to use a name that is shorter? <br>\n",
    "In such a situation, you can import using an alias. "
   ]
  },
  {
   "cell_type": "code",
   "execution_count": 691,
   "metadata": {},
   "outputs": [
    {
     "name": "stdout",
     "output_type": "stream",
     "text": [
      "Today's weather: rain\n"
     ]
    }
   ],
   "source": [
    "# before we use \"import report\"\n",
    "# now we use \"wr\" an lias for \"import report\"\n",
    "\n",
    "import report as wr     \n",
    "description = wr.get_description() \n",
    "print(\"Today's weather:\", description)"
   ]
  },
  {
   "cell_type": "markdown",
   "metadata": {},
   "source": [
    "### Import Only What You Want from a Module"
   ]
  },
  {
   "cell_type": "markdown",
   "metadata": {},
   "source": [
    "With Python, you can import one or more parts of a module. <br>\n",
    "Each part can keep its original name or you can give it an alias."
   ]
  },
  {
   "cell_type": "code",
   "execution_count": 692,
   "metadata": {},
   "outputs": [
    {
     "name": "stdout",
     "output_type": "stream",
     "text": [
      "Today's weather: sun\n"
     ]
    }
   ],
   "source": [
    "# First, let’s import get_description() from the report module with its original name:\n",
    "\n",
    "from report import get_description \n",
    "description = get_description() \n",
    "print(\"Today's weather:\", description)"
   ]
  },
  {
   "cell_type": "code",
   "execution_count": 693,
   "metadata": {},
   "outputs": [
    {
     "name": "stdout",
     "output_type": "stream",
     "text": [
      "Today's weather: sun\n"
     ]
    }
   ],
   "source": [
    "# Now, import it as do_it: \n",
    "\n",
    "from report import get_description as do_it \n",
    "description = do_it()\n",
    "print(\"Today's weather:\", description)"
   ]
  },
  {
   "cell_type": "markdown",
   "metadata": {},
   "source": [
    "### Module Search Path"
   ]
  },
  {
   "cell_type": "markdown",
   "metadata": {},
   "source": [
    "Where does Python look for files to import? <br>\n",
    "It uses a list of directory names and ZIP archive files stored in the standard sys module as the variable path. <br>\n",
    "You can access and modify this list. "
   ]
  },
  {
   "cell_type": "code",
   "execution_count": 694,
   "metadata": {
    "scrolled": true
   },
   "outputs": [
    {
     "name": "stdout",
     "output_type": "stream",
     "text": [
      "/Users/nicoleyin88\n",
      "/opt/anaconda3/envs/R/lib/python38.zip\n",
      "/opt/anaconda3/envs/R/lib/python3.8\n",
      "/opt/anaconda3/envs/R/lib/python3.8/lib-dynload\n",
      "\n",
      "/opt/anaconda3/envs/R/lib/python3.8/site-packages\n",
      "/opt/anaconda3/envs/R/lib/python3.8/site-packages/IPython/extensions\n",
      "/Users/nicoleyin88/.ipython\n"
     ]
    }
   ],
   "source": [
    "import sys\n",
    "for place in sys.path: \n",
    "    print(place)"
   ]
  },
  {
   "cell_type": "markdown",
   "metadata": {},
   "source": [
    "### Packages"
   ]
  },
  {
   "cell_type": "markdown",
   "metadata": {},
   "source": [
    "* To allow Python applications to scale even more, you can organize modules into file hierarchies called packages.\n",
    "\n",
    "* Maybe we want different types of text forecasts: \n",
    " - one for the next day and one for the next week. \n",
    " \n",
    "* One way to structure this is to make a directory named sources, and create two modules within it:`daily.py` and `weekly.py`. <br>\n",
    "Each has a function called `forecast`. <br>\n",
    "The daily version returns a string, and the weekly version returns a list of seven strings."
   ]
  },
  {
   "cell_type": "markdown",
   "metadata": {},
   "source": [
    "* Here’s the main program and the two modules. \n",
    "\n",
    "* Note on **enumerate()** function: it  takes apart a list and feeds each item of the list to <br>\n",
    "the for loop, adding a number to each item as a little bonus."
   ]
  },
  {
   "cell_type": "code",
   "execution_count": null,
   "metadata": {},
   "outputs": [],
   "source": [
    "# Main program: in folder boxes, name it weather.py. \n",
    "\n",
    "from sources import daily, weekly\n",
    "print(\"Daily forecast:\", daily.forecast()) \n",
    "print(\"Weekly forecast:\")\n",
    "for number, outlook in enumerate(weekly.forecast(), 1):\n",
    "    print(number, outlook)"
   ]
  },
  {
   "cell_type": "code",
   "execution_count": null,
   "metadata": {},
   "outputs": [],
   "source": [
    "# Module 1: in folder boxes/sources, name it daily.py\n",
    "\n",
    "def forecast():\n",
    "    'fake daily forecast' \n",
    "    return 'like yesterday'\n"
   ]
  },
  {
   "cell_type": "code",
   "execution_count": null,
   "metadata": {},
   "outputs": [],
   "source": [
    "# Module 2: in folder boxes/sources, name it weekly.py\n",
    "\n",
    "def forecast():\n",
    "    \"\"\"Fake weekly forecast\"\"\"\n",
    "    return ['snow', 'more snow', 'sleet', 'freezing rain', 'rain', 'fog', 'hail']"
   ]
  },
  {
   "cell_type": "code",
   "execution_count": 703,
   "metadata": {},
   "outputs": [],
   "source": [
    "# support file: in folder boxes/sources, name it __init__.py\n",
    "\n",
    "# This file be empty, but Python needs it to treat the directory containing it as a package."
   ]
  },
  {
   "cell_type": "markdown",
   "metadata": {},
   "source": [
    "### setdefault(), defaultdict() - Handle Missing Keys"
   ]
  },
  {
   "cell_type": "code",
   "execution_count": 704,
   "metadata": {},
   "outputs": [
    {
     "name": "stdout",
     "output_type": "stream",
     "text": [
      "{'Hydrogen': 1, 'Helium': 2}\n"
     ]
    }
   ],
   "source": [
    "# The get() function returns the value of the item with the specified key.\n",
    "# The setdefault() function is like get(), but also assigns an item to the dictionary if the key is missing:\n",
    "\n",
    "# create a dictionary \n",
    "periodic_table = {'Hydrogen': 1, 'Helium': 2} \n",
    "print(periodic_table)"
   ]
  },
  {
   "cell_type": "code",
   "execution_count": 705,
   "metadata": {},
   "outputs": [
    {
     "data": {
      "text/plain": [
       "12"
      ]
     },
     "execution_count": 705,
     "metadata": {},
     "output_type": "execute_result"
    }
   ],
   "source": [
    "# If the key was not already in the dictionary, the new value is used:\n",
    "\n",
    "carbon = periodic_table.setdefault('Carbon', 12)\n",
    "carbon"
   ]
  },
  {
   "cell_type": "code",
   "execution_count": 706,
   "metadata": {},
   "outputs": [
    {
     "data": {
      "text/plain": [
       "2"
      ]
     },
     "execution_count": 706,
     "metadata": {},
     "output_type": "execute_result"
    },
    {
     "data": {
      "text/plain": [
       "{'Hydrogen': 1, 'Helium': 2, 'Carbon': 12}"
      ]
     },
     "execution_count": 706,
     "metadata": {},
     "output_type": "execute_result"
    }
   ],
   "source": [
    "# If we try to assign a different default value to an existing key, \n",
    "# the original value is returned and nothing is changed:\n",
    "\n",
    "helium = periodic_table.setdefault('Helium', 947)\n",
    "helium\n",
    "\n",
    "periodic_table"
   ]
  },
  {
   "cell_type": "code",
   "execution_count": 708,
   "metadata": {},
   "outputs": [
    {
     "data": {
      "text/plain": [
       "0"
      ]
     },
     "execution_count": 708,
     "metadata": {},
     "output_type": "execute_result"
    },
    {
     "data": {
      "text/plain": [
       "defaultdict(int, {'Hydrogen': 1, 'Lead': 0})"
      ]
     },
     "execution_count": 708,
     "metadata": {},
     "output_type": "execute_result"
    }
   ],
   "source": [
    "# defaultdict() is similar, but specifies the default value for any new key up front, \n",
    "# when the dictionary is created. Its argument is a function. \n",
    "\n",
    "from collections import defaultdict  \n",
    "periodic_table = defaultdict(int)\n",
    "\n",
    "# Now, any missing value will be an integer (int), with the value 0:\n",
    "\n",
    "periodic_table['Hydrogen'] = 1\n",
    "\n",
    "periodic_table['Lead']    # since 'lead' not in original dictionary, it'll be assigned to value '0'\n",
    "\n",
    "periodic_table"
   ]
  },
  {
   "cell_type": "code",
   "execution_count": 709,
   "metadata": {},
   "outputs": [
    {
     "data": {
      "text/plain": [
       "'Abominable Snowman'"
      ]
     },
     "execution_count": 709,
     "metadata": {},
     "output_type": "execute_result"
    },
    {
     "data": {
      "text/plain": [
       "'Basilisk'"
      ]
     },
     "execution_count": 709,
     "metadata": {},
     "output_type": "execute_result"
    },
    {
     "data": {
      "text/plain": [
       "'Huh?'"
      ]
     },
     "execution_count": 709,
     "metadata": {},
     "output_type": "execute_result"
    }
   ],
   "source": [
    "# In the following example, no_idea() is executed to return a value when needed:\n",
    "\n",
    "# method 1: create a function to return 'Huh?'\n",
    "# define no_idea() function\n",
    "from collections import defaultdict\n",
    "def no_idea():\n",
    "    return 'Huh?'\n",
    "\n",
    "bestiary = defaultdict(no_idea)\n",
    "bestiary['A'] = 'Abominable Snowman'\n",
    "bestiary['B'] = 'Basilisk'\n",
    "\n",
    "# test the function\n",
    "bestiary['A']\n",
    "bestiary['B']\n",
    "bestiary['C']   # since 'C' not in original dictionary, returns 'Huh?'"
   ]
  },
  {
   "cell_type": "markdown",
   "metadata": {},
   "source": [
    "* You can use the functions int(), list(), or dict() to return default empty values for those types: \n",
    "  - int() returns 0, \n",
    "  - list() returns an empty list [ ],  \n",
    "  - dict() returns an empty dictionary { }. \n",
    "\n",
    "* If you omit the argument, the initial value of a new key will be set to None."
   ]
  },
  {
   "cell_type": "code",
   "execution_count": 710,
   "metadata": {},
   "outputs": [
    {
     "data": {
      "text/plain": [
       "'Huh?'"
      ]
     },
     "execution_count": 710,
     "metadata": {},
     "output_type": "execute_result"
    }
   ],
   "source": [
    "# you can use lambda to define your default-making function right inside the call:\n",
    "\n",
    "# method 2: use lamba to to return 'Huh?'\n",
    "bestiary = defaultdict(lambda: 'Huh?')\n",
    "\n",
    "bestiary['E']"
   ]
  },
  {
   "cell_type": "code",
   "execution_count": 712,
   "metadata": {},
   "outputs": [
    {
     "name": "stdout",
     "output_type": "stream",
     "text": [
      "spam 3\n",
      "eggs 1\n"
     ]
    }
   ],
   "source": [
    "# Using int is one way to make your own counter:\n",
    "\n",
    "from collections import defaultdict\n",
    "food_counter = defaultdict(int)\n",
    "for food in ['spam', 'spam', 'eggs', 'spam']:\n",
    "    food_counter[food] += 1\n",
    "\n",
    "for food, count in food_counter.items():\n",
    "    print(food, count)"
   ]
  },
  {
   "cell_type": "code",
   "execution_count": 714,
   "metadata": {},
   "outputs": [
    {
     "name": "stdout",
     "output_type": "stream",
     "text": [
      "spam 3\n",
      "eggs 1\n"
     ]
    }
   ],
   "source": [
    "# if not use defaultdict(), we'd have to write extra lines: \n",
    "\n",
    "dict_counter = {}\n",
    "for food in ['spam', 'spam', 'eggs', 'spam']:\n",
    "    if not food in dict_counter:\n",
    "        dict_counter[food] = 0\n",
    "    dict_counter[food] += 1\n",
    "\n",
    "for food, count in dict_counter.items():\n",
    "    print(food, count)"
   ]
  },
  {
   "cell_type": "markdown",
   "metadata": {},
   "source": [
    "### Counter(), most_common() - Count Items  "
   ]
  },
  {
   "cell_type": "code",
   "execution_count": 715,
   "metadata": {},
   "outputs": [
    {
     "data": {
      "text/plain": [
       "Counter({'spam': 3, 'eggs': 1})"
      ]
     },
     "execution_count": 715,
     "metadata": {},
     "output_type": "execute_result"
    }
   ],
   "source": [
    "# counter() function\n",
    "\n",
    "from collections import Counter\n",
    "\n",
    "# create breakfast counter:\n",
    "breakfast = ['spam', 'spam', 'eggs', 'spam'] \n",
    "breakfast_counter = Counter(breakfast)\n",
    "breakfast_counter"
   ]
  },
  {
   "cell_type": "code",
   "execution_count": 719,
   "metadata": {},
   "outputs": [
    {
     "data": {
      "text/plain": [
       "[('spam', 3), ('eggs', 1)]"
      ]
     },
     "execution_count": 719,
     "metadata": {},
     "output_type": "execute_result"
    },
    {
     "data": {
      "text/plain": [
       "[('spam', 3)]"
      ]
     },
     "execution_count": 719,
     "metadata": {},
     "output_type": "execute_result"
    }
   ],
   "source": [
    "#  most_common() function:\n",
    "# it returns all elements in descending order\n",
    "breakfast_counter.most_common()\n",
    "\n",
    "# it gives top count elements if given 'value 1':\n",
    "breakfast_counter.most_common(1)"
   ]
  },
  {
   "cell_type": "code",
   "execution_count": 722,
   "metadata": {},
   "outputs": [
    {
     "data": {
      "text/plain": [
       "Counter({'eggs': 2, 'bacon': 1})"
      ]
     },
     "execution_count": 722,
     "metadata": {},
     "output_type": "execute_result"
    }
   ],
   "source": [
    "# create lunch counter:\n",
    "\n",
    "lunch = ['eggs', 'eggs', 'bacon']\n",
    "lunch_counter = Counter(lunch)\n",
    "lunch_counter"
   ]
  },
  {
   "cell_type": "code",
   "execution_count": 725,
   "metadata": {},
   "outputs": [
    {
     "data": {
      "text/plain": [
       "Counter({'spam': 3, 'eggs': 3, 'bacon': 1})"
      ]
     },
     "execution_count": 725,
     "metadata": {},
     "output_type": "execute_result"
    }
   ],
   "source": [
    "# combine  breakfast & lunch counters by +\n",
    "\n",
    "breakfast_counter + lunch_counter"
   ]
  },
  {
   "cell_type": "code",
   "execution_count": 726,
   "metadata": {},
   "outputs": [
    {
     "data": {
      "text/plain": [
       "Counter({'spam': 3})"
      ]
     },
     "execution_count": 726,
     "metadata": {},
     "output_type": "execute_result"
    }
   ],
   "source": [
    "# subtraction: What’s for breakfast but not for lunch?\n",
    "\n",
    "breakfast_counter - lunch_counter"
   ]
  },
  {
   "cell_type": "code",
   "execution_count": 727,
   "metadata": {},
   "outputs": [
    {
     "data": {
      "text/plain": [
       "Counter({'eggs': 1, 'bacon': 1})"
      ]
     },
     "execution_count": 727,
     "metadata": {},
     "output_type": "execute_result"
    }
   ],
   "source": [
    "# subtraction: What’s for lunch but not for breakfast?\n",
    "\n",
    "lunch_counter - breakfast_counter"
   ]
  },
  {
   "cell_type": "code",
   "execution_count": 728,
   "metadata": {},
   "outputs": [
    {
     "data": {
      "text/plain": [
       "Counter({'eggs': 1})"
      ]
     },
     "execution_count": 728,
     "metadata": {},
     "output_type": "execute_result"
    }
   ],
   "source": [
    "# intersection: What can you have for both lunch and breakfast?\n",
    "\n",
    "breakfast_counter & lunch_counter"
   ]
  },
  {
   "cell_type": "code",
   "execution_count": 729,
   "metadata": {},
   "outputs": [
    {
     "data": {
      "text/plain": [
       "Counter({'spam': 3, 'eggs': 2, 'bacon': 1})"
      ]
     },
     "execution_count": 729,
     "metadata": {},
     "output_type": "execute_result"
    }
   ],
   "source": [
    "# union: What can you have for lunch or breakfast?\n",
    "\n",
    "breakfast_counter | lunch_counter"
   ]
  },
  {
   "cell_type": "markdown",
   "metadata": {},
   "source": [
    "### OrderedDict() - Order by Key"
   ]
  },
  {
   "cell_type": "code",
   "execution_count": 730,
   "metadata": {},
   "outputs": [
    {
     "name": "stdout",
     "output_type": "stream",
     "text": [
      "Moe\n",
      "Larry\n",
      "Curly\n"
     ]
    }
   ],
   "source": [
    "# keys() may return keys at random order, not follow original dicitonary order\n",
    "\n",
    "quotes = {\n",
    "    'Moe': 'A wise guy, huh?', \n",
    "    'Larry': 'Ow!',\n",
    "    'Curly': 'Nyuk nyuk!', \n",
    "}\n",
    "\n",
    "for stooge in quotes:\n",
    "    print(stooge)"
   ]
  },
  {
   "cell_type": "code",
   "execution_count": 731,
   "metadata": {},
   "outputs": [
    {
     "name": "stdout",
     "output_type": "stream",
     "text": [
      "Moe\n",
      "Larry\n",
      "Curly\n"
     ]
    }
   ],
   "source": [
    "# An OrderedDict() remembers the order of key addition and returns them \n",
    "# in the same order from an iterator. \n",
    "\n",
    "from collections import OrderedDict \n",
    "quotes = OrderedDict([\n",
    "    ('Moe', 'A wise guy, huh?'),\n",
    "    ('Larry', 'Ow!'),\n",
    "    ('Curly', 'Nyuk nyuk!'),])\n",
    "\n",
    "for stooge in quotes:\n",
    "    print(stooge)"
   ]
  },
  {
   "cell_type": "markdown",
   "metadata": {},
   "source": [
    "### deque() == Stack + Queue"
   ]
  },
  {
   "cell_type": "markdown",
   "metadata": {},
   "source": [
    "* A `deque()` (pronounced deck) is a double-ended queue, which has features of both a stack and a queue. <br>\n",
    "It’s useful when you want to add and delete items from either end of a sequence. \n",
    "\n",
    "* Here, we’ll work from both ends of a word to the middle to see if it’s a palin‐ drome. <br>\n",
    "The function `popleft()` removes the leftmost item from the deque and returns it; <br>\n",
    "`pop()` removes the rightmost item and returns it. <br>\n",
    "Together, they work from the ends toward the middle. <br>\n",
    "As long as the end characters match, it keeps popping until it reaches the middle:"
   ]
  },
  {
   "cell_type": "code",
   "execution_count": 763,
   "metadata": {},
   "outputs": [
    {
     "data": {
      "text/plain": [
       "True"
      ]
     },
     "execution_count": 763,
     "metadata": {},
     "output_type": "execute_result"
    },
    {
     "data": {
      "text/plain": [
       "True"
      ]
     },
     "execution_count": 763,
     "metadata": {},
     "output_type": "execute_result"
    },
    {
     "data": {
      "text/plain": [
       "True"
      ]
     },
     "execution_count": 763,
     "metadata": {},
     "output_type": "execute_result"
    },
    {
     "data": {
      "text/plain": [
       "True"
      ]
     },
     "execution_count": 763,
     "metadata": {},
     "output_type": "execute_result"
    },
    {
     "data": {
      "text/plain": [
       "False"
      ]
     },
     "execution_count": 763,
     "metadata": {},
     "output_type": "execute_result"
    }
   ],
   "source": [
    "# function that return the middle character\n",
    "\n",
    "def palindrome(word):\n",
    "    from collections import deque\n",
    "    dq = deque(word)\n",
    "    while len(dq) > 1: \n",
    "        if dq.popleft() != dq.pop():\n",
    "            return False\n",
    "    return True\n",
    "\n",
    "# test the function:\n",
    "palindrome('a')\n",
    "\n",
    "palindrome('racecar')\n",
    "    \n",
    "palindrome('')\n",
    "\n",
    "palindrome('radar')\n",
    "\n",
    "palindrome('halibut')   # leftmost and rightmost characters differ"
   ]
  },
  {
   "cell_type": "code",
   "execution_count": 764,
   "metadata": {
    "scrolled": true
   },
   "outputs": [
    {
     "data": {
      "text/plain": [
       "True"
      ]
     },
     "execution_count": 764,
     "metadata": {},
     "output_type": "execute_result"
    },
    {
     "data": {
      "text/plain": [
       "False"
      ]
     },
     "execution_count": 764,
     "metadata": {},
     "output_type": "execute_result"
    }
   ],
   "source": [
    "# Python doesn’t have a reverse() function for strings, but it does have a way to reverse a string with a slice: \n",
    "\n",
    "def another_palindrome(word):\n",
    "    return word == word[::-1]\n",
    "\n",
    "another_palindrome('radar')    # count character from rightmost, still same word\n",
    "\n",
    "another_palindrome('halibut')   # count character from rightmost, not the same word"
   ]
  },
  {
   "cell_type": "markdown",
   "metadata": {},
   "source": [
    "### itertools() - Iterate over Code Structures "
   ]
  },
  {
   "cell_type": "markdown",
   "metadata": {},
   "source": [
    "`itertools` contains special-purpose iterator functions. <br>\n",
    "Each returns one item at a time when called within a *for ... in* loop, <br>\n",
    "and remembers its state between calls.<br>\n",
    "\n",
    "(1) **chain( )** function runs through its arguments as though they were a single iterable:"
   ]
  },
  {
   "cell_type": "code",
   "execution_count": 765,
   "metadata": {},
   "outputs": [
    {
     "name": "stdout",
     "output_type": "stream",
     "text": [
      "1\n",
      "2\n",
      "a\n",
      "b\n"
     ]
    }
   ],
   "source": [
    "import itertools\n",
    "for item in itertools.chain([1, 2], ['a', 'b']):  \n",
    "    print(item)"
   ]
  },
  {
   "cell_type": "markdown",
   "metadata": {},
   "source": [
    "(2) **cycle()** is an infinite iterator, cycling through its arguments:"
   ]
  },
  {
   "cell_type": "code",
   "execution_count": null,
   "metadata": {},
   "outputs": [],
   "source": [
    "import itertools\n",
    "for item in itertools.cycle([1, 2]):     # it prints out [1, 2] in an infinite loop\n",
    "    print(item)"
   ]
  },
  {
   "cell_type": "markdown",
   "metadata": {},
   "source": [
    "**accumulate()** calculates accumulated values. By default, it calculates the sum:"
   ]
  },
  {
   "cell_type": "code",
   "execution_count": 768,
   "metadata": {},
   "outputs": [
    {
     "name": "stdout",
     "output_type": "stream",
     "text": [
      "1\n",
      "3\n",
      "6\n",
      "10\n"
     ]
    }
   ],
   "source": [
    "import itertools\n",
    "for item in itertools.accumulate([1, 2, 3, 4]): \n",
    "    print(item)"
   ]
  },
  {
   "cell_type": "markdown",
   "metadata": {},
   "source": [
    "You can provide a function as the second argument to accumulate(), and it will be used instead of addition. <br>\n",
    "The function should take two arguments and return a single result."
   ]
  },
  {
   "cell_type": "code",
   "execution_count": 771,
   "metadata": {},
   "outputs": [
    {
     "name": "stdout",
     "output_type": "stream",
     "text": [
      "1\n",
      "2\n",
      "6\n",
      "24\n"
     ]
    }
   ],
   "source": [
    "import itertools\n",
    "def multiply(a, b):\n",
    "    return a*b\n",
    "\n",
    "for item in itertools.accumulate([1, 2, 3, 4], multiply): \n",
    "    print(item)"
   ]
  },
  {
   "cell_type": "markdown",
   "metadata": {},
   "source": [
    "The itertools module has many more functions, notably some for combinations and permutations <br>\n",
    "that can be time savers when the need arises."
   ]
  },
  {
   "cell_type": "markdown",
   "metadata": {},
   "source": [
    "### pprint() - Print Nicely "
   ]
  },
  {
   "cell_type": "code",
   "execution_count": 772,
   "metadata": {},
   "outputs": [
    {
     "name": "stdout",
     "output_type": "stream",
     "text": [
      "OrderedDict([('Moe', 'A wise guy, huh?'),\n",
      "             ('Larry', 'Ow!'),\n",
      "             ('Curly', 'Nyuk nyuk!')])\n"
     ]
    }
   ],
   "source": [
    "from pprint import pprint \n",
    "quotes = OrderedDict([\n",
    "    ('Moe', 'A wise guy, huh?'), \n",
    "    ('Larry', 'Ow!'), \n",
    "    ('Curly', 'Nyuk nyuk!'),\n",
    "])\n",
    "\n",
    "# use pprint(): tries to align elements for better readability:\n",
    "pprint(quotes)"
   ]
  },
  {
   "cell_type": "code",
   "execution_count": 773,
   "metadata": {},
   "outputs": [
    {
     "name": "stdout",
     "output_type": "stream",
     "text": [
      "OrderedDict([('Moe', 'A wise guy, huh?'), ('Larry', 'Ow!'), ('Curly', 'Nyuk nyuk!')])\n"
     ]
    }
   ],
   "source": [
    "# compare with simple print()\n",
    "print(quotes)"
   ]
  },
  {
   "cell_type": "markdown",
   "metadata": {},
   "source": [
    "**Practice 1**<br>\n",
    "Create a file called zoo.py. In it, define a function called hours() that prints the string 'Open 9-5 daily'. <br>\n",
    "Then, use the interactive interpreter to import the zoo module and call its hours() function."
   ]
  },
  {
   "cell_type": "code",
   "execution_count": 777,
   "metadata": {},
   "outputs": [
    {
     "name": "stdout",
     "output_type": "stream",
     "text": [
      "/Users/nicoleyin88\n"
     ]
    }
   ],
   "source": [
    "cd"
   ]
  },
  {
   "cell_type": "code",
   "execution_count": 778,
   "metadata": {},
   "outputs": [
    {
     "name": "stdout",
     "output_type": "stream",
     "text": [
      "/Users/nicoleyin88/Desktop\n"
     ]
    }
   ],
   "source": [
    "cd Desktop"
   ]
  },
  {
   "cell_type": "code",
   "execution_count": 779,
   "metadata": {},
   "outputs": [],
   "source": [
    "import zoo"
   ]
  },
  {
   "cell_type": "code",
   "execution_count": 784,
   "metadata": {},
   "outputs": [
    {
     "name": "stdout",
     "output_type": "stream",
     "text": [
      "Open 9-5 daily\n"
     ]
    }
   ],
   "source": [
    "zoo.hours()"
   ]
  },
  {
   "cell_type": "markdown",
   "metadata": {},
   "source": [
    "**Practice 2**<br>\n",
    "In the interactive interpreter, import the zoo module as menagerie and call its hours() function."
   ]
  },
  {
   "cell_type": "code",
   "execution_count": 785,
   "metadata": {},
   "outputs": [],
   "source": [
    "import zoo as menagerie"
   ]
  },
  {
   "cell_type": "code",
   "execution_count": 786,
   "metadata": {},
   "outputs": [
    {
     "name": "stdout",
     "output_type": "stream",
     "text": [
      "Open 9-5 daily\n"
     ]
    }
   ],
   "source": [
    "menagerie.hours()"
   ]
  },
  {
   "cell_type": "markdown",
   "metadata": {},
   "source": [
    "**Practice 3**<br>\n",
    "Staying in the interpreter, import the hours() function from zoo directly and call it."
   ]
  },
  {
   "cell_type": "code",
   "execution_count": 790,
   "metadata": {},
   "outputs": [],
   "source": [
    "from zoo import hours"
   ]
  },
  {
   "cell_type": "code",
   "execution_count": 791,
   "metadata": {},
   "outputs": [
    {
     "name": "stdout",
     "output_type": "stream",
     "text": [
      "Open 9-5 daily\n"
     ]
    }
   ],
   "source": [
    "hours()"
   ]
  },
  {
   "cell_type": "markdown",
   "metadata": {},
   "source": [
    "**Practice 4**<br>\n",
    "Import the hours() function as info and call it."
   ]
  },
  {
   "cell_type": "code",
   "execution_count": 792,
   "metadata": {},
   "outputs": [],
   "source": [
    "from zoo import hours as info"
   ]
  },
  {
   "cell_type": "code",
   "execution_count": 793,
   "metadata": {},
   "outputs": [
    {
     "name": "stdout",
     "output_type": "stream",
     "text": [
      "Open 9-5 daily\n"
     ]
    }
   ],
   "source": [
    "info()"
   ]
  },
  {
   "cell_type": "markdown",
   "metadata": {},
   "source": [
    "**Practice 5**<br>\n",
    "Make a dictionary called plain with the key-value pairs 'a': 1, 'b': 2, and 'c':3, and then print it."
   ]
  },
  {
   "cell_type": "code",
   "execution_count": 794,
   "metadata": {},
   "outputs": [
    {
     "name": "stdout",
     "output_type": "stream",
     "text": [
      "{'a': 1, 'b': 2, 'c': 3}\n"
     ]
    }
   ],
   "source": [
    "plain = {'a':1, 'b': 2, 'c': 3}\n",
    "print(plain)"
   ]
  },
  {
   "cell_type": "markdown",
   "metadata": {},
   "source": [
    "**Practice 6**<br>\n",
    "Make an OrderedDict called fancy from the same pairs listed in 5.5 and print it.<br>\n",
    "Did it print in the same order as plain?"
   ]
  },
  {
   "cell_type": "code",
   "execution_count": 796,
   "metadata": {},
   "outputs": [
    {
     "data": {
      "text/plain": [
       "OrderedDict([('a', 1), ('b', 2), ('c', 3)])"
      ]
     },
     "execution_count": 796,
     "metadata": {},
     "output_type": "execute_result"
    }
   ],
   "source": [
    "from collections import OrderedDict \n",
    "fancy = OrderedDict([\n",
    "    ('a', 1),\n",
    "    ('b', 2),\n",
    "    ('c', 3),])\n",
    "fancy"
   ]
  },
  {
   "cell_type": "markdown",
   "metadata": {},
   "source": [
    "# 6. Objects and Classes"
   ]
  },
  {
   "cell_type": "markdown",
   "metadata": {},
   "source": [
    "* The only time you need to look inside objects is when you want to make your own or <br>\n",
    "modify the behavior of existing objects.\n",
    "\n",
    "* An object contains both data (variables, called attributes) and code (functions, called methods). <br>\n",
    "It represents a unique instance of some concrete thing. \n",
    "\n",
    "* When you create new objects no one has ever created before, you must create a class <br>\n",
    "that indicates what they contain.\n",
    "\n",
    "* Think of objects as nouns and their methods as verbs. <br>\n",
    "An object represents an individual thing, and its methods define how it interacts with other things.\n",
    "\n",
    "* Unlike modules, you can have multiple objects at the same time, each one with different values <br>\n",
    "for its attributes. They’re like super data structures, with code thrown in."
   ]
  },
  {
   "cell_type": "markdown",
   "metadata": {},
   "source": [
    "### Define a Class with class"
   ]
  },
  {
   "cell_type": "markdown",
   "metadata": {},
   "source": [
    "Suppose that you want to define objects to represent information about people. <br>\n",
    "Each object will represent one person. You’ll first want to define a class called Person as the mold. "
   ]
  },
  {
   "cell_type": "markdown",
   "metadata": {},
   "source": [
    "#### (1)  first try : create an empty class:"
   ]
  },
  {
   "cell_type": "code",
   "execution_count": 797,
   "metadata": {},
   "outputs": [],
   "source": [
    "class Person():\n",
    "    pass"
   ]
  },
  {
   "cell_type": "code",
   "execution_count": 798,
   "metadata": {},
   "outputs": [],
   "source": [
    "someone = Person()"
   ]
  },
  {
   "cell_type": "markdown",
   "metadata": {},
   "source": [
    "In this case, Person() creates an individual object from the Person class and assigns it the name someone. <br>\n",
    "But, our Person class was empty, so the someone object that we create from it just sits there and can’t <br>\n",
    "do anything else."
   ]
  },
  {
   "cell_type": "markdown",
   "metadata": {},
   "source": [
    "#### (2) second try:  include the special Python object initialization method __in it__:"
   ]
  },
  {
   "cell_type": "code",
   "execution_count": 801,
   "metadata": {},
   "outputs": [],
   "source": [
    "# added 'self' argument \n",
    "\n",
    "class Person():\n",
    "    def __init__(self):\n",
    "        pass"
   ]
  },
  {
   "cell_type": "markdown",
   "metadata": {},
   "source": [
    "* The code above is what you’ll see in real Python class definitions. <br>\n",
    "\\_ \\_init_ \\_( ) is the special Python name for a method that initializes an individual object from its class definition.<br>\n",
    "<p>\n",
    "* When you define \\_ \\_init\\_ \\_() in a class definition, its first parameter should be self. <br>\n",
    "Although self is not a reserved word in Python, it’s common usage.\n",
    "<p>\n",
    "* Now, we’ll add the parameter name to the initialization method:"
   ]
  },
  {
   "cell_type": "code",
   "execution_count": 802,
   "metadata": {},
   "outputs": [],
   "source": [
    "# added 'name' parameter \n",
    "\n",
    "class Person():\n",
    "        def __init__(self, name): \n",
    "            self.name = name"
   ]
  },
  {
   "cell_type": "code",
   "execution_count": 803,
   "metadata": {},
   "outputs": [],
   "source": [
    "# create an object from the Person class by passing a string for the name parameter:\n",
    "\n",
    "hunter = Person('Elmer Fudd')"
   ]
  },
  {
   "cell_type": "markdown",
   "metadata": {},
   "source": [
    "Here’s what this line of code does:\n",
    "* Looks up the definition of the Person class<br>\n",
    "* Instantiates (creates) a new object in memory<br>\n",
    "* Calls object’s \\_ \\_init\\_ \\_ method, passing newly-created object as self and the other argument ('Elmer Fudd') as name<br>\n",
    "* Stores the value of name in the object<br>\n",
    "* Returns the new object<br>\n",
    "* Attaches the name hunter to the object<br>\n",
    "\n",
    "This new object is like any other object in Python. <br>\n",
    "You can use it as an element of a list, tuple, dictionary, or set. <br>\n",
    "You can pass it to a function as an argument, or return it as a result.\n",
    "\n",
    "What about the name value that we passed in? <br>\n",
    "It was saved with the object as an attribute. You can read and write it directly:"
   ]
  },
  {
   "cell_type": "code",
   "execution_count": 805,
   "metadata": {},
   "outputs": [
    {
     "name": "stdout",
     "output_type": "stream",
     "text": [
      "The mighty hunter:  Elmer Fudd\n"
     ]
    }
   ],
   "source": [
    "print('The mighty hunter: ', hunter.name)      "
   ]
  },
  {
   "cell_type": "markdown",
   "metadata": {},
   "source": [
    "<u>Note</u>: inside the Person class definition, you access the name attribute as `self.name`. <br>\n",
    "When you create an actual object such as hunter, you refer to it as `hunter.name`."
   ]
  },
  {
   "cell_type": "markdown",
   "metadata": {},
   "source": [
    "It is not necessary to have an \\_ \\_init\\_ \\_ method in every class definition; <br>\n",
    "it’s used to do anything that’s needed to distinguish this object from others created from the same class.\n"
   ]
  },
  {
   "cell_type": "markdown",
   "metadata": {},
   "source": [
    "### Inheritance"
   ]
  },
  {
   "cell_type": "markdown",
   "metadata": {},
   "source": [
    "* When you’re trying to solve some coding problem, <br>\n",
    "often you’ll find an **existing class** that creates objects that do almost what you need. What can you do?<br> \n",
    "You could **modify** this old class, but you’ll make it more complicated, and you might break something <br>\n",
    "that used to work.\n",
    "<p>\n",
    "* `Inheritance`: creating a new class from an existing class but with some additions or changes. <br>\n",
    "It’s an excellent way to reuse code. When you use inheritance, the new class can automatically use all <br>\n",
    "the code from the old class but without copying any of it.\n",
    "<p>\n",
    "* The original class is called a **parent**, superclass, or base class; <br>\n",
    "the new class is called a **child**, subclass, or derived class. "
   ]
  },
  {
   "cell_type": "markdown",
   "metadata": {},
   "source": [
    "We’ll define an empty class called Car. <br>\n",
    "Next, define a subclass of Car called Yugo: <br>\n",
    "You define a subclass by using the same class keyword but with the parent class name inside the parentheses."
   ]
  },
  {
   "cell_type": "markdown",
   "metadata": {},
   "source": [
    "#### (1) trial 1: empty class"
   ]
  },
  {
   "cell_type": "code",
   "execution_count": 806,
   "metadata": {},
   "outputs": [],
   "source": [
    "# parent \n",
    "class Car(): \n",
    "    pass\n",
    "\n",
    "# child\n",
    "class Yugo(Car): \n",
    "    pass"
   ]
  },
  {
   "cell_type": "code",
   "execution_count": 807,
   "metadata": {},
   "outputs": [],
   "source": [
    "# create an object in each class\n",
    "\n",
    "give_me_a_car = Car()\n",
    "give_me_a_yugo = Yugo()"
   ]
  },
  {
   "cell_type": "markdown",
   "metadata": {},
   "source": [
    "* In object-oriented lingo, Yugo is-a Car. <br>\n",
    "\n",
    "* The object named give_me_a_yugo is an instance of class Yugo, but it also inherits whatever a Car can do."
   ]
  },
  {
   "cell_type": "markdown",
   "metadata": {},
   "source": [
    "#### (2) trial 2: a class that prints something"
   ]
  },
  {
   "cell_type": "code",
   "execution_count": 808,
   "metadata": {},
   "outputs": [],
   "source": [
    "# parent\n",
    "class Car():\n",
    "    def exclaim(self):        # create a function\n",
    "        print(\"I'm a Car!\") \n",
    "\n",
    "# child\n",
    "class Yugo(Car): \n",
    "    pass"
   ]
  },
  {
   "cell_type": "code",
   "execution_count": 810,
   "metadata": {},
   "outputs": [
    {
     "name": "stdout",
     "output_type": "stream",
     "text": [
      "I'm a Car!\n",
      "I'm a Car!\n"
     ]
    }
   ],
   "source": [
    "# create objects \n",
    "give_me_a_car = Car()\n",
    "give_me_a_yugo = Yugo()\n",
    "\n",
    "# call the exclaim method:\n",
    "give_me_a_car.exclaim()\n",
    "give_me_a_yugo.exclaim()"
   ]
  },
  {
   "cell_type": "markdown",
   "metadata": {},
   "source": [
    "### Override a Method"
   ]
  },
  {
   "cell_type": "markdown",
   "metadata": {},
   "source": [
    "#### (3) trial 3: make `child` different from `parent`"
   ]
  },
  {
   "cell_type": "code",
   "execution_count": 811,
   "metadata": {},
   "outputs": [],
   "source": [
    "# parent\n",
    "class Car():\n",
    "    def exclaim(self):\n",
    "        print(\"I'm a Car!\")\n",
    "\n",
    "# child\n",
    "class Yugo(Car):\n",
    "    def exclaim(self):\n",
    "        print(\"I'm a Yugo! Much like a Car, but more Yugo-ish.\")"
   ]
  },
  {
   "cell_type": "code",
   "execution_count": 812,
   "metadata": {},
   "outputs": [
    {
     "name": "stdout",
     "output_type": "stream",
     "text": [
      "I'm a Car!\n",
      "I'm a Yugo! Much like a Car, but more Yugo-ish.\n"
     ]
    }
   ],
   "source": [
    "# create objects \n",
    "give_me_a_car = Car()\n",
    "give_me_a_yugo = Yugo()\n",
    "\n",
    "# call the exclaim method:\n",
    "give_me_a_car.exclaim()\n",
    "give_me_a_yugo.exclaim()"
   ]
  },
  {
   "cell_type": "markdown",
   "metadata": {},
   "source": [
    "* We can override any methods, including \\_ \\_init\\_ \\_( )."
   ]
  },
  {
   "cell_type": "code",
   "execution_count": 813,
   "metadata": {},
   "outputs": [],
   "source": [
    "# parent \n",
    "class Person():\n",
    "    def __init__(self, name):\n",
    "        self.name = name\n",
    "\n",
    "# child 1\n",
    "class MDPerson(Person):\n",
    "    def __init__(self, name):\n",
    "        self.name = \"Doctor \" + name      #  \"self.name\" is changed \n",
    "\n",
    "# child 2\n",
    "class JDPerson(Person):\n",
    "    def __init__(self, name):\n",
    "        self.name = name + \", Esquire\"     #  \"self.name\" is changed "
   ]
  },
  {
   "cell_type": "code",
   "execution_count": 814,
   "metadata": {},
   "outputs": [
    {
     "name": "stdout",
     "output_type": "stream",
     "text": [
      "Fudd\n",
      "Doctor Fudd\n",
      "Fudd, Esquire\n"
     ]
    }
   ],
   "source": [
    "# create objects \n",
    "person = Person('Fudd') \n",
    "doctor = MDPerson('Fudd') \n",
    "lawyer = JDPerson('Fudd')\n",
    "\n",
    "# call the exclaim method:\n",
    "print(person.name)\n",
    "print(doctor.name)\n",
    "print(lawyer.name)"
   ]
  },
  {
   "cell_type": "markdown",
   "metadata": {},
   "source": [
    "### Add a Method"
   ]
  },
  {
   "cell_type": "markdown",
   "metadata": {},
   "source": [
    "* The child class can also add a method that was not present in its parent class."
   ]
  },
  {
   "cell_type": "code",
   "execution_count": 815,
   "metadata": {},
   "outputs": [],
   "source": [
    "# parent\n",
    "class Car():\n",
    "    def exclaim(self):\n",
    "        print(\"I'm a Car!\") \n",
    "\n",
    "# child \n",
    "class Yugo(Car):\n",
    "    def exclaim(self):\n",
    "        print(\"I'm a Yugo! Much like a Car, but more Yugo-ish.\")\n",
    "    def need_a_push(self):\n",
    "        print(\"A little help here?\")"
   ]
  },
  {
   "cell_type": "code",
   "execution_count": 816,
   "metadata": {},
   "outputs": [
    {
     "name": "stdout",
     "output_type": "stream",
     "text": [
      "I'm a Car!\n",
      "I'm a Yugo! Much like a Car, but more Yugo-ish.\n",
      "A little help here?\n"
     ]
    }
   ],
   "source": [
    "#  create objects \n",
    "give_me_a_car = Car()\n",
    "give_me_a_yugo = Yugo()\n",
    "\n",
    "# call methods\n",
    "give_me_a_car.exclaim()\n",
    "give_me_a_yugo.exclaim()\n",
    "give_me_a_yugo.need_a_push()"
   ]
  },
  {
   "cell_type": "markdown",
   "metadata": {},
   "source": [
    "### super() - Get Help from Your Parent  "
   ]
  },
  {
   "cell_type": "markdown",
   "metadata": {},
   "source": [
    "* What if it wanted to call that parent method? Use super() function."
   ]
  },
  {
   "cell_type": "code",
   "execution_count": 819,
   "metadata": {},
   "outputs": [],
   "source": [
    "# define Person():\n",
    "\n",
    "class Person():\n",
    "    def __init__(self, name):  \n",
    "        self.name = name"
   ]
  },
  {
   "cell_type": "code",
   "execution_count": 820,
   "metadata": {},
   "outputs": [],
   "source": [
    "# add EmailPerson():\n",
    "\n",
    "class EmailPerson(Person):\n",
    "    def __init__(self, name, email): \n",
    "        super().__init__(name) \n",
    "        self.email = email"
   ]
  },
  {
   "cell_type": "markdown",
   "metadata": {},
   "source": [
    "* When you define an \\_ \\_init\\_ \\_() method for your class, you’re replacing the \\_ \\_init\\_ \\_() method of its parent class, <br>\n",
    "and the latter is not called automatically anymore. As a result, we need to call it explicitly."
   ]
  },
  {
   "cell_type": "code",
   "execution_count": 824,
   "metadata": {},
   "outputs": [
    {
     "data": {
      "text/plain": [
       "'Bob Frapples'"
      ]
     },
     "execution_count": 824,
     "metadata": {},
     "output_type": "execute_result"
    },
    {
     "data": {
      "text/plain": [
       "'bob@frapples.com'"
      ]
     },
     "execution_count": 824,
     "metadata": {},
     "output_type": "execute_result"
    }
   ],
   "source": [
    "# create subjects: \n",
    "bob = EmailPerson('Bob Frapples', 'bob@frapples.com')\n",
    "\n",
    "# access name: \n",
    "bob.name\n",
    "\n",
    "# access email:\n",
    "bob.email"
   ]
  },
  {
   "cell_type": "code",
   "execution_count": 825,
   "metadata": {},
   "outputs": [],
   "source": [
    "# Why didn’t we just define our new class as follows?\n",
    "\n",
    "class EmailPerson(Person):\n",
    "    def __init__(self, name, email): \n",
    "        self.name = name\n",
    "        self.email = email"
   ]
  },
  {
   "cell_type": "markdown",
   "metadata": {},
   "source": [
    "* Pro 1: It would have defeated our use of inheritance. We used super() to make Person do its work, <br> \n",
    "the same as a plain Person object would. <br>\n",
    "\n",
    "* Pro 2: If the definition of Person changes in the future, <br>\n",
    "using super() will ensure that the attributes and methods that EmailPerson inherits from Person will reflect the change."
   ]
  },
  {
   "cell_type": "markdown",
   "metadata": {},
   "source": [
    "### In self Defense"
   ]
  },
  {
   "cell_type": "markdown",
   "metadata": {},
   "source": [
    "* One criticism of Python is the need to include self as the first argument to instance methods. <BR>\n",
    "Python uses the self argument to find the right object’s attributes and methods. "
   ]
  },
  {
   "cell_type": "code",
   "execution_count": 826,
   "metadata": {},
   "outputs": [
    {
     "name": "stdout",
     "output_type": "stream",
     "text": [
      "I'm a Car!\n"
     ]
    }
   ],
   "source": [
    "# call exclaim() method: \n",
    "\n",
    "car = Car()\n",
    "car.exclaim()"
   ]
  },
  {
   "cell_type": "markdown",
   "metadata": {},
   "source": [
    "Here’s what Python actually does, under the hood:<br>\n",
    "• Look up the class (Car) of the object car.<br>\n",
    "• Pass the object car to the exclaim() method of the Car class as the self parameter."
   ]
  },
  {
   "cell_type": "markdown",
   "metadata": {},
   "source": [
    "### Get and Set Attribute Values with Properties (omitted p.153)"
   ]
  },
  {
   "cell_type": "markdown",
   "metadata": {},
   "source": [
    "In this example, we’ll define a Duck class with a single attribute called hidden_name.<br>\n",
    "We don’t want people to access this directly, so we’ll define two methods: a getter (get_name()) and a setter (set_name()). <br>\n",
    "I’ve added a print() statement to each method to show when it’s being called. <br>\n",
    "Finally, we define these methods as properties of the name attribute:"
   ]
  },
  {
   "cell_type": "code",
   "execution_count": 849,
   "metadata": {},
   "outputs": [],
   "source": [
    "class Duck():\n",
    "    def __init__(self, input_name): \n",
    "        self.hidden_name = input_name\n",
    "    def get_name(self): \n",
    "        print('inside the getter') \n",
    "        return self.hidden_name\n",
    "    def set_name(self, input_name): \n",
    "        print('inside the setter') \n",
    "        self.hidden_name = input_name\n",
    "    name = property(get_name, set_name)"
   ]
  },
  {
   "cell_type": "code",
   "execution_count": 851,
   "metadata": {},
   "outputs": [
    {
     "name": "stdout",
     "output_type": "stream",
     "text": [
      "inside the getter\n"
     ]
    },
    {
     "data": {
      "text/plain": [
       "'Howard'"
      ]
     },
     "execution_count": 851,
     "metadata": {},
     "output_type": "execute_result"
    },
    {
     "name": "stdout",
     "output_type": "stream",
     "text": [
      "inside the getter\n"
     ]
    },
    {
     "data": {
      "text/plain": [
       "'Howard'"
      ]
     },
     "execution_count": 851,
     "metadata": {},
     "output_type": "execute_result"
    }
   ],
   "source": [
    "# when you refer to the name of any Duck object, it actually calls the get_name() method to return it:\n",
    "# call get_name()\n",
    "\n",
    "# method 1 \n",
    "fowl = Duck('Howard')\n",
    "fowl.name\n",
    "\n",
    "# method 2\n",
    "fowl.get_name()"
   ]
  },
  {
   "cell_type": "code",
   "execution_count": 855,
   "metadata": {},
   "outputs": [
    {
     "name": "stdout",
     "output_type": "stream",
     "text": [
      "inside the setter\n",
      "inside the getter\n"
     ]
    },
    {
     "data": {
      "text/plain": [
       "'Daffy'"
      ]
     },
     "execution_count": 855,
     "metadata": {},
     "output_type": "execute_result"
    },
    {
     "name": "stdout",
     "output_type": "stream",
     "text": [
      "inside the setter\n",
      "inside the getter\n"
     ]
    },
    {
     "data": {
      "text/plain": [
       "'Daffy'"
      ]
     },
     "execution_count": 855,
     "metadata": {},
     "output_type": "execute_result"
    }
   ],
   "source": [
    "# When you assign a value to the name attribute, the set_name() method will be called:\n",
    "# call set_name()\n",
    "\n",
    "# method 1\n",
    "fowl.name = 'Daffy'\n",
    "fowl.name\n",
    "\n",
    "# method 2\n",
    "fowl.set_name('Daffy')\n",
    "fowl.name"
   ]
  }
 ],
 "metadata": {
  "kernelspec": {
   "display_name": "Python 3",
   "language": "python",
   "name": "python3"
  },
  "language_info": {
   "codemirror_mode": {
    "name": "ipython",
    "version": 3
   },
   "file_extension": ".py",
   "mimetype": "text/x-python",
   "name": "python",
   "nbconvert_exporter": "python",
   "pygments_lexer": "ipython3",
   "version": "3.8.2"
  }
 },
 "nbformat": 4,
 "nbformat_minor": 4
}
